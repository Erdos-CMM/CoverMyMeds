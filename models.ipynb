{
 "cells": [
  {
   "cell_type": "markdown",
   "id": "e0671d9e",
   "metadata": {},
   "source": [
    "# Model Selection Claim Approval\n",
    "\n",
    "Selecting a model that performs as the best classifier for predicting whether an ePA will be approved or not."
   ]
  },
  {
   "cell_type": "code",
   "execution_count": 23,
   "id": "ec8d0097",
   "metadata": {},
   "outputs": [],
   "source": [
    "import pandas as pd\n",
    "import numpy as np\n",
    "import seaborn as sns\n",
    "import datetime\n",
    "import matplotlib.pyplot as plt\n",
    "from pandas_profiling import ProfileReport\n",
    "\n",
    "sns.set_theme(style=\"whitegrid\")\n",
    "sns.set(rc={'figure.figsize':(8.0,6.0)})"
   ]
  },
  {
   "cell_type": "code",
   "execution_count": 24,
   "id": "54957aa6",
   "metadata": {},
   "outputs": [],
   "source": [
    "data = pd.read_csv('data/training/train.csv')\n",
    "test = pd.read_csv('data/training/test.csv')"
   ]
  },
  {
   "cell_type": "code",
   "execution_count": 10,
   "id": "ce1b9c0e-9fc0-48e6-a01c-e3ff343418cc",
   "metadata": {},
   "outputs": [],
   "source": [
    "# data.head()\n",
    "# data.profile_report()"
   ]
  },
  {
   "cell_type": "code",
   "execution_count": 25,
   "id": "2e65d793",
   "metadata": {},
   "outputs": [],
   "source": [
    "# We focus on the claims that were not approved, and require an ePA.\n",
    "data = data[data['pharmacy_claim_approved']==0]\n",
    "test = test[test['pharmacy_claim_approved']==0]"
   ]
  },
  {
   "cell_type": "code",
   "execution_count": 14,
   "id": "0560b594-56a1-4acc-a821-74cd63d49992",
   "metadata": {},
   "outputs": [],
   "source": [
    "# data.head()\n",
    "# data.profile_report()"
   ]
  },
  {
   "cell_type": "markdown",
   "id": "5120646f",
   "metadata": {},
   "source": [
    "We can drop the id's, since these are useful indices but not useful for classification."
   ]
  },
  {
   "cell_type": "code",
   "execution_count": 26,
   "id": "56c114dc",
   "metadata": {},
   "outputs": [],
   "source": [
    "id_columns = ['dim_pa_id','dim_date_id','dim_claim_id','Unnamed: 0']"
   ]
  },
  {
   "cell_type": "markdown",
   "id": "83a5acb8",
   "metadata": {},
   "source": [
    "We can also drop the year, since this is not cyclical."
   ]
  },
  {
   "cell_type": "code",
   "execution_count": 27,
   "id": "5b7688f0",
   "metadata": {},
   "outputs": [],
   "source": [
    "date_columns = ['calendar_year','date_val']"
   ]
  },
  {
   "cell_type": "code",
   "execution_count": 28,
   "id": "0bba668b",
   "metadata": {},
   "outputs": [],
   "source": [
    "data = data.drop(columns=id_columns+date_columns+['pharmacy_claim_approved'])\n",
    "test = test.drop(columns=id_columns+date_columns+['pharmacy_claim_approved'])"
   ]
  },
  {
   "cell_type": "code",
   "execution_count": 19,
   "id": "85a58175",
   "metadata": {},
   "outputs": [
    {
     "data": {
      "text/html": [
       "<div>\n",
       "<style scoped>\n",
       "    .dataframe tbody tr th:only-of-type {\n",
       "        vertical-align: middle;\n",
       "    }\n",
       "\n",
       "    .dataframe tbody tr th {\n",
       "        vertical-align: top;\n",
       "    }\n",
       "\n",
       "    .dataframe thead th {\n",
       "        text-align: right;\n",
       "    }\n",
       "</style>\n",
       "<table border=\"1\" class=\"dataframe\">\n",
       "  <thead>\n",
       "    <tr style=\"text-align: right;\">\n",
       "      <th></th>\n",
       "      <th>calendar_month</th>\n",
       "      <th>calendar_day</th>\n",
       "      <th>day_of_week</th>\n",
       "      <th>is_weekday</th>\n",
       "      <th>is_workday</th>\n",
       "      <th>is_holiday</th>\n",
       "      <th>bin</th>\n",
       "      <th>drug</th>\n",
       "      <th>reject_code</th>\n",
       "      <th>pharmacy_claim_approved</th>\n",
       "      <th>correct_diagnosis</th>\n",
       "      <th>tried_and_failed</th>\n",
       "      <th>contraindication</th>\n",
       "      <th>pa_approved</th>\n",
       "    </tr>\n",
       "  </thead>\n",
       "  <tbody>\n",
       "    <tr>\n",
       "      <th>2</th>\n",
       "      <td>11</td>\n",
       "      <td>11</td>\n",
       "      <td>2</td>\n",
       "      <td>1</td>\n",
       "      <td>1</td>\n",
       "      <td>0</td>\n",
       "      <td>417740</td>\n",
       "      <td>B</td>\n",
       "      <td>70</td>\n",
       "      <td>0</td>\n",
       "      <td>1.0</td>\n",
       "      <td>1.0</td>\n",
       "      <td>0.0</td>\n",
       "      <td>0.0</td>\n",
       "    </tr>\n",
       "    <tr>\n",
       "      <th>3</th>\n",
       "      <td>6</td>\n",
       "      <td>28</td>\n",
       "      <td>6</td>\n",
       "      <td>1</td>\n",
       "      <td>1</td>\n",
       "      <td>0</td>\n",
       "      <td>999001</td>\n",
       "      <td>A</td>\n",
       "      <td>76</td>\n",
       "      <td>0</td>\n",
       "      <td>1.0</td>\n",
       "      <td>0.0</td>\n",
       "      <td>0.0</td>\n",
       "      <td>1.0</td>\n",
       "    </tr>\n",
       "    <tr>\n",
       "      <th>11</th>\n",
       "      <td>7</td>\n",
       "      <td>31</td>\n",
       "      <td>4</td>\n",
       "      <td>1</td>\n",
       "      <td>1</td>\n",
       "      <td>0</td>\n",
       "      <td>417740</td>\n",
       "      <td>C</td>\n",
       "      <td>75</td>\n",
       "      <td>0</td>\n",
       "      <td>0.0</td>\n",
       "      <td>0.0</td>\n",
       "      <td>0.0</td>\n",
       "      <td>1.0</td>\n",
       "    </tr>\n",
       "    <tr>\n",
       "      <th>19</th>\n",
       "      <td>2</td>\n",
       "      <td>21</td>\n",
       "      <td>4</td>\n",
       "      <td>1</td>\n",
       "      <td>1</td>\n",
       "      <td>0</td>\n",
       "      <td>417614</td>\n",
       "      <td>B</td>\n",
       "      <td>75</td>\n",
       "      <td>0</td>\n",
       "      <td>1.0</td>\n",
       "      <td>1.0</td>\n",
       "      <td>0.0</td>\n",
       "      <td>1.0</td>\n",
       "    </tr>\n",
       "    <tr>\n",
       "      <th>20</th>\n",
       "      <td>6</td>\n",
       "      <td>28</td>\n",
       "      <td>5</td>\n",
       "      <td>1</td>\n",
       "      <td>1</td>\n",
       "      <td>0</td>\n",
       "      <td>417740</td>\n",
       "      <td>C</td>\n",
       "      <td>75</td>\n",
       "      <td>0</td>\n",
       "      <td>0.0</td>\n",
       "      <td>1.0</td>\n",
       "      <td>0.0</td>\n",
       "      <td>0.0</td>\n",
       "    </tr>\n",
       "  </tbody>\n",
       "</table>\n",
       "</div>"
      ],
      "text/plain": [
       "    calendar_month  calendar_day  day_of_week  is_weekday  is_workday  \\\n",
       "2               11            11            2           1           1   \n",
       "3                6            28            6           1           1   \n",
       "11               7            31            4           1           1   \n",
       "19               2            21            4           1           1   \n",
       "20               6            28            5           1           1   \n",
       "\n",
       "    is_holiday     bin drug  reject_code  pharmacy_claim_approved  \\\n",
       "2            0  417740    B           70                        0   \n",
       "3            0  999001    A           76                        0   \n",
       "11           0  417740    C           75                        0   \n",
       "19           0  417614    B           75                        0   \n",
       "20           0  417740    C           75                        0   \n",
       "\n",
       "    correct_diagnosis  tried_and_failed  contraindication  pa_approved  \n",
       "2                 1.0               1.0               0.0          0.0  \n",
       "3                 1.0               0.0               0.0          1.0  \n",
       "11                0.0               0.0               0.0          1.0  \n",
       "19                1.0               1.0               0.0          1.0  \n",
       "20                0.0               1.0               0.0          0.0  "
      ]
     },
     "execution_count": 19,
     "metadata": {},
     "output_type": "execute_result"
    }
   ],
   "source": [
    "data.head()"
   ]
  },
  {
   "cell_type": "code",
   "execution_count": 29,
   "id": "4a864a64",
   "metadata": {},
   "outputs": [],
   "source": [
    "def encode(data,feature,prefix=''):\n",
    "    for feat in np.unique(data[feature]):\n",
    "        data[prefix+'_'+str(feat)] = pd.get_dummies(data[feature])[feat]\n",
    "    data = data.drop(columns=[feature])\n",
    "    return data"
   ]
  },
  {
   "cell_type": "code",
   "execution_count": 30,
   "id": "374e771a",
   "metadata": {},
   "outputs": [],
   "source": [
    "# Encode the data \n",
    "\n",
    "data = encode(data,'drug','drug')\n",
    "\n",
    "test = encode(test,'drug','drug')\n",
    "\n",
    "data = encode(data,'bin','payer')\n",
    "\n",
    "test = encode(test,'bin','payer')\n",
    "\n",
    "data = encode(data,'reject_code','reject_code')\n",
    "\n",
    "test = encode(test,'reject_code','reject_code')"
   ]
  },
  {
   "cell_type": "code",
   "execution_count": 31,
   "id": "5f263282",
   "metadata": {},
   "outputs": [
    {
     "data": {
      "text/html": [
       "<div>\n",
       "<style scoped>\n",
       "    .dataframe tbody tr th:only-of-type {\n",
       "        vertical-align: middle;\n",
       "    }\n",
       "\n",
       "    .dataframe tbody tr th {\n",
       "        vertical-align: top;\n",
       "    }\n",
       "\n",
       "    .dataframe thead th {\n",
       "        text-align: right;\n",
       "    }\n",
       "</style>\n",
       "<table border=\"1\" class=\"dataframe\">\n",
       "  <thead>\n",
       "    <tr style=\"text-align: right;\">\n",
       "      <th></th>\n",
       "      <th>calendar_month</th>\n",
       "      <th>calendar_day</th>\n",
       "      <th>day_of_week</th>\n",
       "      <th>is_weekday</th>\n",
       "      <th>is_workday</th>\n",
       "      <th>is_holiday</th>\n",
       "      <th>correct_diagnosis</th>\n",
       "      <th>tried_and_failed</th>\n",
       "      <th>contraindication</th>\n",
       "      <th>pa_approved</th>\n",
       "      <th>drug_A</th>\n",
       "      <th>drug_B</th>\n",
       "      <th>drug_C</th>\n",
       "      <th>payer_417380</th>\n",
       "      <th>payer_417614</th>\n",
       "      <th>payer_417740</th>\n",
       "      <th>payer_999001</th>\n",
       "      <th>reject_code_70</th>\n",
       "      <th>reject_code_75</th>\n",
       "      <th>reject_code_76</th>\n",
       "    </tr>\n",
       "  </thead>\n",
       "  <tbody>\n",
       "    <tr>\n",
       "      <th>2</th>\n",
       "      <td>11</td>\n",
       "      <td>11</td>\n",
       "      <td>2</td>\n",
       "      <td>1</td>\n",
       "      <td>1</td>\n",
       "      <td>0</td>\n",
       "      <td>1.0</td>\n",
       "      <td>1.0</td>\n",
       "      <td>0.0</td>\n",
       "      <td>0.0</td>\n",
       "      <td>0</td>\n",
       "      <td>1</td>\n",
       "      <td>0</td>\n",
       "      <td>0</td>\n",
       "      <td>0</td>\n",
       "      <td>1</td>\n",
       "      <td>0</td>\n",
       "      <td>1</td>\n",
       "      <td>0</td>\n",
       "      <td>0</td>\n",
       "    </tr>\n",
       "    <tr>\n",
       "      <th>3</th>\n",
       "      <td>6</td>\n",
       "      <td>28</td>\n",
       "      <td>6</td>\n",
       "      <td>1</td>\n",
       "      <td>1</td>\n",
       "      <td>0</td>\n",
       "      <td>1.0</td>\n",
       "      <td>0.0</td>\n",
       "      <td>0.0</td>\n",
       "      <td>1.0</td>\n",
       "      <td>1</td>\n",
       "      <td>0</td>\n",
       "      <td>0</td>\n",
       "      <td>0</td>\n",
       "      <td>0</td>\n",
       "      <td>0</td>\n",
       "      <td>1</td>\n",
       "      <td>0</td>\n",
       "      <td>0</td>\n",
       "      <td>1</td>\n",
       "    </tr>\n",
       "    <tr>\n",
       "      <th>11</th>\n",
       "      <td>7</td>\n",
       "      <td>31</td>\n",
       "      <td>4</td>\n",
       "      <td>1</td>\n",
       "      <td>1</td>\n",
       "      <td>0</td>\n",
       "      <td>0.0</td>\n",
       "      <td>0.0</td>\n",
       "      <td>0.0</td>\n",
       "      <td>1.0</td>\n",
       "      <td>0</td>\n",
       "      <td>0</td>\n",
       "      <td>1</td>\n",
       "      <td>0</td>\n",
       "      <td>0</td>\n",
       "      <td>1</td>\n",
       "      <td>0</td>\n",
       "      <td>0</td>\n",
       "      <td>1</td>\n",
       "      <td>0</td>\n",
       "    </tr>\n",
       "    <tr>\n",
       "      <th>19</th>\n",
       "      <td>2</td>\n",
       "      <td>21</td>\n",
       "      <td>4</td>\n",
       "      <td>1</td>\n",
       "      <td>1</td>\n",
       "      <td>0</td>\n",
       "      <td>1.0</td>\n",
       "      <td>1.0</td>\n",
       "      <td>0.0</td>\n",
       "      <td>1.0</td>\n",
       "      <td>0</td>\n",
       "      <td>1</td>\n",
       "      <td>0</td>\n",
       "      <td>0</td>\n",
       "      <td>1</td>\n",
       "      <td>0</td>\n",
       "      <td>0</td>\n",
       "      <td>0</td>\n",
       "      <td>1</td>\n",
       "      <td>0</td>\n",
       "    </tr>\n",
       "    <tr>\n",
       "      <th>20</th>\n",
       "      <td>6</td>\n",
       "      <td>28</td>\n",
       "      <td>5</td>\n",
       "      <td>1</td>\n",
       "      <td>1</td>\n",
       "      <td>0</td>\n",
       "      <td>0.0</td>\n",
       "      <td>1.0</td>\n",
       "      <td>0.0</td>\n",
       "      <td>0.0</td>\n",
       "      <td>0</td>\n",
       "      <td>0</td>\n",
       "      <td>1</td>\n",
       "      <td>0</td>\n",
       "      <td>0</td>\n",
       "      <td>1</td>\n",
       "      <td>0</td>\n",
       "      <td>0</td>\n",
       "      <td>1</td>\n",
       "      <td>0</td>\n",
       "    </tr>\n",
       "  </tbody>\n",
       "</table>\n",
       "</div>"
      ],
      "text/plain": [
       "    calendar_month  calendar_day  day_of_week  is_weekday  is_workday  \\\n",
       "2               11            11            2           1           1   \n",
       "3                6            28            6           1           1   \n",
       "11               7            31            4           1           1   \n",
       "19               2            21            4           1           1   \n",
       "20               6            28            5           1           1   \n",
       "\n",
       "    is_holiday  correct_diagnosis  tried_and_failed  contraindication  \\\n",
       "2            0                1.0               1.0               0.0   \n",
       "3            0                1.0               0.0               0.0   \n",
       "11           0                0.0               0.0               0.0   \n",
       "19           0                1.0               1.0               0.0   \n",
       "20           0                0.0               1.0               0.0   \n",
       "\n",
       "    pa_approved  drug_A  drug_B  drug_C  payer_417380  payer_417614  \\\n",
       "2           0.0       0       1       0             0             0   \n",
       "3           1.0       1       0       0             0             0   \n",
       "11          1.0       0       0       1             0             0   \n",
       "19          1.0       0       1       0             0             1   \n",
       "20          0.0       0       0       1             0             0   \n",
       "\n",
       "    payer_417740  payer_999001  reject_code_70  reject_code_75  reject_code_76  \n",
       "2              1             0               1               0               0  \n",
       "3              0             1               0               0               1  \n",
       "11             1             0               0               1               0  \n",
       "19             0             0               0               1               0  \n",
       "20             1             0               0               1               0  "
      ]
     },
     "execution_count": 31,
     "metadata": {},
     "output_type": "execute_result"
    }
   ],
   "source": [
    "data.head()"
   ]
  },
  {
   "cell_type": "code",
   "execution_count": 68,
   "id": "85261543",
   "metadata": {},
   "outputs": [],
   "source": [
    "X = data.drop(columns=['pa_approved'])\n",
    "y = data['pa_approved']\n",
    "\n",
    "X_test = test.drop(columns=['pa_approved'])\n",
    "y_test = test['pa_approved']"
   ]
  },
  {
   "cell_type": "markdown",
   "id": "d45a7379",
   "metadata": {},
   "source": [
    "## Models to Assess \n",
    "\n",
    "We will compare the following models \n",
    "* baseline: classify all ePA's as approved\n",
    "* logistic regression\n",
    "* random forest\n",
    "* decision tree\n",
    "* extra trees\n",
    "* Naive Bayes classifier \n",
    "* linear support vector machine\n",
    "* adaptive boosting \n",
    "* gradient boosting\n",
    "* xg boosting "
   ]
  },
  {
   "cell_type": "code",
   "execution_count": 69,
   "id": "ab539e74",
   "metadata": {},
   "outputs": [],
   "source": [
    "# Import our models \n",
    "from sklearn.tree import DecisionTreeClassifier\n",
    "from sklearn.ensemble import RandomForestClassifier\n",
    "from sklearn.ensemble import ExtraTreesClassifier\n",
    "from sklearn.linear_model import LogisticRegression\n",
    "from sklearn.svm import LinearSVC\n",
    "from sklearn.ensemble import AdaBoostClassifier\n",
    "from sklearn.naive_bayes import CategoricalNB\n",
    "from sklearn.ensemble import GradientBoostingClassifier\n",
    "\n",
    "\n",
    "from xgboost import XGBClassifier"
   ]
  },
  {
   "cell_type": "code",
   "execution_count": 70,
   "id": "5c916725",
   "metadata": {},
   "outputs": [],
   "source": [
    "# Import some useful metrics\n",
    "from sklearn.metrics import accuracy_score, precision_score, recall_score\n",
    "from sklearn.metrics import f1_score, roc_auc_score"
   ]
  },
  {
   "cell_type": "code",
   "execution_count": 71,
   "id": "91acf99e",
   "metadata": {},
   "outputs": [],
   "source": [
    "# Define our baseline \"classifier\" \n",
    "\n",
    "def ePA_base_classifier(X):\n",
    "    \n",
    "    return np.array([1]*X.shape[0])"
   ]
  },
  {
   "cell_type": "code",
   "execution_count": 72,
   "id": "74f43b35",
   "metadata": {},
   "outputs": [],
   "source": [
    "metrics = {'accuracy':accuracy_score,'precision':precision_score,'recall':recall_score,\n",
    "          'f1':f1_score,'roc_auc':roc_auc_score}"
   ]
  },
  {
   "cell_type": "code",
   "execution_count": 73,
   "id": "6a2fda76",
   "metadata": {},
   "outputs": [],
   "source": [
    "from sklearn.model_selection import StratifiedKFold, KFold"
   ]
  },
  {
   "cell_type": "code",
   "execution_count": 85,
   "id": "85497a6b",
   "metadata": {},
   "outputs": [],
   "source": [
    "def evaluate_model(model):\n",
    "    \n",
    "    scores = {metric:[] for metric in metrics.keys()}\n",
    "    SKF = StratifiedKFold(n_splits=5)\n",
    "    k = 0\n",
    "    for train_idx, test_idx in SKF.split(X.values, y.values):\n",
    "        print('On data split # ',k)\n",
    "        model.fit(X.values[train_idx],y.values[train_idx])\n",
    "        ykpred = model.predict(X.values[test_idx])\n",
    "        for i, (metric,score) in enumerate(metrics.items()):\n",
    "            scores[metric].append(score(y.values[test_idx], ykpred))\n",
    "        k+=1\n",
    "    \n",
    "    return pd.DataFrame(scores)"
   ]
  },
  {
   "cell_type": "code",
   "execution_count": 90,
   "id": "62059365",
   "metadata": {},
   "outputs": [],
   "source": [
    "### Evaluate the models"
   ]
  },
  {
   "cell_type": "code",
   "execution_count": 87,
   "id": "6bf09314",
   "metadata": {},
   "outputs": [
    {
     "name": "stdout",
     "output_type": "stream",
     "text": [
      "On data split #  0\n",
      "On data split #  1\n",
      "On data split #  2\n",
      "On data split #  3\n",
      "On data split #  4\n"
     ]
    }
   ],
   "source": [
    "DT_scores = evaluate_model(DecisionTreeClassifier())"
   ]
  },
  {
   "cell_type": "code",
   "execution_count": 89,
   "id": "aa0a1a56",
   "metadata": {},
   "outputs": [
    {
     "data": {
      "text/plain": [
       "accuracy     0.784465\n",
       "precision    0.845472\n",
       "recall       0.864675\n",
       "f1           0.854965\n",
       "roc_auc      0.713503\n",
       "dtype: float64"
      ]
     },
     "execution_count": 89,
     "metadata": {},
     "output_type": "execute_result"
    }
   ],
   "source": [
    "DT_scores.mean()"
   ]
  },
  {
   "cell_type": "code",
   "execution_count": 91,
   "id": "df4b8c4a",
   "metadata": {},
   "outputs": [
    {
     "name": "stdout",
     "output_type": "stream",
     "text": [
      "On data split #  0\n",
      "On data split #  1\n",
      "On data split #  2\n",
      "On data split #  3\n",
      "On data split #  4\n"
     ]
    }
   ],
   "source": [
    "RF_scores = evaluate_model(RandomForestClassifier())"
   ]
  },
  {
   "cell_type": "code",
   "execution_count": 92,
   "id": "56aeb01c",
   "metadata": {},
   "outputs": [
    {
     "data": {
      "text/plain": [
       "accuracy     0.791577\n",
       "precision    0.838005\n",
       "recall       0.887970\n",
       "f1           0.862264\n",
       "roc_auc      0.706298\n",
       "dtype: float64"
      ]
     },
     "execution_count": 92,
     "metadata": {},
     "output_type": "execute_result"
    }
   ],
   "source": [
    "RF_scores.mean()"
   ]
  },
  {
   "cell_type": "code",
   "execution_count": 93,
   "id": "3334c407",
   "metadata": {},
   "outputs": [
    {
     "name": "stdout",
     "output_type": "stream",
     "text": [
      "On data split #  0\n",
      "On data split #  1\n",
      "On data split #  2\n",
      "On data split #  3\n",
      "On data split #  4\n"
     ]
    }
   ],
   "source": [
    "ET_scores = evaluate_model(ExtraTreesClassifier())"
   ]
  },
  {
   "cell_type": "code",
   "execution_count": 94,
   "id": "da3fb0c5",
   "metadata": {},
   "outputs": [
    {
     "data": {
      "text/plain": [
       "accuracy     0.787493\n",
       "precision    0.845711\n",
       "recall       0.869364\n",
       "f1           0.857374\n",
       "roc_auc      0.715063\n",
       "dtype: float64"
      ]
     },
     "execution_count": 94,
     "metadata": {},
     "output_type": "execute_result"
    }
   ],
   "source": [
    "ET_scores.mean()"
   ]
  },
  {
   "cell_type": "code",
   "execution_count": 98,
   "id": "bc1d16b2",
   "metadata": {},
   "outputs": [
    {
     "name": "stdout",
     "output_type": "stream",
     "text": [
      "On data split #  0\n"
     ]
    },
    {
     "name": "stderr",
     "output_type": "stream",
     "text": [
      "/Users/Emily/opt/anaconda3/lib/python3.8/site-packages/sklearn/linear_model/_logistic.py:814: ConvergenceWarning: lbfgs failed to converge (status=1):\n",
      "STOP: TOTAL NO. of ITERATIONS REACHED LIMIT.\n",
      "\n",
      "Increase the number of iterations (max_iter) or scale the data as shown in:\n",
      "    https://scikit-learn.org/stable/modules/preprocessing.html\n",
      "Please also refer to the documentation for alternative solver options:\n",
      "    https://scikit-learn.org/stable/modules/linear_model.html#logistic-regression\n",
      "  n_iter_i = _check_optimize_result(\n"
     ]
    },
    {
     "name": "stdout",
     "output_type": "stream",
     "text": [
      "On data split #  1\n"
     ]
    },
    {
     "name": "stderr",
     "output_type": "stream",
     "text": [
      "/Users/Emily/opt/anaconda3/lib/python3.8/site-packages/sklearn/linear_model/_logistic.py:814: ConvergenceWarning: lbfgs failed to converge (status=1):\n",
      "STOP: TOTAL NO. of ITERATIONS REACHED LIMIT.\n",
      "\n",
      "Increase the number of iterations (max_iter) or scale the data as shown in:\n",
      "    https://scikit-learn.org/stable/modules/preprocessing.html\n",
      "Please also refer to the documentation for alternative solver options:\n",
      "    https://scikit-learn.org/stable/modules/linear_model.html#logistic-regression\n",
      "  n_iter_i = _check_optimize_result(\n"
     ]
    },
    {
     "name": "stdout",
     "output_type": "stream",
     "text": [
      "On data split #  2\n"
     ]
    },
    {
     "name": "stderr",
     "output_type": "stream",
     "text": [
      "/Users/Emily/opt/anaconda3/lib/python3.8/site-packages/sklearn/linear_model/_logistic.py:814: ConvergenceWarning: lbfgs failed to converge (status=1):\n",
      "STOP: TOTAL NO. of ITERATIONS REACHED LIMIT.\n",
      "\n",
      "Increase the number of iterations (max_iter) or scale the data as shown in:\n",
      "    https://scikit-learn.org/stable/modules/preprocessing.html\n",
      "Please also refer to the documentation for alternative solver options:\n",
      "    https://scikit-learn.org/stable/modules/linear_model.html#logistic-regression\n",
      "  n_iter_i = _check_optimize_result(\n"
     ]
    },
    {
     "name": "stdout",
     "output_type": "stream",
     "text": [
      "On data split #  3\n"
     ]
    },
    {
     "name": "stderr",
     "output_type": "stream",
     "text": [
      "/Users/Emily/opt/anaconda3/lib/python3.8/site-packages/sklearn/linear_model/_logistic.py:814: ConvergenceWarning: lbfgs failed to converge (status=1):\n",
      "STOP: TOTAL NO. of ITERATIONS REACHED LIMIT.\n",
      "\n",
      "Increase the number of iterations (max_iter) or scale the data as shown in:\n",
      "    https://scikit-learn.org/stable/modules/preprocessing.html\n",
      "Please also refer to the documentation for alternative solver options:\n",
      "    https://scikit-learn.org/stable/modules/linear_model.html#logistic-regression\n",
      "  n_iter_i = _check_optimize_result(\n"
     ]
    },
    {
     "name": "stdout",
     "output_type": "stream",
     "text": [
      "On data split #  4\n"
     ]
    },
    {
     "name": "stderr",
     "output_type": "stream",
     "text": [
      "/Users/Emily/opt/anaconda3/lib/python3.8/site-packages/sklearn/linear_model/_logistic.py:814: ConvergenceWarning: lbfgs failed to converge (status=1):\n",
      "STOP: TOTAL NO. of ITERATIONS REACHED LIMIT.\n",
      "\n",
      "Increase the number of iterations (max_iter) or scale the data as shown in:\n",
      "    https://scikit-learn.org/stable/modules/preprocessing.html\n",
      "Please also refer to the documentation for alternative solver options:\n",
      "    https://scikit-learn.org/stable/modules/linear_model.html#logistic-regression\n",
      "  n_iter_i = _check_optimize_result(\n"
     ]
    }
   ],
   "source": [
    "LR_scores = evaluate_model(LogisticRegression(penalty='l2', C=1))"
   ]
  },
  {
   "cell_type": "code",
   "execution_count": 99,
   "id": "e648fcf9",
   "metadata": {},
   "outputs": [
    {
     "data": {
      "text/plain": [
       "accuracy     0.814436\n",
       "precision    0.838770\n",
       "recall       0.925307\n",
       "f1           0.879911\n",
       "roc_auc      0.716350\n",
       "dtype: float64"
      ]
     },
     "execution_count": 99,
     "metadata": {},
     "output_type": "execute_result"
    }
   ],
   "source": [
    "LR_scores.mean()"
   ]
  },
  {
   "cell_type": "code",
   "execution_count": 100,
   "id": "f7291dcc",
   "metadata": {},
   "outputs": [
    {
     "name": "stdout",
     "output_type": "stream",
     "text": [
      "On data split #  0\n"
     ]
    },
    {
     "name": "stderr",
     "output_type": "stream",
     "text": [
      "/Users/Emily/opt/anaconda3/lib/python3.8/site-packages/sklearn/svm/_base.py:1199: ConvergenceWarning: Liblinear failed to converge, increase the number of iterations.\n",
      "  warnings.warn(\n"
     ]
    },
    {
     "name": "stdout",
     "output_type": "stream",
     "text": [
      "On data split #  1\n"
     ]
    },
    {
     "name": "stderr",
     "output_type": "stream",
     "text": [
      "/Users/Emily/opt/anaconda3/lib/python3.8/site-packages/sklearn/svm/_base.py:1199: ConvergenceWarning: Liblinear failed to converge, increase the number of iterations.\n",
      "  warnings.warn(\n"
     ]
    },
    {
     "name": "stdout",
     "output_type": "stream",
     "text": [
      "On data split #  2\n"
     ]
    },
    {
     "name": "stderr",
     "output_type": "stream",
     "text": [
      "/Users/Emily/opt/anaconda3/lib/python3.8/site-packages/sklearn/svm/_base.py:1199: ConvergenceWarning: Liblinear failed to converge, increase the number of iterations.\n",
      "  warnings.warn(\n"
     ]
    },
    {
     "name": "stdout",
     "output_type": "stream",
     "text": [
      "On data split #  3\n"
     ]
    },
    {
     "name": "stderr",
     "output_type": "stream",
     "text": [
      "/Users/Emily/opt/anaconda3/lib/python3.8/site-packages/sklearn/svm/_base.py:1199: ConvergenceWarning: Liblinear failed to converge, increase the number of iterations.\n",
      "  warnings.warn(\n"
     ]
    },
    {
     "name": "stdout",
     "output_type": "stream",
     "text": [
      "On data split #  4\n"
     ]
    },
    {
     "name": "stderr",
     "output_type": "stream",
     "text": [
      "/Users/Emily/opt/anaconda3/lib/python3.8/site-packages/sklearn/svm/_base.py:1199: ConvergenceWarning: Liblinear failed to converge, increase the number of iterations.\n",
      "  warnings.warn(\n"
     ]
    }
   ],
   "source": [
    "LSV_scores = evaluate_model(LinearSVC())"
   ]
  },
  {
   "cell_type": "code",
   "execution_count": 101,
   "id": "90896f69",
   "metadata": {},
   "outputs": [
    {
     "data": {
      "text/plain": [
       "accuracy     0.810401\n",
       "precision    0.855662\n",
       "recall       0.894737\n",
       "f1           0.873667\n",
       "roc_auc      0.735790\n",
       "dtype: float64"
      ]
     },
     "execution_count": 101,
     "metadata": {},
     "output_type": "execute_result"
    }
   ],
   "source": [
    "LSV_scores.mean()"
   ]
  },
  {
   "cell_type": "code",
   "execution_count": 102,
   "id": "93782014",
   "metadata": {},
   "outputs": [
    {
     "name": "stdout",
     "output_type": "stream",
     "text": [
      "On data split #  0\n",
      "On data split #  1\n",
      "On data split #  2\n",
      "On data split #  3\n",
      "On data split #  4\n"
     ]
    }
   ],
   "source": [
    "ADB_scores = evaluate_model(AdaBoostClassifier(DecisionTreeClassifier(max_depth=1),\n",
    "            n_estimators = 10,\n",
    "            algorithm=\"SAMME.R\",\n",
    "            learning_rate = 0.5))"
   ]
  },
  {
   "cell_type": "code",
   "execution_count": 103,
   "id": "6c17e9ee",
   "metadata": {},
   "outputs": [
    {
     "data": {
      "text/plain": [
       "accuracy     0.800597\n",
       "precision    0.814769\n",
       "recall       0.942971\n",
       "f1           0.874195\n",
       "roc_auc      0.674640\n",
       "dtype: float64"
      ]
     },
     "execution_count": 103,
     "metadata": {},
     "output_type": "execute_result"
    }
   ],
   "source": [
    "ADB_scores.mean()"
   ]
  },
  {
   "cell_type": "code",
   "execution_count": 104,
   "id": "9a564d6e",
   "metadata": {},
   "outputs": [
    {
     "name": "stdout",
     "output_type": "stream",
     "text": [
      "On data split #  0\n",
      "On data split #  1\n",
      "On data split #  2\n",
      "On data split #  3\n",
      "On data split #  4\n"
     ]
    }
   ],
   "source": [
    "NB_scores = evaluate_model(CategoricalNB())"
   ]
  },
  {
   "cell_type": "code",
   "execution_count": 105,
   "id": "e0509908",
   "metadata": {},
   "outputs": [
    {
     "data": {
      "text/plain": [
       "accuracy     0.736345\n",
       "precision    0.928585\n",
       "recall       0.694561\n",
       "f1           0.794699\n",
       "roc_auc      0.773312\n",
       "dtype: float64"
      ]
     },
     "execution_count": 105,
     "metadata": {},
     "output_type": "execute_result"
    }
   ],
   "source": [
    "NB_scores.mean()"
   ]
  },
  {
   "cell_type": "code",
   "execution_count": 106,
   "id": "ad813a91",
   "metadata": {},
   "outputs": [
    {
     "name": "stdout",
     "output_type": "stream",
     "text": [
      "On data split #  0\n",
      "On data split #  1\n",
      "On data split #  2\n",
      "On data split #  3\n",
      "On data split #  4\n"
     ]
    }
   ],
   "source": [
    "GB_scores = evaluate_model(GradientBoostingClassifier())"
   ]
  },
  {
   "cell_type": "code",
   "execution_count": 108,
   "id": "bae52ae7",
   "metadata": {},
   "outputs": [
    {
     "name": "stdout",
     "output_type": "stream",
     "text": [
      "On data split #  0\n"
     ]
    },
    {
     "name": "stderr",
     "output_type": "stream",
     "text": [
      "/Users/Emily/opt/anaconda3/lib/python3.8/site-packages/xgboost/sklearn.py:888: UserWarning: The use of label encoder in XGBClassifier is deprecated and will be removed in a future release. To remove this warning, do the following: 1) Pass option use_label_encoder=False when constructing XGBClassifier object; and 2) Encode your labels (y) as integers starting with 0, i.e. 0, 1, 2, ..., [num_class - 1].\n",
      "  warnings.warn(label_encoder_deprecation_msg, UserWarning)\n"
     ]
    },
    {
     "name": "stdout",
     "output_type": "stream",
     "text": [
      "[10:21:26] WARNING: /opt/concourse/worker/volumes/live/7a2b9f41-3287-451b-6691-43e9a6c0910f/volume/xgboost-split_1619728204606/work/src/learner.cc:1061: Starting in XGBoost 1.3.0, the default evaluation metric used with the objective 'binary:logistic' was changed from 'error' to 'logloss'. Explicitly set eval_metric if you'd like to restore the old behavior.\n",
      "On data split #  1\n",
      "[10:21:34] WARNING: /opt/concourse/worker/volumes/live/7a2b9f41-3287-451b-6691-43e9a6c0910f/volume/xgboost-split_1619728204606/work/src/learner.cc:1061: Starting in XGBoost 1.3.0, the default evaluation metric used with the objective 'binary:logistic' was changed from 'error' to 'logloss'. Explicitly set eval_metric if you'd like to restore the old behavior.\n"
     ]
    },
    {
     "name": "stderr",
     "output_type": "stream",
     "text": [
      "/Users/Emily/opt/anaconda3/lib/python3.8/site-packages/xgboost/sklearn.py:888: UserWarning: The use of label encoder in XGBClassifier is deprecated and will be removed in a future release. To remove this warning, do the following: 1) Pass option use_label_encoder=False when constructing XGBClassifier object; and 2) Encode your labels (y) as integers starting with 0, i.e. 0, 1, 2, ..., [num_class - 1].\n",
      "  warnings.warn(label_encoder_deprecation_msg, UserWarning)\n"
     ]
    },
    {
     "name": "stdout",
     "output_type": "stream",
     "text": [
      "On data split #  2\n",
      "[10:21:43] WARNING: /opt/concourse/worker/volumes/live/7a2b9f41-3287-451b-6691-43e9a6c0910f/volume/xgboost-split_1619728204606/work/src/learner.cc:1061: Starting in XGBoost 1.3.0, the default evaluation metric used with the objective 'binary:logistic' was changed from 'error' to 'logloss'. Explicitly set eval_metric if you'd like to restore the old behavior.\n"
     ]
    },
    {
     "name": "stderr",
     "output_type": "stream",
     "text": [
      "/Users/Emily/opt/anaconda3/lib/python3.8/site-packages/xgboost/sklearn.py:888: UserWarning: The use of label encoder in XGBClassifier is deprecated and will be removed in a future release. To remove this warning, do the following: 1) Pass option use_label_encoder=False when constructing XGBClassifier object; and 2) Encode your labels (y) as integers starting with 0, i.e. 0, 1, 2, ..., [num_class - 1].\n",
      "  warnings.warn(label_encoder_deprecation_msg, UserWarning)\n"
     ]
    },
    {
     "name": "stdout",
     "output_type": "stream",
     "text": [
      "On data split #  3\n"
     ]
    },
    {
     "name": "stderr",
     "output_type": "stream",
     "text": [
      "/Users/Emily/opt/anaconda3/lib/python3.8/site-packages/xgboost/sklearn.py:888: UserWarning: The use of label encoder in XGBClassifier is deprecated and will be removed in a future release. To remove this warning, do the following: 1) Pass option use_label_encoder=False when constructing XGBClassifier object; and 2) Encode your labels (y) as integers starting with 0, i.e. 0, 1, 2, ..., [num_class - 1].\n",
      "  warnings.warn(label_encoder_deprecation_msg, UserWarning)\n"
     ]
    },
    {
     "name": "stdout",
     "output_type": "stream",
     "text": [
      "[10:21:53] WARNING: /opt/concourse/worker/volumes/live/7a2b9f41-3287-451b-6691-43e9a6c0910f/volume/xgboost-split_1619728204606/work/src/learner.cc:1061: Starting in XGBoost 1.3.0, the default evaluation metric used with the objective 'binary:logistic' was changed from 'error' to 'logloss'. Explicitly set eval_metric if you'd like to restore the old behavior.\n",
      "On data split #  4\n",
      "[10:22:02] WARNING: /opt/concourse/worker/volumes/live/7a2b9f41-3287-451b-6691-43e9a6c0910f/volume/xgboost-split_1619728204606/work/src/learner.cc:1061: Starting in XGBoost 1.3.0, the default evaluation metric used with the objective 'binary:logistic' was changed from 'error' to 'logloss'. Explicitly set eval_metric if you'd like to restore the old behavior.\n"
     ]
    },
    {
     "name": "stderr",
     "output_type": "stream",
     "text": [
      "/Users/Emily/opt/anaconda3/lib/python3.8/site-packages/xgboost/sklearn.py:888: UserWarning: The use of label encoder in XGBClassifier is deprecated and will be removed in a future release. To remove this warning, do the following: 1) Pass option use_label_encoder=False when constructing XGBClassifier object; and 2) Encode your labels (y) as integers starting with 0, i.e. 0, 1, 2, ..., [num_class - 1].\n",
      "  warnings.warn(label_encoder_deprecation_msg, UserWarning)\n"
     ]
    }
   ],
   "source": [
    "XG_scores = evaluate_model(XGBClassifier())"
   ]
  },
  {
   "cell_type": "code",
   "execution_count": 110,
   "id": "e8c75edc",
   "metadata": {},
   "outputs": [
    {
     "data": {
      "text/plain": [
       "accuracy     0.813478\n",
       "precision    0.843860\n",
       "recall       0.915529\n",
       "f1           0.878234\n",
       "roc_auc      0.723194\n",
       "dtype: float64"
      ]
     },
     "execution_count": 110,
     "metadata": {},
     "output_type": "execute_result"
    }
   ],
   "source": [
    "XG_scores.mean()"
   ]
  },
  {
   "cell_type": "markdown",
   "id": "03080679",
   "metadata": {},
   "source": [
    "### Hyper Parameter Tuning"
   ]
  },
  {
   "cell_type": "code",
   "execution_count": 116,
   "id": "c8156b6f",
   "metadata": {},
   "outputs": [
    {
     "name": "stdout",
     "output_type": "stream",
     "text": [
      "On data split #  0\n",
      "On data split #  1\n",
      "On data split #  2\n",
      "On data split #  3\n",
      "On data split #  4\n"
     ]
    }
   ],
   "source": [
    "NB_scores = evaluate_model(CategoricalNB())"
   ]
  },
  {
   "cell_type": "code",
   "execution_count": 117,
   "id": "c96139d2",
   "metadata": {},
   "outputs": [
    {
     "data": {
      "text/plain": [
       "accuracy     0.736345\n",
       "precision    0.928585\n",
       "recall       0.694561\n",
       "f1           0.794699\n",
       "roc_auc      0.773312\n",
       "dtype: float64"
      ]
     },
     "execution_count": 117,
     "metadata": {},
     "output_type": "execute_result"
    }
   ],
   "source": [
    "NB_scores.mean()"
   ]
  },
  {
   "cell_type": "code",
   "execution_count": 120,
   "id": "e7afb17d",
   "metadata": {},
   "outputs": [
    {
     "name": "stdout",
     "output_type": "stream",
     "text": [
      "On data split #  0\n",
      "On data split #  1\n",
      "On data split #  2\n",
      "On data split #  3\n",
      "On data split #  4\n"
     ]
    }
   ],
   "source": [
    "NB_scores = evaluate_model(CategoricalNB(alpha=0.1))"
   ]
  },
  {
   "cell_type": "code",
   "execution_count": 121,
   "id": "82f8de9f",
   "metadata": {},
   "outputs": [
    {
     "data": {
      "text/plain": [
       "accuracy     0.736345\n",
       "precision    0.928585\n",
       "recall       0.694561\n",
       "f1           0.794699\n",
       "roc_auc      0.773312\n",
       "dtype: float64"
      ]
     },
     "execution_count": 121,
     "metadata": {},
     "output_type": "execute_result"
    }
   ],
   "source": [
    "NB_scores.mean()"
   ]
  },
  {
   "cell_type": "code",
   "execution_count": 122,
   "id": "9c5e9268",
   "metadata": {},
   "outputs": [],
   "source": [
    "from sklearn.model_selection import RandomizedSearchCV\n",
    "# Number of trees in random forest\n",
    "n_estimators = [int(x) for x in np.linspace(start = 200, stop = 2000, num = 10)]\n",
    "# Number of features to consider at every split\n",
    "max_features = ['auto', 'sqrt']\n",
    "# Maximum number of levels in tree\n",
    "max_depth = [int(x) for x in np.linspace(10, 110, num = 11)]\n",
    "max_depth.append(None)\n",
    "# Minimum number of samples required to split a node\n",
    "min_samples_split = [2, 5, 10]\n",
    "# Minimum number of samples required at each leaf node\n",
    "min_samples_leaf = [1, 2, 4]\n",
    "# Method of selecting samples for training each tree\n",
    "bootstrap = [True, False]\n",
    "# Create the random grid\n",
    "random_grid = {'n_estimators': n_estimators,\n",
    "               'max_features': max_features,\n",
    "               'max_depth': max_depth,\n",
    "               'min_samples_split': min_samples_split,\n",
    "               'min_samples_leaf': min_samples_leaf,\n",
    "               'bootstrap': bootstrap}"
   ]
  },
  {
   "cell_type": "code",
   "execution_count": null,
   "id": "6f83a2c5",
   "metadata": {},
   "outputs": [
    {
     "name": "stdout",
     "output_type": "stream",
     "text": [
      "Fitting 3 folds for each of 100 candidates, totalling 300 fits\n"
     ]
    }
   ],
   "source": [
    "# Use the random grid to search for best hyperparameters\n",
    "# First create the base model to tune\n",
    "rf = RandomForestClassifier()\n",
    "# Random search of parameters, using 3 fold cross validation, \n",
    "# search across 100 different combinations, and use all available cores\n",
    "rf_random = RandomizedSearchCV(estimator = rf, param_distributions = random_grid, n_iter = 100, cv = 3, verbose=2, random_state=42, n_jobs = -1)\n",
    "# Fit the random search model\n",
    "rf_random.fit(X, y)"
   ]
  },
  {
   "cell_type": "code",
   "execution_count": null,
   "id": "41030ddf",
   "metadata": {},
   "outputs": [],
   "source": [
    "rf_random.best_params_"
   ]
  },
  {
   "cell_type": "code",
   "execution_count": null,
   "id": "fc0e7b96",
   "metadata": {},
   "outputs": [],
   "source": []
  }
 ],
 "metadata": {
  "kernelspec": {
   "display_name": "Python 3",
   "language": "python",
   "name": "python3"
  },
  "language_info": {
   "codemirror_mode": {
    "name": "ipython",
    "version": 3
   },
   "file_extension": ".py",
   "mimetype": "text/x-python",
   "name": "python",
   "nbconvert_exporter": "python",
   "pygments_lexer": "ipython3",
   "version": "3.8.8"
  }
 },
 "nbformat": 4,
 "nbformat_minor": 5
}
