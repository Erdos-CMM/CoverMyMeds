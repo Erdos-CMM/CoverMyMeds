{
 "cells": [
  {
   "cell_type": "code",
   "execution_count": 12,
   "metadata": {
    "id": "9qoFJwKVjTPy"
   },
   "outputs": [],
   "source": [
    "import pandas as pd\n",
    "import numpy as np\n",
    "import matplotlib.pyplot as plt\n",
    "import seaborn as sns\n",
    "\n",
    "sns.set_style(\"darkgrid\")"
   ]
  },
  {
   "cell_type": "code",
   "execution_count": 13,
   "metadata": {
    "id": "oN4SZTCLi2-a"
   },
   "outputs": [],
   "source": [
    "drugs_train = pd.read_csv('train.csv',index_col=1, parse_dates=True)"
   ]
  },
  {
   "cell_type": "code",
   "execution_count": 14,
   "metadata": {
    "id": "d8PBGS-ojlQu"
   },
   "outputs": [],
   "source": [
    "drugs_test = pd.read_csv('test.csv',index_col=1, parse_dates=True)"
   ]
  },
  {
   "cell_type": "code",
   "execution_count": 15,
   "metadata": {
    "id": "GWQNp3MukAYo"
   },
   "outputs": [],
   "source": [
    "pa_columns = ['correct_diagnosis','tried_and_failed','contraindication','pa_approved','reject_code']\n",
    "id_columns = ['dim_pa_id','dim_date_id','dim_claim_id','Unnamed: 0']\n",
    "date_columns = ['calendar_year']\n",
    "drugs_train = drugs_train.drop(columns=pa_columns+id_columns+date_columns)\n",
    "drugs_train = drugs_train.dropna() # I think there are no missing or nan values\n",
    "drugs_test = drugs_test.drop(columns=pa_columns+id_columns+date_columns)\n",
    "drugs_test = drugs_test.dropna()"
   ]
  },
  {
   "cell_type": "code",
   "execution_count": 22,
   "metadata": {},
   "outputs": [],
   "source": [
    "drugs_train=drugs_train.drop(columns=['calendar_month','calendar_day','day_of_week'])\n",
    "drugs_test=drugs_test.drop(columns=['calendar_month','calendar_day','day_of_week'])"
   ]
  },
  {
   "cell_type": "code",
   "execution_count": 30,
   "metadata": {
    "id": "RADTJcA2kuqb"
   },
   "outputs": [],
   "source": [
    "one_hot_encoded_traindata = pd.get_dummies(drugs_train, columns = ['bin', 'drug'])\n",
    "one_hot_encoded_testdata = pd.get_dummies(drugs_test, columns = ['bin', 'drug'])"
   ]
  },
  {
   "cell_type": "code",
   "execution_count": 33,
   "metadata": {
    "id": "hpAXEUhxlElB"
   },
   "outputs": [],
   "source": [
    "X = one_hot_encoded_traindata.loc[:, one_hot_encoded_traindata.columns != 'pharmacy_claim_approved']\n",
    "y = one_hot_encoded_traindata.loc[:, one_hot_encoded_traindata.columns == 'pharmacy_claim_approved']\n",
    "Xtest = one_hot_encoded_testdata.loc[:, one_hot_encoded_testdata.columns != 'pharmacy_claim_approved']\n",
    "ytest = one_hot_encoded_testdata.loc[:, one_hot_encoded_testdata.columns == 'pharmacy_claim_approved']"
   ]
  },
  {
   "cell_type": "code",
   "execution_count": 36,
   "metadata": {
    "id": "YCW9oH2OlId6"
   },
   "outputs": [],
   "source": [
    "from sklearn.neighbors import KNeighborsClassifier\n",
    "knn = KNeighborsClassifier(2,n_jobs=-1)"
   ]
  },
  {
   "cell_type": "code",
   "execution_count": null,
   "metadata": {
    "colab": {
     "base_uri": "https://localhost:8080/"
    },
    "id": "S0mvbPK4mypn",
    "outputId": "a57e8099-358f-44e4-e8c4-0592d52f7281"
   },
   "outputs": [],
   "source": [
    "knn.fit(X,y)"
   ]
  },
  {
   "cell_type": "code",
   "execution_count": null,
   "metadata": {
    "id": "jgcqACkExaNE"
   },
   "outputs": [],
   "source": [
    "predictedvalues=knn.predict(Xtest)"
   ]
  },
  {
   "cell_type": "code",
   "execution_count": null,
   "metadata": {
    "id": "N8-Xt9MVIIt-"
   },
   "outputs": [],
   "source": [
    "z = drugs_test.loc[:, drugs_test.columns == 'pharmacy_claim_approved']"
   ]
  },
  {
   "cell_type": "code",
   "execution_count": null,
   "metadata": {
    "colab": {
     "base_uri": "https://localhost:8080/",
     "height": 454
    },
    "id": "1V0RE7isIfMn",
    "outputId": "f8af79fc-e43d-4d4d-ff31-04da8fbbbdc0"
   },
   "outputs": [
    {
     "data": {
      "text/html": [
       "<div>\n",
       "<style scoped>\n",
       "    .dataframe tbody tr th:only-of-type {\n",
       "        vertical-align: middle;\n",
       "    }\n",
       "\n",
       "    .dataframe tbody tr th {\n",
       "        vertical-align: top;\n",
       "    }\n",
       "\n",
       "    .dataframe thead th {\n",
       "        text-align: right;\n",
       "    }\n",
       "</style>\n",
       "<table border=\"1\" class=\"dataframe\">\n",
       "  <thead>\n",
       "    <tr style=\"text-align: right;\">\n",
       "      <th></th>\n",
       "      <th>pharmacy_claim_approved</th>\n",
       "    </tr>\n",
       "    <tr>\n",
       "      <th>date_val</th>\n",
       "      <th></th>\n",
       "    </tr>\n",
       "  </thead>\n",
       "  <tbody>\n",
       "    <tr>\n",
       "      <th>2018-01-10</th>\n",
       "      <td>1</td>\n",
       "    </tr>\n",
       "    <tr>\n",
       "      <th>2019-02-07</th>\n",
       "      <td>1</td>\n",
       "    </tr>\n",
       "    <tr>\n",
       "      <th>2019-08-16</th>\n",
       "      <td>0</td>\n",
       "    </tr>\n",
       "    <tr>\n",
       "      <th>2018-12-11</th>\n",
       "      <td>1</td>\n",
       "    </tr>\n",
       "    <tr>\n",
       "      <th>2018-04-14</th>\n",
       "      <td>1</td>\n",
       "    </tr>\n",
       "    <tr>\n",
       "      <th>...</th>\n",
       "      <td>...</td>\n",
       "    </tr>\n",
       "    <tr>\n",
       "      <th>2019-07-16</th>\n",
       "      <td>1</td>\n",
       "    </tr>\n",
       "    <tr>\n",
       "      <th>2018-11-16</th>\n",
       "      <td>1</td>\n",
       "    </tr>\n",
       "    <tr>\n",
       "      <th>2019-03-01</th>\n",
       "      <td>1</td>\n",
       "    </tr>\n",
       "    <tr>\n",
       "      <th>2017-11-24</th>\n",
       "      <td>1</td>\n",
       "    </tr>\n",
       "    <tr>\n",
       "      <th>2017-06-28</th>\n",
       "      <td>1</td>\n",
       "    </tr>\n",
       "  </tbody>\n",
       "</table>\n",
       "<p>440741 rows × 1 columns</p>\n",
       "</div>"
      ],
      "text/plain": [
       "            pharmacy_claim_approved\n",
       "date_val                           \n",
       "2018-01-10                        1\n",
       "2019-02-07                        1\n",
       "2019-08-16                        0\n",
       "2018-12-11                        1\n",
       "2018-04-14                        1\n",
       "...                             ...\n",
       "2019-07-16                        1\n",
       "2018-11-16                        1\n",
       "2019-03-01                        1\n",
       "2017-11-24                        1\n",
       "2017-06-28                        1\n",
       "\n",
       "[440741 rows x 1 columns]"
      ]
     },
     "execution_count": 17,
     "metadata": {},
     "output_type": "execute_result"
    }
   ],
   "source": [
    "z"
   ]
  },
  {
   "cell_type": "code",
   "execution_count": null,
   "metadata": {
    "id": "oJEL3TtBkL7B"
   },
   "outputs": [],
   "source": [
    "from sklearn.metrics import confusion_matrix, roc_auc_score, accuracy_score"
   ]
  },
  {
   "cell_type": "code",
   "execution_count": null,
   "metadata": {
    "colab": {
     "base_uri": "https://localhost:8080/"
    },
    "id": "XD5RxDxE5Uun",
    "outputId": "83313bfe-1d25-4a22-bacc-375e59cafc46"
   },
   "outputs": [
    {
     "data": {
      "text/plain": [
       "(440741,)"
      ]
     },
     "execution_count": 26,
     "metadata": {},
     "output_type": "execute_result"
    }
   ],
   "source": [
    "predictedvalues.shape"
   ]
  },
  {
   "cell_type": "code",
   "execution_count": null,
   "metadata": {
    "id": "IYYuanfd5XlZ"
   },
   "outputs": [],
   "source": [
    "z=z.values.reshape(-1,1)"
   ]
  },
  {
   "cell_type": "code",
   "execution_count": null,
   "metadata": {
    "colab": {
     "base_uri": "https://localhost:8080/"
    },
    "id": "IQyR6VvEIfNF",
    "outputId": "e099da3b-13f3-4810-ece8-ee44fbff3983"
   },
   "outputs": [
    {
     "data": {
      "text/plain": [
       "(440741, 1)"
      ]
     },
     "execution_count": 30,
     "metadata": {},
     "output_type": "execute_result"
    }
   ],
   "source": [
    "z.shape"
   ]
  },
  {
   "cell_type": "code",
   "execution_count": null,
   "metadata": {
    "colab": {
     "base_uri": "https://localhost:8080/"
    },
    "id": "VRnBPqCII51z",
    "outputId": "ea993cf3-1314-4ab7-8bcc-85c808adb135"
   },
   "outputs": [
    {
     "data": {
      "text/plain": [
       "0.9354859203023999"
      ]
     },
     "execution_count": 31,
     "metadata": {},
     "output_type": "execute_result"
    }
   ],
   "source": [
    "accuracy_score(z, predictedvalues)"
   ]
  },
  {
   "cell_type": "code",
   "execution_count": null,
   "metadata": {
    "colab": {
     "base_uri": "https://localhost:8080/"
    },
    "id": "h2JfYgQiRML6",
    "outputId": "cb37140f-511e-4e62-900a-18f67a4434b2"
   },
   "outputs": [
    {
     "data": {
      "text/plain": [
       "0.9226353079459747"
      ]
     },
     "execution_count": 32,
     "metadata": {},
     "output_type": "execute_result"
    }
   ],
   "source": [
    "roc_auc_score(z, predictedvalues)"
   ]
  }
 ],
 "metadata": {
  "colab": {
   "name": "knn.ipynb",
   "provenance": []
  },
  "kernelspec": {
   "display_name": "Python 3",
   "language": "python",
   "name": "python3"
  },
  "language_info": {
   "codemirror_mode": {
    "name": "ipython",
    "version": 3
   },
   "file_extension": ".py",
   "mimetype": "text/x-python",
   "name": "python",
   "nbconvert_exporter": "python",
   "pygments_lexer": "ipython3",
   "version": "3.8.8"
  }
 },
 "nbformat": 4,
 "nbformat_minor": 4
}
