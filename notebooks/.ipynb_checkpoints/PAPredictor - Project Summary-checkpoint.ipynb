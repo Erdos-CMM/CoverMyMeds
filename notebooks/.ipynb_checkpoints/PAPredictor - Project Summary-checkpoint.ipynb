{
 "cells": [
  {
   "cell_type": "markdown",
   "id": "b9036e7a",
   "metadata": {},
   "source": [
    "# PAPredictor: Project Summary\n",
    "\n",
    "Summary of the PAPredictor project."
   ]
  },
  {
   "cell_type": "code",
   "execution_count": 2,
   "id": "4d4d921d",
   "metadata": {},
   "outputs": [],
   "source": [
    "import pandas as pd\n",
    "import numpy as np\n",
    "import seaborn as sns\n",
    "import datetime\n",
    "import matplotlib.pyplot as plt\n",
    "\n",
    "sns.set_theme(style=\"whitegrid\")\n",
    "sns.set(rc={'figure.figsize':(8.0,6.0)})"
   ]
  },
  {
   "cell_type": "markdown",
   "id": "a567337e",
   "metadata": {},
   "source": [
    "Application:  to prevent a patient from going to the pharmacy,\n",
    "only to return home empty handed\n",
    "\n",
    "* Y data: pharmacy_claim_approved: 0 or 1, if 0, then claim not approved, and a PA is needed  \n",
    "* X data: X_cols - claims columns - reject code and dates columns (no PA information)\n",
    "\n",
    "Note: might want to drop dim_claim_id since we don't expect these numbers to indicate any information about whether a claim will be approved."
   ]
  },
  {
   "cell_type": "markdown",
   "id": "783f1226",
   "metadata": {},
   "source": [
    "### Questions\n",
    "\n",
    "* Is it worth it to include date information? \n",
    "* What about is_weekday or is_workday or holiday? "
   ]
  },
  {
   "cell_type": "code",
   "execution_count": 32,
   "id": "6a0ce84e",
   "metadata": {},
   "outputs": [],
   "source": [
    "#data = pd.read_csv('../data/training/train.csv',index_col=1, parse_dates=True)\n",
    "# PA columns don't apply\n",
    "#data = data.drop(columns=['reject_code','dim_pa_id','correct_diagnosis','tried_and_failed','contraindication',\n",
    "#                         'pa_approved','dim_date_id'])\n",
    "#data.to_csv('../data/training/train_no_pa_cols.csv')"
   ]
  },
  {
   "cell_type": "code",
   "execution_count": 33,
   "id": "c64ab661",
   "metadata": {},
   "outputs": [],
   "source": [
    "data = pd.read_csv('../data/training/train_no_pa_cols.csv',index_col=1, parse_dates=True)"
   ]
  },
  {
   "cell_type": "code",
   "execution_count": 34,
   "id": "b09ed5c4",
   "metadata": {},
   "outputs": [
    {
     "data": {
      "text/html": [
       "<div>\n",
       "<style scoped>\n",
       "    .dataframe tbody tr th:only-of-type {\n",
       "        vertical-align: middle;\n",
       "    }\n",
       "\n",
       "    .dataframe tbody tr th {\n",
       "        vertical-align: top;\n",
       "    }\n",
       "\n",
       "    .dataframe thead th {\n",
       "        text-align: right;\n",
       "    }\n",
       "</style>\n",
       "<table border=\"1\" class=\"dataframe\">\n",
       "  <thead>\n",
       "    <tr style=\"text-align: right;\">\n",
       "      <th></th>\n",
       "      <th>date_val</th>\n",
       "      <th>calendar_year</th>\n",
       "      <th>calendar_month</th>\n",
       "      <th>calendar_day</th>\n",
       "      <th>day_of_week</th>\n",
       "      <th>is_weekday</th>\n",
       "      <th>is_workday</th>\n",
       "      <th>is_holiday</th>\n",
       "      <th>dim_claim_id</th>\n",
       "      <th>bin</th>\n",
       "      <th>drug</th>\n",
       "      <th>pharmacy_claim_approved</th>\n",
       "    </tr>\n",
       "    <tr>\n",
       "      <th>Unnamed: 0</th>\n",
       "      <th></th>\n",
       "      <th></th>\n",
       "      <th></th>\n",
       "      <th></th>\n",
       "      <th></th>\n",
       "      <th></th>\n",
       "      <th></th>\n",
       "      <th></th>\n",
       "      <th></th>\n",
       "      <th></th>\n",
       "      <th></th>\n",
       "      <th></th>\n",
       "    </tr>\n",
       "  </thead>\n",
       "  <tbody>\n",
       "    <tr>\n",
       "      <th>395940</th>\n",
       "      <td>2018-01-10</td>\n",
       "      <td>2018</td>\n",
       "      <td>1</td>\n",
       "      <td>10</td>\n",
       "      <td>4</td>\n",
       "      <td>1</td>\n",
       "      <td>1</td>\n",
       "      <td>0</td>\n",
       "      <td>395941</td>\n",
       "      <td>999001</td>\n",
       "      <td>A</td>\n",
       "      <td>1</td>\n",
       "    </tr>\n",
       "    <tr>\n",
       "      <th>893697</th>\n",
       "      <td>2019-02-07</td>\n",
       "      <td>2019</td>\n",
       "      <td>2</td>\n",
       "      <td>7</td>\n",
       "      <td>5</td>\n",
       "      <td>1</td>\n",
       "      <td>1</td>\n",
       "      <td>0</td>\n",
       "      <td>893698</td>\n",
       "      <td>999001</td>\n",
       "      <td>A</td>\n",
       "      <td>1</td>\n",
       "    </tr>\n",
       "    <tr>\n",
       "      <th>1158683</th>\n",
       "      <td>2019-08-16</td>\n",
       "      <td>2019</td>\n",
       "      <td>8</td>\n",
       "      <td>16</td>\n",
       "      <td>6</td>\n",
       "      <td>1</td>\n",
       "      <td>1</td>\n",
       "      <td>0</td>\n",
       "      <td>1158684</td>\n",
       "      <td>417740</td>\n",
       "      <td>B</td>\n",
       "      <td>0</td>\n",
       "    </tr>\n",
       "    <tr>\n",
       "      <th>815508</th>\n",
       "      <td>2018-12-11</td>\n",
       "      <td>2018</td>\n",
       "      <td>12</td>\n",
       "      <td>11</td>\n",
       "      <td>3</td>\n",
       "      <td>1</td>\n",
       "      <td>1</td>\n",
       "      <td>0</td>\n",
       "      <td>815509</td>\n",
       "      <td>999001</td>\n",
       "      <td>A</td>\n",
       "      <td>1</td>\n",
       "    </tr>\n",
       "    <tr>\n",
       "      <th>519998</th>\n",
       "      <td>2018-04-14</td>\n",
       "      <td>2018</td>\n",
       "      <td>4</td>\n",
       "      <td>14</td>\n",
       "      <td>7</td>\n",
       "      <td>0</td>\n",
       "      <td>0</td>\n",
       "      <td>0</td>\n",
       "      <td>519999</td>\n",
       "      <td>417380</td>\n",
       "      <td>B</td>\n",
       "      <td>1</td>\n",
       "    </tr>\n",
       "  </tbody>\n",
       "</table>\n",
       "</div>"
      ],
      "text/plain": [
       "              date_val  calendar_year  calendar_month  calendar_day  \\\n",
       "Unnamed: 0                                                            \n",
       "395940      2018-01-10           2018               1            10   \n",
       "893697      2019-02-07           2019               2             7   \n",
       "1158683     2019-08-16           2019               8            16   \n",
       "815508      2018-12-11           2018              12            11   \n",
       "519998      2018-04-14           2018               4            14   \n",
       "\n",
       "            day_of_week  is_weekday  is_workday  is_holiday  dim_claim_id  \\\n",
       "Unnamed: 0                                                                  \n",
       "395940                4           1           1           0        395941   \n",
       "893697                5           1           1           0        893698   \n",
       "1158683               6           1           1           0       1158684   \n",
       "815508                3           1           1           0        815509   \n",
       "519998                7           0           0           0        519999   \n",
       "\n",
       "               bin drug  pharmacy_claim_approved  \n",
       "Unnamed: 0                                        \n",
       "395940      999001    A                        1  \n",
       "893697      999001    A                        1  \n",
       "1158683     417740    B                        0  \n",
       "815508      999001    A                        1  \n",
       "519998      417380    B                        1  "
      ]
     },
     "execution_count": 34,
     "metadata": {},
     "output_type": "execute_result"
    }
   ],
   "source": [
    "data.head()"
   ]
  },
  {
   "cell_type": "code",
   "execution_count": 35,
   "id": "3297142d",
   "metadata": {},
   "outputs": [
    {
     "data": {
      "text/plain": [
       "date_val                   False\n",
       "calendar_year              False\n",
       "calendar_month             False\n",
       "calendar_day               False\n",
       "day_of_week                False\n",
       "is_weekday                 False\n",
       "is_workday                 False\n",
       "is_holiday                 False\n",
       "dim_claim_id               False\n",
       "bin                        False\n",
       "drug                       False\n",
       "pharmacy_claim_approved    False\n",
       "dtype: bool"
      ]
     },
     "execution_count": 35,
     "metadata": {},
     "output_type": "execute_result"
    }
   ],
   "source": [
    "data.isna().any()"
   ]
  },
  {
   "cell_type": "code",
   "execution_count": 37,
   "id": "9d62c8fb",
   "metadata": {},
   "outputs": [
    {
     "data": {
      "text/html": [
       "<div>\n",
       "<style scoped>\n",
       "    .dataframe tbody tr th:only-of-type {\n",
       "        vertical-align: middle;\n",
       "    }\n",
       "\n",
       "    .dataframe tbody tr th {\n",
       "        vertical-align: top;\n",
       "    }\n",
       "\n",
       "    .dataframe thead th {\n",
       "        text-align: right;\n",
       "    }\n",
       "</style>\n",
       "<table border=\"1\" class=\"dataframe\">\n",
       "  <thead>\n",
       "    <tr style=\"text-align: right;\">\n",
       "      <th></th>\n",
       "      <th>date_val</th>\n",
       "      <th>calendar_year</th>\n",
       "      <th>calendar_month</th>\n",
       "      <th>calendar_day</th>\n",
       "      <th>day_of_week</th>\n",
       "      <th>is_weekday</th>\n",
       "      <th>is_workday</th>\n",
       "      <th>is_holiday</th>\n",
       "      <th>dim_claim_id</th>\n",
       "      <th>bin</th>\n",
       "      <th>drug</th>\n",
       "      <th>pharmacy_claim_approved</th>\n",
       "    </tr>\n",
       "    <tr>\n",
       "      <th>Unnamed: 0</th>\n",
       "      <th></th>\n",
       "      <th></th>\n",
       "      <th></th>\n",
       "      <th></th>\n",
       "      <th></th>\n",
       "      <th></th>\n",
       "      <th></th>\n",
       "      <th></th>\n",
       "      <th></th>\n",
       "      <th></th>\n",
       "      <th></th>\n",
       "      <th></th>\n",
       "    </tr>\n",
       "  </thead>\n",
       "  <tbody>\n",
       "    <tr>\n",
       "      <th>395940</th>\n",
       "      <td>2018-01-10</td>\n",
       "      <td>2018</td>\n",
       "      <td>1</td>\n",
       "      <td>10</td>\n",
       "      <td>4</td>\n",
       "      <td>1</td>\n",
       "      <td>1</td>\n",
       "      <td>0</td>\n",
       "      <td>395941</td>\n",
       "      <td>999001</td>\n",
       "      <td>A</td>\n",
       "      <td>1</td>\n",
       "    </tr>\n",
       "    <tr>\n",
       "      <th>893697</th>\n",
       "      <td>2019-02-07</td>\n",
       "      <td>2019</td>\n",
       "      <td>2</td>\n",
       "      <td>7</td>\n",
       "      <td>5</td>\n",
       "      <td>1</td>\n",
       "      <td>1</td>\n",
       "      <td>0</td>\n",
       "      <td>893698</td>\n",
       "      <td>999001</td>\n",
       "      <td>A</td>\n",
       "      <td>1</td>\n",
       "    </tr>\n",
       "    <tr>\n",
       "      <th>1158683</th>\n",
       "      <td>2019-08-16</td>\n",
       "      <td>2019</td>\n",
       "      <td>8</td>\n",
       "      <td>16</td>\n",
       "      <td>6</td>\n",
       "      <td>1</td>\n",
       "      <td>1</td>\n",
       "      <td>0</td>\n",
       "      <td>1158684</td>\n",
       "      <td>417740</td>\n",
       "      <td>B</td>\n",
       "      <td>0</td>\n",
       "    </tr>\n",
       "    <tr>\n",
       "      <th>815508</th>\n",
       "      <td>2018-12-11</td>\n",
       "      <td>2018</td>\n",
       "      <td>12</td>\n",
       "      <td>11</td>\n",
       "      <td>3</td>\n",
       "      <td>1</td>\n",
       "      <td>1</td>\n",
       "      <td>0</td>\n",
       "      <td>815509</td>\n",
       "      <td>999001</td>\n",
       "      <td>A</td>\n",
       "      <td>1</td>\n",
       "    </tr>\n",
       "    <tr>\n",
       "      <th>519998</th>\n",
       "      <td>2018-04-14</td>\n",
       "      <td>2018</td>\n",
       "      <td>4</td>\n",
       "      <td>14</td>\n",
       "      <td>7</td>\n",
       "      <td>0</td>\n",
       "      <td>0</td>\n",
       "      <td>0</td>\n",
       "      <td>519999</td>\n",
       "      <td>417380</td>\n",
       "      <td>B</td>\n",
       "      <td>1</td>\n",
       "    </tr>\n",
       "  </tbody>\n",
       "</table>\n",
       "</div>"
      ],
      "text/plain": [
       "              date_val  calendar_year  calendar_month  calendar_day  \\\n",
       "Unnamed: 0                                                            \n",
       "395940      2018-01-10           2018               1            10   \n",
       "893697      2019-02-07           2019               2             7   \n",
       "1158683     2019-08-16           2019               8            16   \n",
       "815508      2018-12-11           2018              12            11   \n",
       "519998      2018-04-14           2018               4            14   \n",
       "\n",
       "            day_of_week  is_weekday  is_workday  is_holiday  dim_claim_id  \\\n",
       "Unnamed: 0                                                                  \n",
       "395940                4           1           1           0        395941   \n",
       "893697                5           1           1           0        893698   \n",
       "1158683               6           1           1           0       1158684   \n",
       "815508                3           1           1           0        815509   \n",
       "519998                7           0           0           0        519999   \n",
       "\n",
       "               bin drug  pharmacy_claim_approved  \n",
       "Unnamed: 0                                        \n",
       "395940      999001    A                        1  \n",
       "893697      999001    A                        1  \n",
       "1158683     417740    B                        0  \n",
       "815508      999001    A                        1  \n",
       "519998      417380    B                        1  "
      ]
     },
     "execution_count": 37,
     "metadata": {},
     "output_type": "execute_result"
    }
   ],
   "source": [
    "data.head()"
   ]
  },
  {
   "cell_type": "code",
   "execution_count": 6,
   "id": "116d40a7",
   "metadata": {},
   "outputs": [
    {
     "data": {
      "text/plain": [
       "440741"
      ]
     },
     "execution_count": 6,
     "metadata": {},
     "output_type": "execute_result"
    }
   ],
   "source": [
    "len(np.unique(data['dim_claim_id']))"
   ]
  },
  {
   "cell_type": "code",
   "execution_count": 7,
   "id": "8f733369",
   "metadata": {},
   "outputs": [
    {
     "data": {
      "text/plain": [
       "440741"
      ]
     },
     "execution_count": 7,
     "metadata": {},
     "output_type": "execute_result"
    }
   ],
   "source": [
    "len(data['dim_claim_id'])"
   ]
  },
  {
   "cell_type": "markdown",
   "id": "41e657dd",
   "metadata": {},
   "source": [
    "## Analyzing which factors tend to influence whether PAs are likely to be approved or denied.\n",
    "\n",
    "TODO: Fix bar chart."
   ]
  },
  {
   "cell_type": "markdown",
   "id": "4044c0f2",
   "metadata": {},
   "source": [
    "## % Reject by Drug Type"
   ]
  },
  {
   "cell_type": "code",
   "execution_count": 45,
   "id": "8b16b057",
   "metadata": {},
   "outputs": [
    {
     "data": {
      "image/png": "[encoded data removed]",
      "text/plain": [
       "<Figure size 504x504 with 1 Axes>"
      ]
     },
     "metadata": {},
     "output_type": "display_data"
    }
   ],
   "source": [
    "# set the figure size\n",
    "plt.figure(figsize=(7, 7))\n",
    "\n",
    "# from raw value to percentage\n",
    "approved = data[data.pharmacy_claim_approved==0].groupby('drug')['pharmacy_claim_approved'].count().reset_index()\n",
    "unapproved = data[data.pharmacy_claim_approved==1].groupby('drug')['pharmacy_claim_approved'].count().reset_index()\n",
    "total = data.groupby('drug')['pharmacy_claim_approved'].count().reset_index()                                    \n",
    "\n",
    "approved['percentage_pharmacy_approved'] = [i / j * 100 for i,j in zip(approved['pharmacy_claim_approved'], total['pharmacy_claim_approved'])]\n",
    "unapproved['percentage_pharmacy_approved'] = [i / j * 100 for i,j in zip(unapproved['pharmacy_claim_approved'], total['pharmacy_claim_approved'])]\n",
    "\n",
    "# bar chart 2 )\n",
    "bar2 = sns.barplot(x=\"drug\",  y=\"percentage_pharmacy_approved\", data=unapproved, color='lightblue', label='unapproved')\n",
    "\n",
    "# bar chart 1\n",
    "bar1 = sns.barplot(x=\"drug\",  y=\"percentage_pharmacy_approved\", data=approved, color='darkblue', label='approved')\n",
    "\n",
    "\n",
    "plt.legend()\n",
    "\n",
    "plt.title('% of reject codes by drug type')\n",
    "# show the graph\n",
    "plt.show()"
   ]
  },
  {
   "cell_type": "markdown",
   "id": "398007d3",
   "metadata": {},
   "source": [
    "## % of Reject by Payer"
   ]
  },
  {
   "cell_type": "code",
   "execution_count": 48,
   "id": "761eaf98",
   "metadata": {},
   "outputs": [
    {
     "data": {
      "image/png": "[encoded data removed]",
      "text/plain": [
       "<Figure size 504x504 with 1 Axes>"
      ]
     },
     "metadata": {},
     "output_type": "display_data"
    }
   ],
   "source": [
    "# set the figure size\n",
    "plt.figure(figsize=(7, 7))\n",
    "\n",
    "# from raw value to percentage\n",
    "approved = data[data.pharmacy_claim_approved==0].groupby('bin')['pharmacy_claim_approved'].count().reset_index()\n",
    "unapproved = data[data.pharmacy_claim_approved==1].groupby('bin')['pharmacy_claim_approved'].count().reset_index()\n",
    "total = data.groupby('bin')['pharmacy_claim_approved'].count().reset_index()                                    \n",
    "\n",
    "approved['percentage_pharmacy_approved'] = [i / j * 100 for i,j in zip(approved['pharmacy_claim_approved'], total['pharmacy_claim_approved'])]\n",
    "unapproved['percentage_pharmacy_approved'] = [i / j * 100 for i,j in zip(unapproved['pharmacy_claim_approved'], total['pharmacy_claim_approved'])]\n",
    "\n",
    "# bar chart 1\n",
    "bar1 = sns.barplot(x=\"bin\",  y=\"percentage_pharmacy_approved\", data=approved, color='darkblue', label='approved')\n",
    "\n",
    "# bar chart 2 )\n",
    "bar2 = sns.barplot(x=\"bin\",  y=\"percentage_pharmacy_approved\", data=unapproved, color='lightblue', label='unapproved')\n",
    "\n",
    "\n",
    "\n",
    "plt.legend()\n",
    "\n",
    "plt.title('% of reject codes by drug type')\n",
    "# show the graph\n",
    "plt.show()"
   ]
  },
  {
   "cell_type": "code",
   "execution_count": null,
   "id": "608e043e",
   "metadata": {},
   "outputs": [],
   "source": []
  }
 ],
 "metadata": {
  "kernelspec": {
   "display_name": "Python 3",
   "language": "python",
   "name": "python3"
  },
  "language_info": {
   "codemirror_mode": {
    "name": "ipython",
    "version": 3
   },
   "file_extension": ".py",
   "mimetype": "text/x-python",
   "name": "python",
   "nbconvert_exporter": "python",
   "pygments_lexer": "ipython3",
   "version": "3.8.8"
  }
 },
 "nbformat": 4,
 "nbformat_minor": 5
}
