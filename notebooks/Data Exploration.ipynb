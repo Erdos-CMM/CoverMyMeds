{
 "cells": [
  {
   "cell_type": "markdown",
   "id": "4443b366",
   "metadata": {},
   "source": [
    "# Data Exploration"
   ]
  },
  {
   "cell_type": "code",
   "execution_count": 1,
   "id": "81cc26cf",
   "metadata": {},
   "outputs": [],
   "source": [
    "import pandas as pd\n",
    "import numpy as np\n",
    "import seaborn as sns\n",
    "import matplotlib.pyplot as plt\n",
    "\n",
    "sns.set_theme(style=\"whitegrid\")\n",
    "sns.set(rc={'figure.figsize':(8.0,6.0)})"
   ]
  },
  {
   "cell_type": "code",
   "execution_count": 2,
   "id": "7ee121b1",
   "metadata": {},
   "outputs": [],
   "source": [
    "data = pd.read_csv('../data/training/train.csv',index_col=0, parse_dates=True)"
   ]
  },
  {
   "cell_type": "code",
   "execution_count": 3,
   "id": "e021953b",
   "metadata": {},
   "outputs": [],
   "source": [
    "pa_data = data.dropna()"
   ]
  },
  {
   "cell_type": "code",
   "execution_count": 4,
   "id": "4cbef8e5",
   "metadata": {},
   "outputs": [],
   "source": [
    "data = data.fillna(0)"
   ]
  },
  {
   "cell_type": "code",
   "execution_count": 5,
   "id": "ce30c1a2",
   "metadata": {},
   "outputs": [],
   "source": [
    "data['date_val'] = pd.to_datetime(data['date_val'])"
   ]
  },
  {
   "cell_type": "code",
   "execution_count": 6,
   "id": "924d35b9",
   "metadata": {},
   "outputs": [],
   "source": [
    "#data = data.drop(columns=['calendar_year','calendar_month','calendar_day'])"
   ]
  },
  {
   "cell_type": "code",
   "execution_count": 7,
   "id": "6f907a45",
   "metadata": {},
   "outputs": [
    {
     "data": {
      "text/html": [
       "<div>\n",
       "<style scoped>\n",
       "    .dataframe tbody tr th:only-of-type {\n",
       "        vertical-align: middle;\n",
       "    }\n",
       "\n",
       "    .dataframe tbody tr th {\n",
       "        vertical-align: top;\n",
       "    }\n",
       "\n",
       "    .dataframe thead th {\n",
       "        text-align: right;\n",
       "    }\n",
       "</style>\n",
       "<table border=\"1\" class=\"dataframe\">\n",
       "  <thead>\n",
       "    <tr style=\"text-align: right;\">\n",
       "      <th></th>\n",
       "      <th>date_val</th>\n",
       "      <th>calendar_year</th>\n",
       "      <th>calendar_month</th>\n",
       "      <th>calendar_day</th>\n",
       "      <th>day_of_week</th>\n",
       "      <th>is_weekday</th>\n",
       "      <th>is_workday</th>\n",
       "      <th>is_holiday</th>\n",
       "      <th>dim_claim_id</th>\n",
       "      <th>bin</th>\n",
       "      <th>drug</th>\n",
       "      <th>reject_code</th>\n",
       "      <th>pharmacy_claim_approved</th>\n",
       "      <th>dim_pa_id</th>\n",
       "      <th>correct_diagnosis</th>\n",
       "      <th>tried_and_failed</th>\n",
       "      <th>contraindication</th>\n",
       "      <th>pa_approved</th>\n",
       "      <th>dim_date_id</th>\n",
       "    </tr>\n",
       "  </thead>\n",
       "  <tbody>\n",
       "    <tr>\n",
       "      <th>106328</th>\n",
       "      <td>2017-04-07</td>\n",
       "      <td>2017</td>\n",
       "      <td>4</td>\n",
       "      <td>7</td>\n",
       "      <td>6</td>\n",
       "      <td>1</td>\n",
       "      <td>1</td>\n",
       "      <td>0</td>\n",
       "      <td>106329</td>\n",
       "      <td>999001</td>\n",
       "      <td>A</td>\n",
       "      <td>0</td>\n",
       "      <td>1</td>\n",
       "      <td>0.0</td>\n",
       "      <td>0.0</td>\n",
       "      <td>0.0</td>\n",
       "      <td>0.0</td>\n",
       "      <td>0.0</td>\n",
       "      <td>0.0</td>\n",
       "    </tr>\n",
       "    <tr>\n",
       "      <th>31702</th>\n",
       "      <td>2017-01-30</td>\n",
       "      <td>2017</td>\n",
       "      <td>1</td>\n",
       "      <td>30</td>\n",
       "      <td>2</td>\n",
       "      <td>1</td>\n",
       "      <td>1</td>\n",
       "      <td>0</td>\n",
       "      <td>31703</td>\n",
       "      <td>999001</td>\n",
       "      <td>C</td>\n",
       "      <td>0</td>\n",
       "      <td>1</td>\n",
       "      <td>0.0</td>\n",
       "      <td>0.0</td>\n",
       "      <td>0.0</td>\n",
       "      <td>0.0</td>\n",
       "      <td>0.0</td>\n",
       "      <td>0.0</td>\n",
       "    </tr>\n",
       "    <tr>\n",
       "      <th>1270970</th>\n",
       "      <td>2019-11-11</td>\n",
       "      <td>2019</td>\n",
       "      <td>11</td>\n",
       "      <td>11</td>\n",
       "      <td>2</td>\n",
       "      <td>1</td>\n",
       "      <td>1</td>\n",
       "      <td>0</td>\n",
       "      <td>1270971</td>\n",
       "      <td>417740</td>\n",
       "      <td>B</td>\n",
       "      <td>70</td>\n",
       "      <td>0</td>\n",
       "      <td>528977.0</td>\n",
       "      <td>1.0</td>\n",
       "      <td>1.0</td>\n",
       "      <td>0.0</td>\n",
       "      <td>0.0</td>\n",
       "      <td>1045.0</td>\n",
       "    </tr>\n",
       "    <tr>\n",
       "      <th>1093403</th>\n",
       "      <td>2019-06-28</td>\n",
       "      <td>2019</td>\n",
       "      <td>6</td>\n",
       "      <td>28</td>\n",
       "      <td>6</td>\n",
       "      <td>1</td>\n",
       "      <td>1</td>\n",
       "      <td>0</td>\n",
       "      <td>1093404</td>\n",
       "      <td>999001</td>\n",
       "      <td>A</td>\n",
       "      <td>76</td>\n",
       "      <td>0</td>\n",
       "      <td>454463.0</td>\n",
       "      <td>1.0</td>\n",
       "      <td>0.0</td>\n",
       "      <td>0.0</td>\n",
       "      <td>1.0</td>\n",
       "      <td>909.0</td>\n",
       "    </tr>\n",
       "    <tr>\n",
       "      <th>61846</th>\n",
       "      <td>2017-02-27</td>\n",
       "      <td>2017</td>\n",
       "      <td>2</td>\n",
       "      <td>27</td>\n",
       "      <td>2</td>\n",
       "      <td>1</td>\n",
       "      <td>1</td>\n",
       "      <td>0</td>\n",
       "      <td>61847</td>\n",
       "      <td>999001</td>\n",
       "      <td>A</td>\n",
       "      <td>0</td>\n",
       "      <td>1</td>\n",
       "      <td>0.0</td>\n",
       "      <td>0.0</td>\n",
       "      <td>0.0</td>\n",
       "      <td>0.0</td>\n",
       "      <td>0.0</td>\n",
       "      <td>0.0</td>\n",
       "    </tr>\n",
       "    <tr>\n",
       "      <th>...</th>\n",
       "      <td>...</td>\n",
       "      <td>...</td>\n",
       "      <td>...</td>\n",
       "      <td>...</td>\n",
       "      <td>...</td>\n",
       "      <td>...</td>\n",
       "      <td>...</td>\n",
       "      <td>...</td>\n",
       "      <td>...</td>\n",
       "      <td>...</td>\n",
       "      <td>...</td>\n",
       "      <td>...</td>\n",
       "      <td>...</td>\n",
       "      <td>...</td>\n",
       "      <td>...</td>\n",
       "      <td>...</td>\n",
       "      <td>...</td>\n",
       "      <td>...</td>\n",
       "      <td>...</td>\n",
       "    </tr>\n",
       "    <tr>\n",
       "      <th>110268</th>\n",
       "      <td>2017-04-11</td>\n",
       "      <td>2017</td>\n",
       "      <td>4</td>\n",
       "      <td>11</td>\n",
       "      <td>3</td>\n",
       "      <td>1</td>\n",
       "      <td>1</td>\n",
       "      <td>0</td>\n",
       "      <td>110269</td>\n",
       "      <td>417380</td>\n",
       "      <td>C</td>\n",
       "      <td>70</td>\n",
       "      <td>0</td>\n",
       "      <td>45579.0</td>\n",
       "      <td>1.0</td>\n",
       "      <td>1.0</td>\n",
       "      <td>0.0</td>\n",
       "      <td>1.0</td>\n",
       "      <td>101.0</td>\n",
       "    </tr>\n",
       "    <tr>\n",
       "      <th>259178</th>\n",
       "      <td>2017-09-03</td>\n",
       "      <td>2017</td>\n",
       "      <td>9</td>\n",
       "      <td>3</td>\n",
       "      <td>1</td>\n",
       "      <td>0</td>\n",
       "      <td>0</td>\n",
       "      <td>0</td>\n",
       "      <td>259179</td>\n",
       "      <td>999001</td>\n",
       "      <td>A</td>\n",
       "      <td>0</td>\n",
       "      <td>1</td>\n",
       "      <td>0.0</td>\n",
       "      <td>0.0</td>\n",
       "      <td>0.0</td>\n",
       "      <td>0.0</td>\n",
       "      <td>0.0</td>\n",
       "      <td>0.0</td>\n",
       "    </tr>\n",
       "    <tr>\n",
       "      <th>131932</th>\n",
       "      <td>2017-05-02</td>\n",
       "      <td>2017</td>\n",
       "      <td>5</td>\n",
       "      <td>2</td>\n",
       "      <td>3</td>\n",
       "      <td>1</td>\n",
       "      <td>1</td>\n",
       "      <td>0</td>\n",
       "      <td>131933</td>\n",
       "      <td>999001</td>\n",
       "      <td>A</td>\n",
       "      <td>0</td>\n",
       "      <td>1</td>\n",
       "      <td>0.0</td>\n",
       "      <td>0.0</td>\n",
       "      <td>0.0</td>\n",
       "      <td>0.0</td>\n",
       "      <td>0.0</td>\n",
       "      <td>0.0</td>\n",
       "    </tr>\n",
       "    <tr>\n",
       "      <th>671155</th>\n",
       "      <td>2018-08-14</td>\n",
       "      <td>2018</td>\n",
       "      <td>8</td>\n",
       "      <td>14</td>\n",
       "      <td>3</td>\n",
       "      <td>1</td>\n",
       "      <td>1</td>\n",
       "      <td>0</td>\n",
       "      <td>671156</td>\n",
       "      <td>999001</td>\n",
       "      <td>C</td>\n",
       "      <td>0</td>\n",
       "      <td>1</td>\n",
       "      <td>0.0</td>\n",
       "      <td>0.0</td>\n",
       "      <td>0.0</td>\n",
       "      <td>0.0</td>\n",
       "      <td>0.0</td>\n",
       "      <td>0.0</td>\n",
       "    </tr>\n",
       "    <tr>\n",
       "      <th>121958</th>\n",
       "      <td>2017-04-21</td>\n",
       "      <td>2017</td>\n",
       "      <td>4</td>\n",
       "      <td>21</td>\n",
       "      <td>6</td>\n",
       "      <td>1</td>\n",
       "      <td>1</td>\n",
       "      <td>0</td>\n",
       "      <td>121959</td>\n",
       "      <td>417740</td>\n",
       "      <td>C</td>\n",
       "      <td>75</td>\n",
       "      <td>0</td>\n",
       "      <td>50456.0</td>\n",
       "      <td>1.0</td>\n",
       "      <td>0.0</td>\n",
       "      <td>1.0</td>\n",
       "      <td>0.0</td>\n",
       "      <td>111.0</td>\n",
       "    </tr>\n",
       "  </tbody>\n",
       "</table>\n",
       "<p>894835 rows × 19 columns</p>\n",
       "</div>"
      ],
      "text/plain": [
       "          date_val  calendar_year  calendar_month  calendar_day  day_of_week  \\\n",
       "106328  2017-04-07           2017               4             7            6   \n",
       "31702   2017-01-30           2017               1            30            2   \n",
       "1270970 2019-11-11           2019              11            11            2   \n",
       "1093403 2019-06-28           2019               6            28            6   \n",
       "61846   2017-02-27           2017               2            27            2   \n",
       "...            ...            ...             ...           ...          ...   \n",
       "110268  2017-04-11           2017               4            11            3   \n",
       "259178  2017-09-03           2017               9             3            1   \n",
       "131932  2017-05-02           2017               5             2            3   \n",
       "671155  2018-08-14           2018               8            14            3   \n",
       "121958  2017-04-21           2017               4            21            6   \n",
       "\n",
       "         is_weekday  is_workday  is_holiday  dim_claim_id     bin drug  \\\n",
       "106328            1           1           0        106329  999001    A   \n",
       "31702             1           1           0         31703  999001    C   \n",
       "1270970           1           1           0       1270971  417740    B   \n",
       "1093403           1           1           0       1093404  999001    A   \n",
       "61846             1           1           0         61847  999001    A   \n",
       "...             ...         ...         ...           ...     ...  ...   \n",
       "110268            1           1           0        110269  417380    C   \n",
       "259178            0           0           0        259179  999001    A   \n",
       "131932            1           1           0        131933  999001    A   \n",
       "671155            1           1           0        671156  999001    C   \n",
       "121958            1           1           0        121959  417740    C   \n",
       "\n",
       "         reject_code  pharmacy_claim_approved  dim_pa_id  correct_diagnosis  \\\n",
       "106328             0                        1        0.0                0.0   \n",
       "31702              0                        1        0.0                0.0   \n",
       "1270970           70                        0   528977.0                1.0   \n",
       "1093403           76                        0   454463.0                1.0   \n",
       "61846              0                        1        0.0                0.0   \n",
       "...              ...                      ...        ...                ...   \n",
       "110268            70                        0    45579.0                1.0   \n",
       "259178             0                        1        0.0                0.0   \n",
       "131932             0                        1        0.0                0.0   \n",
       "671155             0                        1        0.0                0.0   \n",
       "121958            75                        0    50456.0                1.0   \n",
       "\n",
       "         tried_and_failed  contraindication  pa_approved  dim_date_id  \n",
       "106328                0.0               0.0          0.0          0.0  \n",
       "31702                 0.0               0.0          0.0          0.0  \n",
       "1270970               1.0               0.0          0.0       1045.0  \n",
       "1093403               0.0               0.0          1.0        909.0  \n",
       "61846                 0.0               0.0          0.0          0.0  \n",
       "...                   ...               ...          ...          ...  \n",
       "110268                1.0               0.0          1.0        101.0  \n",
       "259178                0.0               0.0          0.0          0.0  \n",
       "131932                0.0               0.0          0.0          0.0  \n",
       "671155                0.0               0.0          0.0          0.0  \n",
       "121958                0.0               1.0          0.0        111.0  \n",
       "\n",
       "[894835 rows x 19 columns]"
      ]
     },
     "execution_count": 7,
     "metadata": {},
     "output_type": "execute_result"
    }
   ],
   "source": [
    "data"
   ]
  },
  {
   "cell_type": "code",
   "execution_count": 8,
   "id": "f1137051",
   "metadata": {},
   "outputs": [
    {
     "data": {
      "text/plain": [
       "date_val                   False\n",
       "calendar_year              False\n",
       "calendar_month             False\n",
       "calendar_day               False\n",
       "day_of_week                False\n",
       "is_weekday                 False\n",
       "is_workday                 False\n",
       "is_holiday                 False\n",
       "dim_claim_id               False\n",
       "bin                        False\n",
       "drug                       False\n",
       "reject_code                False\n",
       "pharmacy_claim_approved    False\n",
       "dim_pa_id                  False\n",
       "correct_diagnosis          False\n",
       "tried_and_failed           False\n",
       "contraindication           False\n",
       "pa_approved                False\n",
       "dim_date_id                False\n",
       "dtype: bool"
      ]
     },
     "execution_count": 8,
     "metadata": {},
     "output_type": "execute_result"
    }
   ],
   "source": [
    "data.isna().any()"
   ]
  },
  {
   "cell_type": "markdown",
   "id": "72143b46",
   "metadata": {},
   "source": [
    "## General Information"
   ]
  },
  {
   "cell_type": "code",
   "execution_count": 9,
   "id": "2ff587e8",
   "metadata": {},
   "outputs": [
    {
     "name": "stdout",
     "output_type": "stream",
     "text": [
      "<class 'pandas.core.frame.DataFrame'>\n",
      "Int64Index: 894835 entries, 106328 to 121958\n",
      "Data columns (total 19 columns):\n",
      " #   Column                   Non-Null Count   Dtype         \n",
      "---  ------                   --------------   -----         \n",
      " 0   date_val                 894835 non-null  datetime64[ns]\n",
      " 1   calendar_year            894835 non-null  int64         \n",
      " 2   calendar_month           894835 non-null  int64         \n",
      " 3   calendar_day             894835 non-null  int64         \n",
      " 4   day_of_week              894835 non-null  int64         \n",
      " 5   is_weekday               894835 non-null  int64         \n",
      " 6   is_workday               894835 non-null  int64         \n",
      " 7   is_holiday               894835 non-null  int64         \n",
      " 8   dim_claim_id             894835 non-null  int64         \n",
      " 9   bin                      894835 non-null  int64         \n",
      " 10  drug                     894835 non-null  object        \n",
      " 11  reject_code              894835 non-null  int64         \n",
      " 12  pharmacy_claim_approved  894835 non-null  int64         \n",
      " 13  dim_pa_id                894835 non-null  float64       \n",
      " 14  correct_diagnosis        894835 non-null  float64       \n",
      " 15  tried_and_failed         894835 non-null  float64       \n",
      " 16  contraindication         894835 non-null  float64       \n",
      " 17  pa_approved              894835 non-null  float64       \n",
      " 18  dim_date_id              894835 non-null  float64       \n",
      "dtypes: datetime64[ns](1), float64(6), int64(11), object(1)\n",
      "memory usage: 136.5+ MB\n"
     ]
    }
   ],
   "source": [
    "data.info()"
   ]
  },
  {
   "cell_type": "code",
   "execution_count": 10,
   "id": "46297583",
   "metadata": {},
   "outputs": [
    {
     "data": {
      "text/html": [
       "<div>\n",
       "<style scoped>\n",
       "    .dataframe tbody tr th:only-of-type {\n",
       "        vertical-align: middle;\n",
       "    }\n",
       "\n",
       "    .dataframe tbody tr th {\n",
       "        vertical-align: top;\n",
       "    }\n",
       "\n",
       "    .dataframe thead th {\n",
       "        text-align: right;\n",
       "    }\n",
       "</style>\n",
       "<table border=\"1\" class=\"dataframe\">\n",
       "  <thead>\n",
       "    <tr style=\"text-align: right;\">\n",
       "      <th></th>\n",
       "      <th>calendar_year</th>\n",
       "      <th>calendar_month</th>\n",
       "      <th>calendar_day</th>\n",
       "      <th>day_of_week</th>\n",
       "      <th>is_weekday</th>\n",
       "      <th>is_workday</th>\n",
       "      <th>is_holiday</th>\n",
       "      <th>dim_claim_id</th>\n",
       "      <th>bin</th>\n",
       "      <th>reject_code</th>\n",
       "      <th>pharmacy_claim_approved</th>\n",
       "      <th>dim_pa_id</th>\n",
       "      <th>correct_diagnosis</th>\n",
       "      <th>tried_and_failed</th>\n",
       "      <th>contraindication</th>\n",
       "      <th>pa_approved</th>\n",
       "      <th>dim_date_id</th>\n",
       "    </tr>\n",
       "  </thead>\n",
       "  <tbody>\n",
       "    <tr>\n",
       "      <th>count</th>\n",
       "      <td>894835.000000</td>\n",
       "      <td>894835.000000</td>\n",
       "      <td>894835.000000</td>\n",
       "      <td>894835.000000</td>\n",
       "      <td>894835.000000</td>\n",
       "      <td>894835.000000</td>\n",
       "      <td>894835.000000</td>\n",
       "      <td>8.948350e+05</td>\n",
       "      <td>894835.000000</td>\n",
       "      <td>894835.000000</td>\n",
       "      <td>894835.000000</td>\n",
       "      <td>894835.000000</td>\n",
       "      <td>894835.000000</td>\n",
       "      <td>894835.000000</td>\n",
       "      <td>894835.000000</td>\n",
       "      <td>894835.000000</td>\n",
       "      <td>894835.000000</td>\n",
       "    </tr>\n",
       "    <tr>\n",
       "      <th>mean</th>\n",
       "      <td>2018.082193</td>\n",
       "      <td>6.416947</td>\n",
       "      <td>15.748319</td>\n",
       "      <td>4.019238</td>\n",
       "      <td>0.878542</td>\n",
       "      <td>0.864719</td>\n",
       "      <td>0.008236</td>\n",
       "      <td>6.675185e+05</td>\n",
       "      <td>696509.856614</td>\n",
       "      <td>30.316215</td>\n",
       "      <td>0.584074</td>\n",
       "      <td>115563.482591</td>\n",
       "      <td>0.332462</td>\n",
       "      <td>0.208469</td>\n",
       "      <td>0.083617</td>\n",
       "      <td>0.305526</td>\n",
       "      <td>239.400225</td>\n",
       "    </tr>\n",
       "    <tr>\n",
       "      <th>std</th>\n",
       "      <td>0.807606</td>\n",
       "      <td>3.456396</td>\n",
       "      <td>8.746217</td>\n",
       "      <td>1.670429</td>\n",
       "      <td>0.326659</td>\n",
       "      <td>0.342023</td>\n",
       "      <td>0.090379</td>\n",
       "      <td>3.856257e+05</td>\n",
       "      <td>290464.391553</td>\n",
       "      <td>35.966063</td>\n",
       "      <td>0.492881</td>\n",
       "      <td>171666.160556</td>\n",
       "      <td>0.471096</td>\n",
       "      <td>0.406214</td>\n",
       "      <td>0.276812</td>\n",
       "      <td>0.460630</td>\n",
       "      <td>347.713712</td>\n",
       "    </tr>\n",
       "    <tr>\n",
       "      <th>min</th>\n",
       "      <td>2017.000000</td>\n",
       "      <td>1.000000</td>\n",
       "      <td>1.000000</td>\n",
       "      <td>1.000000</td>\n",
       "      <td>0.000000</td>\n",
       "      <td>0.000000</td>\n",
       "      <td>0.000000</td>\n",
       "      <td>2.000000e+00</td>\n",
       "      <td>417380.000000</td>\n",
       "      <td>0.000000</td>\n",
       "      <td>0.000000</td>\n",
       "      <td>0.000000</td>\n",
       "      <td>0.000000</td>\n",
       "      <td>0.000000</td>\n",
       "      <td>0.000000</td>\n",
       "      <td>0.000000</td>\n",
       "      <td>0.000000</td>\n",
       "    </tr>\n",
       "    <tr>\n",
       "      <th>25%</th>\n",
       "      <td>2017.000000</td>\n",
       "      <td>3.000000</td>\n",
       "      <td>8.000000</td>\n",
       "      <td>3.000000</td>\n",
       "      <td>1.000000</td>\n",
       "      <td>1.000000</td>\n",
       "      <td>0.000000</td>\n",
       "      <td>3.334375e+05</td>\n",
       "      <td>417614.000000</td>\n",
       "      <td>0.000000</td>\n",
       "      <td>0.000000</td>\n",
       "      <td>0.000000</td>\n",
       "      <td>0.000000</td>\n",
       "      <td>0.000000</td>\n",
       "      <td>0.000000</td>\n",
       "      <td>0.000000</td>\n",
       "      <td>0.000000</td>\n",
       "    </tr>\n",
       "    <tr>\n",
       "      <th>50%</th>\n",
       "      <td>2018.000000</td>\n",
       "      <td>6.000000</td>\n",
       "      <td>16.000000</td>\n",
       "      <td>4.000000</td>\n",
       "      <td>1.000000</td>\n",
       "      <td>1.000000</td>\n",
       "      <td>0.000000</td>\n",
       "      <td>6.674160e+05</td>\n",
       "      <td>417740.000000</td>\n",
       "      <td>0.000000</td>\n",
       "      <td>1.000000</td>\n",
       "      <td>0.000000</td>\n",
       "      <td>0.000000</td>\n",
       "      <td>0.000000</td>\n",
       "      <td>0.000000</td>\n",
       "      <td>0.000000</td>\n",
       "      <td>0.000000</td>\n",
       "    </tr>\n",
       "    <tr>\n",
       "      <th>75%</th>\n",
       "      <td>2019.000000</td>\n",
       "      <td>9.000000</td>\n",
       "      <td>23.000000</td>\n",
       "      <td>5.000000</td>\n",
       "      <td>1.000000</td>\n",
       "      <td>1.000000</td>\n",
       "      <td>0.000000</td>\n",
       "      <td>1.001526e+06</td>\n",
       "      <td>999001.000000</td>\n",
       "      <td>70.000000</td>\n",
       "      <td>1.000000</td>\n",
       "      <td>221594.500000</td>\n",
       "      <td>1.000000</td>\n",
       "      <td>0.000000</td>\n",
       "      <td>0.000000</td>\n",
       "      <td>1.000000</td>\n",
       "      <td>480.000000</td>\n",
       "    </tr>\n",
       "    <tr>\n",
       "      <th>max</th>\n",
       "      <td>2019.000000</td>\n",
       "      <td>12.000000</td>\n",
       "      <td>31.000000</td>\n",
       "      <td>7.000000</td>\n",
       "      <td>1.000000</td>\n",
       "      <td>1.000000</td>\n",
       "      <td>1.000000</td>\n",
       "      <td>1.335576e+06</td>\n",
       "      <td>999001.000000</td>\n",
       "      <td>76.000000</td>\n",
       "      <td>1.000000</td>\n",
       "      <td>555950.000000</td>\n",
       "      <td>1.000000</td>\n",
       "      <td>1.000000</td>\n",
       "      <td>1.000000</td>\n",
       "      <td>1.000000</td>\n",
       "      <td>1095.000000</td>\n",
       "    </tr>\n",
       "  </tbody>\n",
       "</table>\n",
       "</div>"
      ],
      "text/plain": [
       "       calendar_year  calendar_month   calendar_day    day_of_week  \\\n",
       "count  894835.000000   894835.000000  894835.000000  894835.000000   \n",
       "mean     2018.082193        6.416947      15.748319       4.019238   \n",
       "std         0.807606        3.456396       8.746217       1.670429   \n",
       "min      2017.000000        1.000000       1.000000       1.000000   \n",
       "25%      2017.000000        3.000000       8.000000       3.000000   \n",
       "50%      2018.000000        6.000000      16.000000       4.000000   \n",
       "75%      2019.000000        9.000000      23.000000       5.000000   \n",
       "max      2019.000000       12.000000      31.000000       7.000000   \n",
       "\n",
       "          is_weekday     is_workday     is_holiday  dim_claim_id  \\\n",
       "count  894835.000000  894835.000000  894835.000000  8.948350e+05   \n",
       "mean        0.878542       0.864719       0.008236  6.675185e+05   \n",
       "std         0.326659       0.342023       0.090379  3.856257e+05   \n",
       "min         0.000000       0.000000       0.000000  2.000000e+00   \n",
       "25%         1.000000       1.000000       0.000000  3.334375e+05   \n",
       "50%         1.000000       1.000000       0.000000  6.674160e+05   \n",
       "75%         1.000000       1.000000       0.000000  1.001526e+06   \n",
       "max         1.000000       1.000000       1.000000  1.335576e+06   \n",
       "\n",
       "                 bin    reject_code  pharmacy_claim_approved      dim_pa_id  \\\n",
       "count  894835.000000  894835.000000            894835.000000  894835.000000   \n",
       "mean   696509.856614      30.316215                 0.584074  115563.482591   \n",
       "std    290464.391553      35.966063                 0.492881  171666.160556   \n",
       "min    417380.000000       0.000000                 0.000000       0.000000   \n",
       "25%    417614.000000       0.000000                 0.000000       0.000000   \n",
       "50%    417740.000000       0.000000                 1.000000       0.000000   \n",
       "75%    999001.000000      70.000000                 1.000000  221594.500000   \n",
       "max    999001.000000      76.000000                 1.000000  555950.000000   \n",
       "\n",
       "       correct_diagnosis  tried_and_failed  contraindication    pa_approved  \\\n",
       "count      894835.000000     894835.000000     894835.000000  894835.000000   \n",
       "mean            0.332462          0.208469          0.083617       0.305526   \n",
       "std             0.471096          0.406214          0.276812       0.460630   \n",
       "min             0.000000          0.000000          0.000000       0.000000   \n",
       "25%             0.000000          0.000000          0.000000       0.000000   \n",
       "50%             0.000000          0.000000          0.000000       0.000000   \n",
       "75%             1.000000          0.000000          0.000000       1.000000   \n",
       "max             1.000000          1.000000          1.000000       1.000000   \n",
       "\n",
       "         dim_date_id  \n",
       "count  894835.000000  \n",
       "mean      239.400225  \n",
       "std       347.713712  \n",
       "min         0.000000  \n",
       "25%         0.000000  \n",
       "50%         0.000000  \n",
       "75%       480.000000  \n",
       "max      1095.000000  "
      ]
     },
     "execution_count": 10,
     "metadata": {},
     "output_type": "execute_result"
    }
   ],
   "source": [
    "data.describe()"
   ]
  },
  {
   "cell_type": "markdown",
   "id": "6af0d08f",
   "metadata": {},
   "source": [
    "### How many drug types?"
   ]
  },
  {
   "cell_type": "code",
   "execution_count": 11,
   "id": "37498454",
   "metadata": {},
   "outputs": [
    {
     "data": {
      "text/plain": [
       "array(['A', 'B', 'C'], dtype=object)"
      ]
     },
     "execution_count": 11,
     "metadata": {},
     "output_type": "execute_result"
    }
   ],
   "source": [
    "np.unique(data['drug'])"
   ]
  },
  {
   "cell_type": "markdown",
   "id": "51bc584c",
   "metadata": {},
   "source": [
    "### How many payers? "
   ]
  },
  {
   "cell_type": "code",
   "execution_count": 12,
   "id": "3aaac11a",
   "metadata": {},
   "outputs": [
    {
     "data": {
      "text/plain": [
       "array([417380, 417614, 417740, 999001])"
      ]
     },
     "execution_count": 12,
     "metadata": {},
     "output_type": "execute_result"
    }
   ],
   "source": [
    "np.unique(data['bin'])"
   ]
  },
  {
   "cell_type": "markdown",
   "id": "5c841a3d",
   "metadata": {},
   "source": [
    "### How many reject codes? "
   ]
  },
  {
   "cell_type": "code",
   "execution_count": 13,
   "id": "c55fe787",
   "metadata": {},
   "outputs": [
    {
     "data": {
      "text/plain": [
       "array([ 0, 70, 75, 76])"
      ]
     },
     "execution_count": 13,
     "metadata": {},
     "output_type": "execute_result"
    }
   ],
   "source": [
    "np.unique(data['reject_code'])"
   ]
  },
  {
   "cell_type": "markdown",
   "id": "6db680e6",
   "metadata": {},
   "source": [
    "## Random Questions"
   ]
  },
  {
   "cell_type": "markdown",
   "id": "1b103a1d",
   "metadata": {},
   "source": [
    "### Diagnosis %"
   ]
  },
  {
   "cell_type": "markdown",
   "id": "4d43d5f1",
   "metadata": {},
   "source": [
    "### Correct diagnosis % by day of week."
   ]
  },
  {
   "cell_type": "code",
   "execution_count": 14,
   "id": "06ccb46c",
   "metadata": {},
   "outputs": [],
   "source": [
    "# for these questions only include cases where we have pa data"
   ]
  },
  {
   "cell_type": "code",
   "execution_count": 15,
   "id": "07d54f52",
   "metadata": {},
   "outputs": [],
   "source": [
    "daily = pa_data.groupby('day_of_week')"
   ]
  },
  {
   "cell_type": "code",
   "execution_count": 16,
   "id": "c5338264",
   "metadata": {},
   "outputs": [
    {
     "data": {
      "text/plain": [
       "<pandas.core.groupby.generic.SeriesGroupBy object at 0x7fdd0463e400>"
      ]
     },
     "execution_count": 16,
     "metadata": {},
     "output_type": "execute_result"
    }
   ],
   "source": [
    "daily['correct_diagnosis']"
   ]
  },
  {
   "cell_type": "code",
   "execution_count": 17,
   "id": "035bb05f",
   "metadata": {},
   "outputs": [],
   "source": [
    "diagnosis_rate = (daily['correct_diagnosis'].sum())/daily['correct_diagnosis'].count()"
   ]
  },
  {
   "cell_type": "code",
   "execution_count": 18,
   "id": "32a0f324",
   "metadata": {},
   "outputs": [
    {
     "data": {
      "text/plain": [
       "day_of_week\n",
       "1    0.801044\n",
       "2    0.796883\n",
       "3    0.801247\n",
       "4    0.800313\n",
       "5    0.797112\n",
       "6    0.799811\n",
       "7    0.800593\n",
       "Name: correct_diagnosis, dtype: float64"
      ]
     },
     "execution_count": 18,
     "metadata": {},
     "output_type": "execute_result"
    }
   ],
   "source": [
    "diagnosis_rate"
   ]
  },
  {
   "cell_type": "code",
   "execution_count": 19,
   "id": "b535dc33",
   "metadata": {},
   "outputs": [
    {
     "data": {
      "text/plain": [
       "<AxesSubplot:xlabel='day_of_week'>"
      ]
     },
     "execution_count": 19,
     "metadata": {},
     "output_type": "execute_result"
    },
    {
     "data": {
      "image/png": "[encoded data removed]",
      "text/plain": [
       "<Figure size 576x432 with 1 Axes>"
      ]
     },
     "metadata": {},
     "output_type": "display_data"
    }
   ],
   "source": [
    "diagnosis_rate.plot.bar(x='day of week', y='val')"
   ]
  },
  {
   "cell_type": "markdown",
   "id": "562b6df0",
   "metadata": {},
   "source": [
    "### Correct diagnosis % by weekday"
   ]
  },
  {
   "cell_type": "code",
   "execution_count": 20,
   "id": "fd89d390",
   "metadata": {},
   "outputs": [],
   "source": [
    "daily = pa_data.groupby('is_workday')"
   ]
  },
  {
   "cell_type": "code",
   "execution_count": 21,
   "id": "854d3eb9",
   "metadata": {},
   "outputs": [],
   "source": [
    "diagnosis_rate = (daily['correct_diagnosis'].sum())/daily['correct_diagnosis'].count()"
   ]
  },
  {
   "cell_type": "code",
   "execution_count": 22,
   "id": "5ce2c474",
   "metadata": {},
   "outputs": [
    {
     "data": {
      "text/plain": [
       "is_workday\n",
       "0    0.800599\n",
       "1    0.799132\n",
       "Name: correct_diagnosis, dtype: float64"
      ]
     },
     "execution_count": 22,
     "metadata": {},
     "output_type": "execute_result"
    }
   ],
   "source": [
    "diagnosis_rate"
   ]
  },
  {
   "cell_type": "code",
   "execution_count": 23,
   "id": "467e1387",
   "metadata": {},
   "outputs": [
    {
     "data": {
      "text/plain": [
       "<AxesSubplot:xlabel='is_workday'>"
      ]
     },
     "execution_count": 23,
     "metadata": {},
     "output_type": "execute_result"
    },
    {
     "data": {
      "image/png": "[encoded data removed]",
      "text/plain": [
       "<Figure size 576x432 with 1 Axes>"
      ]
     },
     "metadata": {},
     "output_type": "display_data"
    }
   ],
   "source": [
    "diagnosis_rate.plot.bar(x='day of week', y='val')"
   ]
  },
  {
   "cell_type": "markdown",
   "id": "ad4c7828",
   "metadata": {},
   "source": [
    "### Correct diagnosis % by holiday"
   ]
  },
  {
   "cell_type": "code",
   "execution_count": 24,
   "id": "1926e29f",
   "metadata": {},
   "outputs": [],
   "source": [
    "daily = pa_data.groupby('is_holiday')"
   ]
  },
  {
   "cell_type": "code",
   "execution_count": 25,
   "id": "034c2aec",
   "metadata": {},
   "outputs": [],
   "source": [
    "diagnosis_rate = (daily['correct_diagnosis'].sum())/daily['correct_diagnosis'].count()"
   ]
  },
  {
   "cell_type": "code",
   "execution_count": 26,
   "id": "15a8c412",
   "metadata": {},
   "outputs": [
    {
     "data": {
      "text/plain": [
       "is_holiday\n",
       "0    0.799311\n",
       "1    0.801749\n",
       "Name: correct_diagnosis, dtype: float64"
      ]
     },
     "execution_count": 26,
     "metadata": {},
     "output_type": "execute_result"
    }
   ],
   "source": [
    "diagnosis_rate"
   ]
  },
  {
   "cell_type": "code",
   "execution_count": 27,
   "id": "4398a0c1",
   "metadata": {},
   "outputs": [
    {
     "data": {
      "text/plain": [
       "<AxesSubplot:xlabel='is_holiday'>"
      ]
     },
     "execution_count": 27,
     "metadata": {},
     "output_type": "execute_result"
    },
    {
     "data": {
      "image/png": "[encoded data removed]",
      "text/plain": [
       "<Figure size 576x432 with 1 Axes>"
      ]
     },
     "metadata": {},
     "output_type": "display_data"
    }
   ],
   "source": [
    "diagnosis_rate.plot.bar(x='is holiday', y='val')"
   ]
  },
  {
   "cell_type": "markdown",
   "id": "1846b4a9",
   "metadata": {},
   "source": [
    "## Analyzing which factors tend to influence whether PAs are likely to be approved or denied."
   ]
  },
  {
   "cell_type": "code",
   "execution_count": 28,
   "id": "09dbeef6",
   "metadata": {},
   "outputs": [],
   "source": [
    "daily = pa_data.groupby('day_of_week')"
   ]
  },
  {
   "cell_type": "markdown",
   "id": "6cd22b8c",
   "metadata": {},
   "source": [
    "## Time Data"
   ]
  },
  {
   "cell_type": "code",
   "execution_count": 29,
   "id": "1d9f5efc",
   "metadata": {},
   "outputs": [],
   "source": [
    "pa_monthly_load = pa_data.groupby('calendar_month')['calendar_month'].count()"
   ]
  },
  {
   "cell_type": "code",
   "execution_count": 30,
   "id": "3002dc22",
   "metadata": {},
   "outputs": [
    {
     "data": {
      "text/plain": [
       "calendar_month\n",
       "1     32170\n",
       "2     30737\n",
       "3     34021\n",
       "4     31073\n",
       "5     31867\n",
       "6     29458\n",
       "7     30371\n",
       "8     31911\n",
       "9     29037\n",
       "10    31644\n",
       "11    29754\n",
       "12    30142\n",
       "Name: calendar_month, dtype: int64"
      ]
     },
     "execution_count": 30,
     "metadata": {},
     "output_type": "execute_result"
    }
   ],
   "source": [
    "pa_monthly_load"
   ]
  },
  {
   "cell_type": "code",
   "execution_count": 31,
   "id": "c3455ba8",
   "metadata": {},
   "outputs": [
    {
     "data": {
      "text/plain": [
       "<AxesSubplot:xlabel='calendar_month'>"
      ]
     },
     "execution_count": 31,
     "metadata": {},
     "output_type": "execute_result"
    },
    {
     "data": {
      "image/png": "[encoded data removed]",
      "text/plain": [
       "<Figure size 576x432 with 1 Axes>"
      ]
     },
     "metadata": {},
     "output_type": "display_data"
    }
   ],
   "source": [
    "pa_monthly_load.plot.bar(x='calendar_month', y='val')"
   ]
  },
  {
   "cell_type": "code",
   "execution_count": null,
   "id": "4be1286d",
   "metadata": {},
   "outputs": [],
   "source": []
  },
  {
   "cell_type": "code",
   "execution_count": null,
   "id": "41efc73f",
   "metadata": {},
   "outputs": [],
   "source": []
  },
  {
   "cell_type": "code",
   "execution_count": null,
   "id": "4380db66",
   "metadata": {},
   "outputs": [],
   "source": []
  }
 ],
 "metadata": {
  "kernelspec": {
   "display_name": "Python 3",
   "language": "python",
   "name": "python3"
  },
  "language_info": {
   "codemirror_mode": {
    "name": "ipython",
    "version": 3
   },
   "file_extension": ".py",
   "mimetype": "text/x-python",
   "name": "python",
   "nbconvert_exporter": "python",
   "pygments_lexer": "ipython3",
   "version": "3.8.8"
  }
 },
 "nbformat": 4,
 "nbformat_minor": 5
}
