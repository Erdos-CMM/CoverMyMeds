{
 "cells": [
  {
   "cell_type": "markdown",
   "id": "867baaf8",
   "metadata": {},
   "source": [
    "# Merging the data from CoverMyMeds \n",
    "\n",
    "#### We have some data from CoverMyMeds, which are stored in different .csv files. I am going to merge these data to a data frame in order to analize the data."
   ]
  },
  {
   "cell_type": "code",
   "execution_count": 3,
   "id": "518738b5",
   "metadata": {},
   "outputs": [],
   "source": [
    "import numpy as np\n",
    "import pandas as pd\n",
    "import matplotlib.pyplot as plt\n",
    "import seaborn as sns"
   ]
  },
  {
   "cell_type": "code",
   "execution_count": null,
   "id": "3973adb6",
   "metadata": {},
   "outputs": [],
   "source": []
  }
 ],
 "metadata": {
  "kernelspec": {
   "display_name": "Python 3",
   "language": "python",
   "name": "python3"
  },
  "language_info": {
   "codemirror_mode": {
    "name": "ipython",
    "version": 3
   },
   "file_extension": ".py",
   "mimetype": "text/x-python",
   "name": "python",
   "nbconvert_exporter": "python",
   "pygments_lexer": "ipython3",
   "version": "3.8.8"
  }
 },
 "nbformat": 4,
 "nbformat_minor": 5
}
