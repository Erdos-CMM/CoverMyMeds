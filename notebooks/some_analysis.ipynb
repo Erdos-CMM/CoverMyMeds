{
 "cells": [
  {
   "cell_type": "markdown",
   "id": "c841bb13",
   "metadata": {},
   "source": [
    "# Analysing the data\n",
    "\n",
    "In this notebook, I will analize the processed data. "
   ]
  },
  {
   "cell_type": "code",
   "execution_count": 40,
   "id": "120c8de4",
   "metadata": {},
   "outputs": [],
   "source": [
    "import numpy as np\n",
    "import pandas as pd \n",
    "import matplotlib.pyplot as plt\n",
    "import seaborn as sns \n",
    "\n",
    "sns.set_theme(style='whitegrid')"
   ]
  },
  {
   "cell_type": "code",
   "execution_count": 2,
   "id": "38e81530",
   "metadata": {},
   "outputs": [],
   "source": [
    "data = pd.read_csv('../data/processed_data/processed_data.csv')"
   ]
  },
  {
   "cell_type": "code",
   "execution_count": 3,
   "id": "696f6f7c",
   "metadata": {},
   "outputs": [
    {
     "data": {
      "text/html": [
       "<div>\n",
       "<style scoped>\n",
       "    .dataframe tbody tr th:only-of-type {\n",
       "        vertical-align: middle;\n",
       "    }\n",
       "\n",
       "    .dataframe tbody tr th {\n",
       "        vertical-align: top;\n",
       "    }\n",
       "\n",
       "    .dataframe thead th {\n",
       "        text-align: right;\n",
       "    }\n",
       "</style>\n",
       "<table border=\"1\" class=\"dataframe\">\n",
       "  <thead>\n",
       "    <tr style=\"text-align: right;\">\n",
       "      <th></th>\n",
       "      <th>Unnamed: 0</th>\n",
       "      <th>dim_claim_id</th>\n",
       "      <th>bin</th>\n",
       "      <th>drug</th>\n",
       "      <th>reject_code</th>\n",
       "      <th>pharmacy_claim_approved</th>\n",
       "      <th>dim_date_id</th>\n",
       "      <th>date_val</th>\n",
       "      <th>calendar_year</th>\n",
       "      <th>calendar_month</th>\n",
       "      <th>calendar_day</th>\n",
       "      <th>day_of_week</th>\n",
       "      <th>is_weekday</th>\n",
       "      <th>is_workday</th>\n",
       "      <th>is_holiday</th>\n",
       "      <th>dim_pa_id</th>\n",
       "      <th>correct_diagnosis</th>\n",
       "      <th>tried_and_failed</th>\n",
       "      <th>contraindication</th>\n",
       "      <th>pa_approved</th>\n",
       "    </tr>\n",
       "  </thead>\n",
       "  <tbody>\n",
       "    <tr>\n",
       "      <th>0</th>\n",
       "      <td>0</td>\n",
       "      <td>1</td>\n",
       "      <td>417380</td>\n",
       "      <td>A</td>\n",
       "      <td>75.0</td>\n",
       "      <td>0</td>\n",
       "      <td>1</td>\n",
       "      <td>2017-01-01</td>\n",
       "      <td>2017</td>\n",
       "      <td>1</td>\n",
       "      <td>1</td>\n",
       "      <td>1</td>\n",
       "      <td>0</td>\n",
       "      <td>0</td>\n",
       "      <td>1</td>\n",
       "      <td>1.0</td>\n",
       "      <td>1.0</td>\n",
       "      <td>1.0</td>\n",
       "      <td>0.0</td>\n",
       "      <td>1.0</td>\n",
       "    </tr>\n",
       "    <tr>\n",
       "      <th>1</th>\n",
       "      <td>1</td>\n",
       "      <td>2</td>\n",
       "      <td>999001</td>\n",
       "      <td>A</td>\n",
       "      <td>NaN</td>\n",
       "      <td>1</td>\n",
       "      <td>1</td>\n",
       "      <td>2017-01-01</td>\n",
       "      <td>2017</td>\n",
       "      <td>1</td>\n",
       "      <td>1</td>\n",
       "      <td>1</td>\n",
       "      <td>0</td>\n",
       "      <td>0</td>\n",
       "      <td>1</td>\n",
       "      <td>NaN</td>\n",
       "      <td>NaN</td>\n",
       "      <td>NaN</td>\n",
       "      <td>NaN</td>\n",
       "      <td>NaN</td>\n",
       "    </tr>\n",
       "    <tr>\n",
       "      <th>2</th>\n",
       "      <td>2</td>\n",
       "      <td>3</td>\n",
       "      <td>417740</td>\n",
       "      <td>A</td>\n",
       "      <td>76.0</td>\n",
       "      <td>0</td>\n",
       "      <td>1</td>\n",
       "      <td>2017-01-01</td>\n",
       "      <td>2017</td>\n",
       "      <td>1</td>\n",
       "      <td>1</td>\n",
       "      <td>1</td>\n",
       "      <td>0</td>\n",
       "      <td>0</td>\n",
       "      <td>1</td>\n",
       "      <td>2.0</td>\n",
       "      <td>1.0</td>\n",
       "      <td>0.0</td>\n",
       "      <td>0.0</td>\n",
       "      <td>1.0</td>\n",
       "    </tr>\n",
       "    <tr>\n",
       "      <th>3</th>\n",
       "      <td>3</td>\n",
       "      <td>4</td>\n",
       "      <td>999001</td>\n",
       "      <td>A</td>\n",
       "      <td>NaN</td>\n",
       "      <td>1</td>\n",
       "      <td>1</td>\n",
       "      <td>2017-01-01</td>\n",
       "      <td>2017</td>\n",
       "      <td>1</td>\n",
       "      <td>1</td>\n",
       "      <td>1</td>\n",
       "      <td>0</td>\n",
       "      <td>0</td>\n",
       "      <td>1</td>\n",
       "      <td>NaN</td>\n",
       "      <td>NaN</td>\n",
       "      <td>NaN</td>\n",
       "      <td>NaN</td>\n",
       "      <td>NaN</td>\n",
       "    </tr>\n",
       "    <tr>\n",
       "      <th>4</th>\n",
       "      <td>4</td>\n",
       "      <td>5</td>\n",
       "      <td>417740</td>\n",
       "      <td>A</td>\n",
       "      <td>NaN</td>\n",
       "      <td>1</td>\n",
       "      <td>1</td>\n",
       "      <td>2017-01-01</td>\n",
       "      <td>2017</td>\n",
       "      <td>1</td>\n",
       "      <td>1</td>\n",
       "      <td>1</td>\n",
       "      <td>0</td>\n",
       "      <td>0</td>\n",
       "      <td>1</td>\n",
       "      <td>NaN</td>\n",
       "      <td>NaN</td>\n",
       "      <td>NaN</td>\n",
       "      <td>NaN</td>\n",
       "      <td>NaN</td>\n",
       "    </tr>\n",
       "  </tbody>\n",
       "</table>\n",
       "</div>"
      ],
      "text/plain": [
       "   Unnamed: 0  dim_claim_id     bin drug  reject_code  \\\n",
       "0           0             1  417380    A         75.0   \n",
       "1           1             2  999001    A          NaN   \n",
       "2           2             3  417740    A         76.0   \n",
       "3           3             4  999001    A          NaN   \n",
       "4           4             5  417740    A          NaN   \n",
       "\n",
       "   pharmacy_claim_approved  dim_date_id    date_val  calendar_year  \\\n",
       "0                        0            1  2017-01-01           2017   \n",
       "1                        1            1  2017-01-01           2017   \n",
       "2                        0            1  2017-01-01           2017   \n",
       "3                        1            1  2017-01-01           2017   \n",
       "4                        1            1  2017-01-01           2017   \n",
       "\n",
       "   calendar_month  calendar_day  day_of_week  is_weekday  is_workday  \\\n",
       "0               1             1            1           0           0   \n",
       "1               1             1            1           0           0   \n",
       "2               1             1            1           0           0   \n",
       "3               1             1            1           0           0   \n",
       "4               1             1            1           0           0   \n",
       "\n",
       "   is_holiday  dim_pa_id  correct_diagnosis  tried_and_failed  \\\n",
       "0           1        1.0                1.0               1.0   \n",
       "1           1        NaN                NaN               NaN   \n",
       "2           1        2.0                1.0               0.0   \n",
       "3           1        NaN                NaN               NaN   \n",
       "4           1        NaN                NaN               NaN   \n",
       "\n",
       "   contraindication  pa_approved  \n",
       "0               0.0          1.0  \n",
       "1               NaN          NaN  \n",
       "2               0.0          1.0  \n",
       "3               NaN          NaN  \n",
       "4               NaN          NaN  "
      ]
     },
     "execution_count": 3,
     "metadata": {},
     "output_type": "execute_result"
    }
   ],
   "source": [
    "data.head()"
   ]
  },
  {
   "cell_type": "code",
   "execution_count": 4,
   "id": "817c2d11",
   "metadata": {},
   "outputs": [
    {
     "name": "stdout",
     "output_type": "stream",
     "text": [
      "<class 'pandas.core.frame.DataFrame'>\n",
      "RangeIndex: 1335576 entries, 0 to 1335575\n",
      "Data columns (total 20 columns):\n",
      " #   Column                   Non-Null Count    Dtype  \n",
      "---  ------                   --------------    -----  \n",
      " 0   Unnamed: 0               1335576 non-null  int64  \n",
      " 1   dim_claim_id             1335576 non-null  int64  \n",
      " 2   bin                      1335576 non-null  int64  \n",
      " 3   drug                     1335576 non-null  object \n",
      " 4   reject_code              555951 non-null   float64\n",
      " 5   pharmacy_claim_approved  1335576 non-null  int64  \n",
      " 6   dim_date_id              1335576 non-null  int64  \n",
      " 7   date_val                 1335576 non-null  object \n",
      " 8   calendar_year            1335576 non-null  int64  \n",
      " 9   calendar_month           1335576 non-null  int64  \n",
      " 10  calendar_day             1335576 non-null  int64  \n",
      " 11  day_of_week              1335576 non-null  int64  \n",
      " 12  is_weekday               1335576 non-null  int64  \n",
      " 13  is_workday               1335576 non-null  int64  \n",
      " 14  is_holiday               1335576 non-null  int64  \n",
      " 15  dim_pa_id                555951 non-null   float64\n",
      " 16  correct_diagnosis        555951 non-null   float64\n",
      " 17  tried_and_failed         555951 non-null   float64\n",
      " 18  contraindication         555951 non-null   float64\n",
      " 19  pa_approved              555951 non-null   float64\n",
      "dtypes: float64(6), int64(12), object(2)\n",
      "memory usage: 203.8+ MB\n"
     ]
    }
   ],
   "source": [
    "data.info()"
   ]
  },
  {
   "cell_type": "code",
   "execution_count": 5,
   "id": "1f44d73b",
   "metadata": {
    "scrolled": true
   },
   "outputs": [
    {
     "data": {
      "text/html": [
       "<div>\n",
       "<style scoped>\n",
       "    .dataframe tbody tr th:only-of-type {\n",
       "        vertical-align: middle;\n",
       "    }\n",
       "\n",
       "    .dataframe tbody tr th {\n",
       "        vertical-align: top;\n",
       "    }\n",
       "\n",
       "    .dataframe thead th {\n",
       "        text-align: right;\n",
       "    }\n",
       "</style>\n",
       "<table border=\"1\" class=\"dataframe\">\n",
       "  <thead>\n",
       "    <tr style=\"text-align: right;\">\n",
       "      <th></th>\n",
       "      <th>Unnamed: 0</th>\n",
       "      <th>dim_claim_id</th>\n",
       "      <th>bin</th>\n",
       "      <th>reject_code</th>\n",
       "      <th>pharmacy_claim_approved</th>\n",
       "      <th>dim_date_id</th>\n",
       "      <th>calendar_year</th>\n",
       "      <th>calendar_month</th>\n",
       "      <th>calendar_day</th>\n",
       "      <th>day_of_week</th>\n",
       "      <th>is_weekday</th>\n",
       "      <th>is_workday</th>\n",
       "      <th>is_holiday</th>\n",
       "      <th>dim_pa_id</th>\n",
       "      <th>correct_diagnosis</th>\n",
       "      <th>tried_and_failed</th>\n",
       "      <th>contraindication</th>\n",
       "      <th>pa_approved</th>\n",
       "    </tr>\n",
       "  </thead>\n",
       "  <tbody>\n",
       "    <tr>\n",
       "      <th>count</th>\n",
       "      <td>1.335576e+06</td>\n",
       "      <td>1.335576e+06</td>\n",
       "      <td>1.335576e+06</td>\n",
       "      <td>555951.000000</td>\n",
       "      <td>1.335576e+06</td>\n",
       "      <td>1.335576e+06</td>\n",
       "      <td>1.335576e+06</td>\n",
       "      <td>1.335576e+06</td>\n",
       "      <td>1.335576e+06</td>\n",
       "      <td>1.335576e+06</td>\n",
       "      <td>1.335576e+06</td>\n",
       "      <td>1.335576e+06</td>\n",
       "      <td>1.335576e+06</td>\n",
       "      <td>555951.00000</td>\n",
       "      <td>555951.000000</td>\n",
       "      <td>555951.00000</td>\n",
       "      <td>555951.000000</td>\n",
       "      <td>555951.000000</td>\n",
       "    </tr>\n",
       "    <tr>\n",
       "      <th>mean</th>\n",
       "      <td>6.677875e+05</td>\n",
       "      <td>6.677885e+05</td>\n",
       "      <td>6.965231e+05</td>\n",
       "      <td>72.887159</td>\n",
       "      <td>5.837369e-01</td>\n",
       "      <td>5.749331e+02</td>\n",
       "      <td>2.018083e+03</td>\n",
       "      <td>6.419265e+00</td>\n",
       "      <td>1.574646e+01</td>\n",
       "      <td>4.021111e+00</td>\n",
       "      <td>8.781567e-01</td>\n",
       "      <td>8.644061e-01</td>\n",
       "      <td>8.186730e-03</td>\n",
       "      <td>277976.00000</td>\n",
       "      <td>0.799819</td>\n",
       "      <td>0.50076</td>\n",
       "      <td>0.200802</td>\n",
       "      <td>0.734451</td>\n",
       "    </tr>\n",
       "    <tr>\n",
       "      <th>std</th>\n",
       "      <td>3.855477e+05</td>\n",
       "      <td>3.855477e+05</td>\n",
       "      <td>2.904649e+05</td>\n",
       "      <td>2.651888</td>\n",
       "      <td>4.929384e-01</td>\n",
       "      <td>3.117302e+02</td>\n",
       "      <td>8.073485e-01</td>\n",
       "      <td>3.454709e+00</td>\n",
       "      <td>8.746991e+00</td>\n",
       "      <td>1.671668e+00</td>\n",
       "      <td>3.271049e-01</td>\n",
       "      <td>3.423570e-01</td>\n",
       "      <td>9.010945e-02</td>\n",
       "      <td>160489.37409</td>\n",
       "      <td>0.400136</td>\n",
       "      <td>0.50000</td>\n",
       "      <td>0.400601</td>\n",
       "      <td>0.441625</td>\n",
       "    </tr>\n",
       "    <tr>\n",
       "      <th>min</th>\n",
       "      <td>0.000000e+00</td>\n",
       "      <td>1.000000e+00</td>\n",
       "      <td>4.173800e+05</td>\n",
       "      <td>70.000000</td>\n",
       "      <td>0.000000e+00</td>\n",
       "      <td>1.000000e+00</td>\n",
       "      <td>2.017000e+03</td>\n",
       "      <td>1.000000e+00</td>\n",
       "      <td>1.000000e+00</td>\n",
       "      <td>1.000000e+00</td>\n",
       "      <td>0.000000e+00</td>\n",
       "      <td>0.000000e+00</td>\n",
       "      <td>0.000000e+00</td>\n",
       "      <td>1.00000</td>\n",
       "      <td>0.000000</td>\n",
       "      <td>0.00000</td>\n",
       "      <td>0.000000</td>\n",
       "      <td>0.000000</td>\n",
       "    </tr>\n",
       "    <tr>\n",
       "      <th>25%</th>\n",
       "      <td>3.338938e+05</td>\n",
       "      <td>3.338948e+05</td>\n",
       "      <td>4.176140e+05</td>\n",
       "      <td>70.000000</td>\n",
       "      <td>0.000000e+00</td>\n",
       "      <td>3.170000e+02</td>\n",
       "      <td>2.017000e+03</td>\n",
       "      <td>3.000000e+00</td>\n",
       "      <td>8.000000e+00</td>\n",
       "      <td>3.000000e+00</td>\n",
       "      <td>1.000000e+00</td>\n",
       "      <td>1.000000e+00</td>\n",
       "      <td>0.000000e+00</td>\n",
       "      <td>138988.50000</td>\n",
       "      <td>1.000000</td>\n",
       "      <td>0.00000</td>\n",
       "      <td>0.000000</td>\n",
       "      <td>0.000000</td>\n",
       "    </tr>\n",
       "    <tr>\n",
       "      <th>50%</th>\n",
       "      <td>6.677875e+05</td>\n",
       "      <td>6.677885e+05</td>\n",
       "      <td>4.177400e+05</td>\n",
       "      <td>75.000000</td>\n",
       "      <td>1.000000e+00</td>\n",
       "      <td>5.890000e+02</td>\n",
       "      <td>2.018000e+03</td>\n",
       "      <td>6.000000e+00</td>\n",
       "      <td>1.600000e+01</td>\n",
       "      <td>4.000000e+00</td>\n",
       "      <td>1.000000e+00</td>\n",
       "      <td>1.000000e+00</td>\n",
       "      <td>0.000000e+00</td>\n",
       "      <td>277976.00000</td>\n",
       "      <td>1.000000</td>\n",
       "      <td>1.00000</td>\n",
       "      <td>0.000000</td>\n",
       "      <td>1.000000</td>\n",
       "    </tr>\n",
       "    <tr>\n",
       "      <th>75%</th>\n",
       "      <td>1.001681e+06</td>\n",
       "      <td>1.001682e+06</td>\n",
       "      <td>9.990010e+05</td>\n",
       "      <td>75.000000</td>\n",
       "      <td>1.000000e+00</td>\n",
       "      <td>8.420000e+02</td>\n",
       "      <td>2.019000e+03</td>\n",
       "      <td>9.000000e+00</td>\n",
       "      <td>2.300000e+01</td>\n",
       "      <td>5.000000e+00</td>\n",
       "      <td>1.000000e+00</td>\n",
       "      <td>1.000000e+00</td>\n",
       "      <td>0.000000e+00</td>\n",
       "      <td>416963.50000</td>\n",
       "      <td>1.000000</td>\n",
       "      <td>1.00000</td>\n",
       "      <td>0.000000</td>\n",
       "      <td>1.000000</td>\n",
       "    </tr>\n",
       "    <tr>\n",
       "      <th>max</th>\n",
       "      <td>1.335575e+06</td>\n",
       "      <td>1.335576e+06</td>\n",
       "      <td>9.990010e+05</td>\n",
       "      <td>76.000000</td>\n",
       "      <td>1.000000e+00</td>\n",
       "      <td>1.095000e+03</td>\n",
       "      <td>2.019000e+03</td>\n",
       "      <td>1.200000e+01</td>\n",
       "      <td>3.100000e+01</td>\n",
       "      <td>7.000000e+00</td>\n",
       "      <td>1.000000e+00</td>\n",
       "      <td>1.000000e+00</td>\n",
       "      <td>1.000000e+00</td>\n",
       "      <td>555951.00000</td>\n",
       "      <td>1.000000</td>\n",
       "      <td>1.00000</td>\n",
       "      <td>1.000000</td>\n",
       "      <td>1.000000</td>\n",
       "    </tr>\n",
       "  </tbody>\n",
       "</table>\n",
       "</div>"
      ],
      "text/plain": [
       "         Unnamed: 0  dim_claim_id           bin    reject_code  \\\n",
       "count  1.335576e+06  1.335576e+06  1.335576e+06  555951.000000   \n",
       "mean   6.677875e+05  6.677885e+05  6.965231e+05      72.887159   \n",
       "std    3.855477e+05  3.855477e+05  2.904649e+05       2.651888   \n",
       "min    0.000000e+00  1.000000e+00  4.173800e+05      70.000000   \n",
       "25%    3.338938e+05  3.338948e+05  4.176140e+05      70.000000   \n",
       "50%    6.677875e+05  6.677885e+05  4.177400e+05      75.000000   \n",
       "75%    1.001681e+06  1.001682e+06  9.990010e+05      75.000000   \n",
       "max    1.335575e+06  1.335576e+06  9.990010e+05      76.000000   \n",
       "\n",
       "       pharmacy_claim_approved   dim_date_id  calendar_year  calendar_month  \\\n",
       "count             1.335576e+06  1.335576e+06   1.335576e+06    1.335576e+06   \n",
       "mean              5.837369e-01  5.749331e+02   2.018083e+03    6.419265e+00   \n",
       "std               4.929384e-01  3.117302e+02   8.073485e-01    3.454709e+00   \n",
       "min               0.000000e+00  1.000000e+00   2.017000e+03    1.000000e+00   \n",
       "25%               0.000000e+00  3.170000e+02   2.017000e+03    3.000000e+00   \n",
       "50%               1.000000e+00  5.890000e+02   2.018000e+03    6.000000e+00   \n",
       "75%               1.000000e+00  8.420000e+02   2.019000e+03    9.000000e+00   \n",
       "max               1.000000e+00  1.095000e+03   2.019000e+03    1.200000e+01   \n",
       "\n",
       "       calendar_day   day_of_week    is_weekday    is_workday    is_holiday  \\\n",
       "count  1.335576e+06  1.335576e+06  1.335576e+06  1.335576e+06  1.335576e+06   \n",
       "mean   1.574646e+01  4.021111e+00  8.781567e-01  8.644061e-01  8.186730e-03   \n",
       "std    8.746991e+00  1.671668e+00  3.271049e-01  3.423570e-01  9.010945e-02   \n",
       "min    1.000000e+00  1.000000e+00  0.000000e+00  0.000000e+00  0.000000e+00   \n",
       "25%    8.000000e+00  3.000000e+00  1.000000e+00  1.000000e+00  0.000000e+00   \n",
       "50%    1.600000e+01  4.000000e+00  1.000000e+00  1.000000e+00  0.000000e+00   \n",
       "75%    2.300000e+01  5.000000e+00  1.000000e+00  1.000000e+00  0.000000e+00   \n",
       "max    3.100000e+01  7.000000e+00  1.000000e+00  1.000000e+00  1.000000e+00   \n",
       "\n",
       "          dim_pa_id  correct_diagnosis  tried_and_failed  contraindication  \\\n",
       "count  555951.00000      555951.000000      555951.00000     555951.000000   \n",
       "mean   277976.00000           0.799819           0.50076          0.200802   \n",
       "std    160489.37409           0.400136           0.50000          0.400601   \n",
       "min         1.00000           0.000000           0.00000          0.000000   \n",
       "25%    138988.50000           1.000000           0.00000          0.000000   \n",
       "50%    277976.00000           1.000000           1.00000          0.000000   \n",
       "75%    416963.50000           1.000000           1.00000          0.000000   \n",
       "max    555951.00000           1.000000           1.00000          1.000000   \n",
       "\n",
       "         pa_approved  \n",
       "count  555951.000000  \n",
       "mean        0.734451  \n",
       "std         0.441625  \n",
       "min         0.000000  \n",
       "25%         0.000000  \n",
       "50%         1.000000  \n",
       "75%         1.000000  \n",
       "max         1.000000  "
      ]
     },
     "execution_count": 5,
     "metadata": {},
     "output_type": "execute_result"
    }
   ],
   "source": [
    "data.describe()"
   ]
  },
  {
   "cell_type": "code",
   "execution_count": 6,
   "id": "dfc2bbad",
   "metadata": {},
   "outputs": [
    {
     "data": {
      "text/plain": [
       "array(['A', 'B', 'C'], dtype=object)"
      ]
     },
     "execution_count": 6,
     "metadata": {},
     "output_type": "execute_result"
    }
   ],
   "source": [
    "data['drug'].unique()"
   ]
  },
  {
   "cell_type": "markdown",
   "id": "e6ed7b86",
   "metadata": {},
   "source": [
    "Which reject code appeared most?"
   ]
  },
  {
   "cell_type": "code",
   "execution_count": 7,
   "id": "984c882a",
   "metadata": {},
   "outputs": [
    {
     "data": {
      "text/plain": [
       "70.0    252206\n",
       "75.0    217351\n",
       "76.0     86394\n",
       "Name: reject_code, dtype: int64"
      ]
     },
     "execution_count": 7,
     "metadata": {},
     "output_type": "execute_result"
    }
   ],
   "source": [
    "data['reject_code'].value_counts()"
   ]
  },
  {
   "cell_type": "markdown",
   "id": "829f054d",
   "metadata": {},
   "source": [
    "So the reject code 70.0 appeared most (252206 times), and the reject code 70.0 implies that a drug is not covered by the plan and is not on formulary, and typically implies that another course of therapy should be pursued."
   ]
  },
  {
   "cell_type": "markdown",
   "id": "378834ad",
   "metadata": {},
   "source": [
    "Rejection rate? \n",
    "\n",
    "The \"pharmacy_claim_approved\" column tells if the claim is approved or rejected. 1 means approved, 0 means rejected. "
   ]
  },
  {
   "cell_type": "code",
   "execution_count": 8,
   "id": "f075b253",
   "metadata": {},
   "outputs": [
    {
     "data": {
      "text/plain": [
       "0.4162630954734137"
      ]
     },
     "execution_count": 8,
     "metadata": {},
     "output_type": "execute_result"
    }
   ],
   "source": [
    "data['pharmacy_claim_approved'].value_counts()[0]/data['pharmacy_claim_approved'].value_counts().sum()"
   ]
  },
  {
   "cell_type": "markdown",
   "id": "18022a4d",
   "metadata": {},
   "source": [
    "So the rejection rate is 41.6263%. What is the percentage of the rejection with rejection code 75?"
   ]
  },
  {
   "cell_type": "code",
   "execution_count": 9,
   "id": "9e9876b9",
   "metadata": {},
   "outputs": [
    {
     "data": {
      "text/plain": [
       "0.16273952212378778"
      ]
     },
     "execution_count": 9,
     "metadata": {},
     "output_type": "execute_result"
    }
   ],
   "source": [
    "data['reject_code'].value_counts()[75]/data['pharmacy_claim_approved'].value_counts().sum()"
   ]
  },
  {
   "cell_type": "markdown",
   "id": "c7d35fec",
   "metadata": {},
   "source": [
    "So 16.2739% of claims are rejected with rejection code 75. CoverMyMeds uses ePA to prevent rejection with rejection code 75 (PA is required). So it can reduce rejection rate up to 16.2739%. "
   ]
  },
  {
   "cell_type": "code",
   "execution_count": null,
   "id": "ccdb19a1",
   "metadata": {},
   "outputs": [],
   "source": []
  },
  {
   "cell_type": "code",
   "execution_count": 10,
   "id": "e57ca2a6",
   "metadata": {},
   "outputs": [
    {
     "data": {
      "text/plain": [
       "<AxesSubplot:xlabel='drug', ylabel='Count'>"
      ]
     },
     "execution_count": 10,
     "metadata": {},
     "output_type": "execute_result"
    },
    {
     "data": {
      "image/png": "[encoded data removed]",
      "text/plain": [
       "<Figure size 432x288 with 1 Axes>"
      ]
     },
     "metadata": {},
     "output_type": "display_data"
    }
   ],
   "source": [
    "sns.histplot(data=data,x='drug',hue='pharmacy_claim_approved')"
   ]
  },
  {
   "cell_type": "code",
   "execution_count": 11,
   "id": "905dd823",
   "metadata": {},
   "outputs": [
    {
     "data": {
      "text/plain": [
       "<AxesSubplot:xlabel='calendar_month', ylabel='Count'>"
      ]
     },
     "execution_count": 11,
     "metadata": {},
     "output_type": "execute_result"
    },
    {
     "data": {
      "image/png": "[encoded data removed]",
      "text/plain": [
       "<Figure size 432x288 with 1 Axes>"
      ]
     },
     "metadata": {},
     "output_type": "display_data"
    }
   ],
   "source": [
    "sns.histplot(data=data,x='calendar_month',hue='pharmacy_claim_approved')"
   ]
  },
  {
   "cell_type": "code",
   "execution_count": 12,
   "id": "b44ed6a2",
   "metadata": {},
   "outputs": [
    {
     "data": {
      "text/plain": [
       "<AxesSubplot:xlabel='calendar_month', ylabel='Count'>"
      ]
     },
     "execution_count": 12,
     "metadata": {},
     "output_type": "execute_result"
    },
    {
     "data": {
      "image/png": "[encoded data removed]",
      "text/plain": [
       "<Figure size 432x288 with 1 Axes>"
      ]
     },
     "metadata": {},
     "output_type": "display_data"
    }
   ],
   "source": [
    "sns.histplot(data=data,x='calendar_month',hue='reject_code')"
   ]
  },
  {
   "cell_type": "code",
   "execution_count": 23,
   "id": "5a41cb1f",
   "metadata": {},
   "outputs": [
    {
     "data": {
      "text/plain": [
       "0          2017-01-01\n",
       "1          2017-01-01\n",
       "2          2017-01-01\n",
       "3          2017-01-01\n",
       "4          2017-01-01\n",
       "              ...    \n",
       "1335571    2019-12-31\n",
       "1335572    2019-12-31\n",
       "1335573    2019-12-31\n",
       "1335574    2019-12-31\n",
       "1335575    2019-12-31\n",
       "Name: date_val, Length: 1335576, dtype: object"
      ]
     },
     "execution_count": 23,
     "metadata": {},
     "output_type": "execute_result"
    }
   ],
   "source": [
    "data['date_val']"
   ]
  },
  {
   "cell_type": "code",
   "execution_count": 43,
   "id": "ef827d43",
   "metadata": {},
   "outputs": [
    {
     "data": {
      "text/plain": [
       "array([2017, 2018, 2019])"
      ]
     },
     "execution_count": 43,
     "metadata": {},
     "output_type": "execute_result"
    }
   ],
   "source": [
    "data['calendar_year'].unique()"
   ]
  },
  {
   "cell_type": "code",
   "execution_count": 41,
   "id": "c0414b67",
   "metadata": {
    "scrolled": true
   },
   "outputs": [
    {
     "data": {
      "image/png": "[encoded data removed]",
      "text/plain": [
       "<Figure size 720x576 with 1 Axes>"
      ]
     },
     "metadata": {},
     "output_type": "display_data"
    }
   ],
   "source": [
    "months=[1,2,3,4,5,6,7,8,9,10,11,12]\n",
    "\n",
    "plt.figure(figsize=(10,8))\n",
    "\n",
    "plt.scatter(months, data['calendar_month'].value_counts()[months])\n",
    "\n",
    "plt.xlabel(\"calendar month\") \n",
    "plt.ylabel(\"number of claims\")\n",
    "\n",
    "plt.show()"
   ]
  },
  {
   "cell_type": "code",
   "execution_count": 61,
   "id": "1b20400a",
   "metadata": {
    "scrolled": false
   },
   "outputs": [
    {
     "data": {
      "image/png": "[encoded data removed]",
      "text/plain": [
       "<Figure size 720x576 with 1 Axes>"
      ]
     },
     "metadata": {},
     "output_type": "display_data"
    }
   ],
   "source": [
    "\n",
    "plt.figure(figsize=(10,8))\n",
    "\n",
    "plt.scatter(months, data[data['calendar_year']==2019]['calendar_month'].value_counts()[months])\n",
    "\n",
    "plt.xlabel(\"calendar month\") \n",
    "plt.ylabel(\"number of claims\")\n",
    "\n",
    "plt.title(\"number of claims by month in 2019\")\n",
    "\n",
    "plt.show()"
   ]
  },
  {
   "cell_type": "code",
   "execution_count": 63,
   "id": "483547da",
   "metadata": {
    "scrolled": true
   },
   "outputs": [
    {
     "data": {
      "image/png": "[encoded data removed]",
      "text/plain": [
       "<Figure size 720x576 with 1 Axes>"
      ]
     },
     "metadata": {},
     "output_type": "display_data"
    }
   ],
   "source": [
    "plt.figure(figsize=(10,8))\n",
    "\n",
    "plt.scatter(months, data[data['calendar_year']==2018]['calendar_month'].value_counts()[months])\n",
    "\n",
    "plt.xlabel(\"calendar month\") \n",
    "plt.ylabel(\"number of claims\")\n",
    "\n",
    "plt.title(\"number of claims by month in 2018\")\n",
    "\n",
    "plt.show()"
   ]
  },
  {
   "cell_type": "code",
   "execution_count": 72,
   "id": "7a6d46a9",
   "metadata": {},
   "outputs": [
    {
     "data": {
      "image/png": "[encoded data removed]",
      "text/plain": [
       "<Figure size 720x576 with 4 Axes>"
      ]
     },
     "metadata": {},
     "output_type": "display_data"
    }
   ],
   "source": [
    "fig, axes = plt.subplots(nrows=2,ncols=2,figsize=(10,8)) \n",
    "\n",
    "axes[0,0].scatter(months, data['calendar_month'].value_counts()[months])\n",
    "axes[0,0].set_title('number of claims by months during all time period')\n",
    "axes[0,0].set_xlabel('calendar months')\n",
    "axes[0,0].set_ylabel('number of claims')\n",
    "\n",
    "axes[0,1].scatter(months, data[data['calendar_year']==2017]['calendar_month'].value_counts()[months])\n",
    "axes[0,1].set_title('number of claims by months in 2017')\n",
    "axes[0,1].set_xlabel('calendar months')\n",
    "axes[0,1].set_ylabel('number of claims')\n",
    "\n",
    "axes[1,0].scatter(months, data[data['calendar_year']==2018]['calendar_month'].value_counts()[months])\n",
    "axes[1,0].set_title('number of claims by months in 2018')\n",
    "axes[1,0].set_xlabel('calendar months')\n",
    "axes[1,0].set_ylabel('number of claims')\n",
    "\n",
    "axes[1,1].scatter(months, data[data['calendar_year']==2019]['calendar_month'].value_counts()[months]) \n",
    "axes[1,1].set_title('number of claims by months in 2019')\n",
    "axes[1,1].set_xlabel('calendar months')\n",
    "axes[1,1].set_ylabel('number of claims')\n",
    "\n",
    "fig.subplots_adjust(left=None, right=None, top=None, bottom=None, wspace=0.5, hspace=0.5)\n",
    "\n",
    "plt.show()\n"
   ]
  },
  {
   "cell_type": "code",
   "execution_count": 48,
   "id": "458c2462",
   "metadata": {},
   "outputs": [],
   "source": [
    "from datetime import datetime"
   ]
  },
  {
   "cell_type": "code",
   "execution_count": 51,
   "id": "42d2edd3",
   "metadata": {},
   "outputs": [
    {
     "data": {
      "text/plain": [
       "0         2017-01-01\n",
       "1         2017-01-01\n",
       "2         2017-01-01\n",
       "3         2017-01-01\n",
       "4         2017-01-01\n",
       "             ...    \n",
       "1335571   2019-12-31\n",
       "1335572   2019-12-31\n",
       "1335573   2019-12-31\n",
       "1335574   2019-12-31\n",
       "1335575   2019-12-31\n",
       "Name: date_val, Length: 1335576, dtype: datetime64[ns]"
      ]
     },
     "execution_count": 51,
     "metadata": {},
     "output_type": "execute_result"
    }
   ],
   "source": [
    "pd.to_datetime(data['date_val'])"
   ]
  },
  {
   "cell_type": "code",
   "execution_count": 52,
   "id": "30621fb3",
   "metadata": {},
   "outputs": [],
   "source": [
    "data['DATE'] = pd.to_datetime(data['date_val'])"
   ]
  },
  {
   "cell_type": "code",
   "execution_count": 57,
   "id": "61ecbc7f",
   "metadata": {},
   "outputs": [
    {
     "data": {
      "text/plain": [
       "0         2017-01-01\n",
       "1         2017-01-01\n",
       "2         2017-01-01\n",
       "3         2017-01-01\n",
       "4         2017-01-01\n",
       "             ...    \n",
       "1335571   2019-12-31\n",
       "1335572   2019-12-31\n",
       "1335573   2019-12-31\n",
       "1335574   2019-12-31\n",
       "1335575   2019-12-31\n",
       "Name: DATE, Length: 1335576, dtype: datetime64[ns]"
      ]
     },
     "execution_count": 57,
     "metadata": {},
     "output_type": "execute_result"
    }
   ],
   "source": [
    "data['DATE']"
   ]
  },
  {
   "cell_type": "code",
   "execution_count": 54,
   "id": "e84b448e",
   "metadata": {},
   "outputs": [
    {
     "data": {
      "text/html": [
       "<div>\n",
       "<style scoped>\n",
       "    .dataframe tbody tr th:only-of-type {\n",
       "        vertical-align: middle;\n",
       "    }\n",
       "\n",
       "    .dataframe tbody tr th {\n",
       "        vertical-align: top;\n",
       "    }\n",
       "\n",
       "    .dataframe thead th {\n",
       "        text-align: right;\n",
       "    }\n",
       "</style>\n",
       "<table border=\"1\" class=\"dataframe\">\n",
       "  <thead>\n",
       "    <tr style=\"text-align: right;\">\n",
       "      <th></th>\n",
       "      <th>Unnamed: 0</th>\n",
       "      <th>dim_claim_id</th>\n",
       "      <th>bin</th>\n",
       "      <th>drug</th>\n",
       "      <th>reject_code</th>\n",
       "      <th>pharmacy_claim_approved</th>\n",
       "      <th>dim_date_id</th>\n",
       "      <th>date_val</th>\n",
       "      <th>calendar_year</th>\n",
       "      <th>calendar_month</th>\n",
       "      <th>...</th>\n",
       "      <th>day_of_week</th>\n",
       "      <th>is_weekday</th>\n",
       "      <th>is_workday</th>\n",
       "      <th>is_holiday</th>\n",
       "      <th>dim_pa_id</th>\n",
       "      <th>correct_diagnosis</th>\n",
       "      <th>tried_and_failed</th>\n",
       "      <th>contraindication</th>\n",
       "      <th>pa_approved</th>\n",
       "      <th>DATE</th>\n",
       "    </tr>\n",
       "  </thead>\n",
       "  <tbody>\n",
       "    <tr>\n",
       "      <th>0</th>\n",
       "      <td>0</td>\n",
       "      <td>1</td>\n",
       "      <td>417380</td>\n",
       "      <td>A</td>\n",
       "      <td>75.0</td>\n",
       "      <td>0</td>\n",
       "      <td>1</td>\n",
       "      <td>2017-01-01</td>\n",
       "      <td>2017</td>\n",
       "      <td>1</td>\n",
       "      <td>...</td>\n",
       "      <td>1</td>\n",
       "      <td>0</td>\n",
       "      <td>0</td>\n",
       "      <td>1</td>\n",
       "      <td>1.0</td>\n",
       "      <td>1.0</td>\n",
       "      <td>1.0</td>\n",
       "      <td>0.0</td>\n",
       "      <td>1.0</td>\n",
       "      <td>2017-01-01</td>\n",
       "    </tr>\n",
       "    <tr>\n",
       "      <th>142</th>\n",
       "      <td>142</td>\n",
       "      <td>143</td>\n",
       "      <td>999001</td>\n",
       "      <td>B</td>\n",
       "      <td>NaN</td>\n",
       "      <td>1</td>\n",
       "      <td>1</td>\n",
       "      <td>2017-01-01</td>\n",
       "      <td>2017</td>\n",
       "      <td>1</td>\n",
       "      <td>...</td>\n",
       "      <td>1</td>\n",
       "      <td>0</td>\n",
       "      <td>0</td>\n",
       "      <td>1</td>\n",
       "      <td>NaN</td>\n",
       "      <td>NaN</td>\n",
       "      <td>NaN</td>\n",
       "      <td>NaN</td>\n",
       "      <td>NaN</td>\n",
       "      <td>2017-01-01</td>\n",
       "    </tr>\n",
       "    <tr>\n",
       "      <th>143</th>\n",
       "      <td>143</td>\n",
       "      <td>144</td>\n",
       "      <td>999001</td>\n",
       "      <td>B</td>\n",
       "      <td>NaN</td>\n",
       "      <td>1</td>\n",
       "      <td>1</td>\n",
       "      <td>2017-01-01</td>\n",
       "      <td>2017</td>\n",
       "      <td>1</td>\n",
       "      <td>...</td>\n",
       "      <td>1</td>\n",
       "      <td>0</td>\n",
       "      <td>0</td>\n",
       "      <td>1</td>\n",
       "      <td>NaN</td>\n",
       "      <td>NaN</td>\n",
       "      <td>NaN</td>\n",
       "      <td>NaN</td>\n",
       "      <td>NaN</td>\n",
       "      <td>2017-01-01</td>\n",
       "    </tr>\n",
       "    <tr>\n",
       "      <th>144</th>\n",
       "      <td>144</td>\n",
       "      <td>145</td>\n",
       "      <td>999001</td>\n",
       "      <td>B</td>\n",
       "      <td>NaN</td>\n",
       "      <td>1</td>\n",
       "      <td>1</td>\n",
       "      <td>2017-01-01</td>\n",
       "      <td>2017</td>\n",
       "      <td>1</td>\n",
       "      <td>...</td>\n",
       "      <td>1</td>\n",
       "      <td>0</td>\n",
       "      <td>0</td>\n",
       "      <td>1</td>\n",
       "      <td>NaN</td>\n",
       "      <td>NaN</td>\n",
       "      <td>NaN</td>\n",
       "      <td>NaN</td>\n",
       "      <td>NaN</td>\n",
       "      <td>2017-01-01</td>\n",
       "    </tr>\n",
       "    <tr>\n",
       "      <th>145</th>\n",
       "      <td>145</td>\n",
       "      <td>146</td>\n",
       "      <td>417740</td>\n",
       "      <td>B</td>\n",
       "      <td>70.0</td>\n",
       "      <td>0</td>\n",
       "      <td>1</td>\n",
       "      <td>2017-01-01</td>\n",
       "      <td>2017</td>\n",
       "      <td>1</td>\n",
       "      <td>...</td>\n",
       "      <td>1</td>\n",
       "      <td>0</td>\n",
       "      <td>0</td>\n",
       "      <td>1</td>\n",
       "      <td>61.0</td>\n",
       "      <td>1.0</td>\n",
       "      <td>0.0</td>\n",
       "      <td>0.0</td>\n",
       "      <td>1.0</td>\n",
       "      <td>2017-01-01</td>\n",
       "    </tr>\n",
       "    <tr>\n",
       "      <th>...</th>\n",
       "      <td>...</td>\n",
       "      <td>...</td>\n",
       "      <td>...</td>\n",
       "      <td>...</td>\n",
       "      <td>...</td>\n",
       "      <td>...</td>\n",
       "      <td>...</td>\n",
       "      <td>...</td>\n",
       "      <td>...</td>\n",
       "      <td>...</td>\n",
       "      <td>...</td>\n",
       "      <td>...</td>\n",
       "      <td>...</td>\n",
       "      <td>...</td>\n",
       "      <td>...</td>\n",
       "      <td>...</td>\n",
       "      <td>...</td>\n",
       "      <td>...</td>\n",
       "      <td>...</td>\n",
       "      <td>...</td>\n",
       "      <td>...</td>\n",
       "    </tr>\n",
       "    <tr>\n",
       "      <th>1334461</th>\n",
       "      <td>1334461</td>\n",
       "      <td>1334462</td>\n",
       "      <td>417740</td>\n",
       "      <td>A</td>\n",
       "      <td>76.0</td>\n",
       "      <td>0</td>\n",
       "      <td>1095</td>\n",
       "      <td>2019-12-31</td>\n",
       "      <td>2019</td>\n",
       "      <td>12</td>\n",
       "      <td>...</td>\n",
       "      <td>3</td>\n",
       "      <td>1</td>\n",
       "      <td>1</td>\n",
       "      <td>0</td>\n",
       "      <td>555491.0</td>\n",
       "      <td>1.0</td>\n",
       "      <td>1.0</td>\n",
       "      <td>1.0</td>\n",
       "      <td>1.0</td>\n",
       "      <td>2019-12-31</td>\n",
       "    </tr>\n",
       "    <tr>\n",
       "      <th>1334460</th>\n",
       "      <td>1334460</td>\n",
       "      <td>1334461</td>\n",
       "      <td>999001</td>\n",
       "      <td>A</td>\n",
       "      <td>NaN</td>\n",
       "      <td>1</td>\n",
       "      <td>1095</td>\n",
       "      <td>2019-12-31</td>\n",
       "      <td>2019</td>\n",
       "      <td>12</td>\n",
       "      <td>...</td>\n",
       "      <td>3</td>\n",
       "      <td>1</td>\n",
       "      <td>1</td>\n",
       "      <td>0</td>\n",
       "      <td>NaN</td>\n",
       "      <td>NaN</td>\n",
       "      <td>NaN</td>\n",
       "      <td>NaN</td>\n",
       "      <td>NaN</td>\n",
       "      <td>2019-12-31</td>\n",
       "    </tr>\n",
       "    <tr>\n",
       "      <th>1334459</th>\n",
       "      <td>1334459</td>\n",
       "      <td>1334460</td>\n",
       "      <td>999001</td>\n",
       "      <td>A</td>\n",
       "      <td>NaN</td>\n",
       "      <td>1</td>\n",
       "      <td>1095</td>\n",
       "      <td>2019-12-31</td>\n",
       "      <td>2019</td>\n",
       "      <td>12</td>\n",
       "      <td>...</td>\n",
       "      <td>3</td>\n",
       "      <td>1</td>\n",
       "      <td>1</td>\n",
       "      <td>0</td>\n",
       "      <td>NaN</td>\n",
       "      <td>NaN</td>\n",
       "      <td>NaN</td>\n",
       "      <td>NaN</td>\n",
       "      <td>NaN</td>\n",
       "      <td>2019-12-31</td>\n",
       "    </tr>\n",
       "    <tr>\n",
       "      <th>1334743</th>\n",
       "      <td>1334743</td>\n",
       "      <td>1334744</td>\n",
       "      <td>417614</td>\n",
       "      <td>A</td>\n",
       "      <td>70.0</td>\n",
       "      <td>0</td>\n",
       "      <td>1095</td>\n",
       "      <td>2019-12-31</td>\n",
       "      <td>2019</td>\n",
       "      <td>12</td>\n",
       "      <td>...</td>\n",
       "      <td>3</td>\n",
       "      <td>1</td>\n",
       "      <td>1</td>\n",
       "      <td>0</td>\n",
       "      <td>555620.0</td>\n",
       "      <td>1.0</td>\n",
       "      <td>1.0</td>\n",
       "      <td>0.0</td>\n",
       "      <td>1.0</td>\n",
       "      <td>2019-12-31</td>\n",
       "    </tr>\n",
       "    <tr>\n",
       "      <th>1335575</th>\n",
       "      <td>1335575</td>\n",
       "      <td>1335576</td>\n",
       "      <td>999001</td>\n",
       "      <td>C</td>\n",
       "      <td>NaN</td>\n",
       "      <td>1</td>\n",
       "      <td>1095</td>\n",
       "      <td>2019-12-31</td>\n",
       "      <td>2019</td>\n",
       "      <td>12</td>\n",
       "      <td>...</td>\n",
       "      <td>3</td>\n",
       "      <td>1</td>\n",
       "      <td>1</td>\n",
       "      <td>0</td>\n",
       "      <td>NaN</td>\n",
       "      <td>NaN</td>\n",
       "      <td>NaN</td>\n",
       "      <td>NaN</td>\n",
       "      <td>NaN</td>\n",
       "      <td>2019-12-31</td>\n",
       "    </tr>\n",
       "  </tbody>\n",
       "</table>\n",
       "<p>1335576 rows × 21 columns</p>\n",
       "</div>"
      ],
      "text/plain": [
       "         Unnamed: 0  dim_claim_id     bin drug  reject_code  \\\n",
       "0                 0             1  417380    A         75.0   \n",
       "142             142           143  999001    B          NaN   \n",
       "143             143           144  999001    B          NaN   \n",
       "144             144           145  999001    B          NaN   \n",
       "145             145           146  417740    B         70.0   \n",
       "...             ...           ...     ...  ...          ...   \n",
       "1334461     1334461       1334462  417740    A         76.0   \n",
       "1334460     1334460       1334461  999001    A          NaN   \n",
       "1334459     1334459       1334460  999001    A          NaN   \n",
       "1334743     1334743       1334744  417614    A         70.0   \n",
       "1335575     1335575       1335576  999001    C          NaN   \n",
       "\n",
       "         pharmacy_claim_approved  dim_date_id    date_val  calendar_year  \\\n",
       "0                              0            1  2017-01-01           2017   \n",
       "142                            1            1  2017-01-01           2017   \n",
       "143                            1            1  2017-01-01           2017   \n",
       "144                            1            1  2017-01-01           2017   \n",
       "145                            0            1  2017-01-01           2017   \n",
       "...                          ...          ...         ...            ...   \n",
       "1334461                        0         1095  2019-12-31           2019   \n",
       "1334460                        1         1095  2019-12-31           2019   \n",
       "1334459                        1         1095  2019-12-31           2019   \n",
       "1334743                        0         1095  2019-12-31           2019   \n",
       "1335575                        1         1095  2019-12-31           2019   \n",
       "\n",
       "         calendar_month  ...  day_of_week  is_weekday  is_workday  is_holiday  \\\n",
       "0                     1  ...            1           0           0           1   \n",
       "142                   1  ...            1           0           0           1   \n",
       "143                   1  ...            1           0           0           1   \n",
       "144                   1  ...            1           0           0           1   \n",
       "145                   1  ...            1           0           0           1   \n",
       "...                 ...  ...          ...         ...         ...         ...   \n",
       "1334461              12  ...            3           1           1           0   \n",
       "1334460              12  ...            3           1           1           0   \n",
       "1334459              12  ...            3           1           1           0   \n",
       "1334743              12  ...            3           1           1           0   \n",
       "1335575              12  ...            3           1           1           0   \n",
       "\n",
       "         dim_pa_id  correct_diagnosis  tried_and_failed  contraindication  \\\n",
       "0              1.0                1.0               1.0               0.0   \n",
       "142            NaN                NaN               NaN               NaN   \n",
       "143            NaN                NaN               NaN               NaN   \n",
       "144            NaN                NaN               NaN               NaN   \n",
       "145           61.0                1.0               0.0               0.0   \n",
       "...            ...                ...               ...               ...   \n",
       "1334461   555491.0                1.0               1.0               1.0   \n",
       "1334460        NaN                NaN               NaN               NaN   \n",
       "1334459        NaN                NaN               NaN               NaN   \n",
       "1334743   555620.0                1.0               1.0               0.0   \n",
       "1335575        NaN                NaN               NaN               NaN   \n",
       "\n",
       "         pa_approved       DATE  \n",
       "0                1.0 2017-01-01  \n",
       "142              NaN 2017-01-01  \n",
       "143              NaN 2017-01-01  \n",
       "144              NaN 2017-01-01  \n",
       "145              1.0 2017-01-01  \n",
       "...              ...        ...  \n",
       "1334461          1.0 2019-12-31  \n",
       "1334460          NaN 2019-12-31  \n",
       "1334459          NaN 2019-12-31  \n",
       "1334743          1.0 2019-12-31  \n",
       "1335575          NaN 2019-12-31  \n",
       "\n",
       "[1335576 rows x 21 columns]"
      ]
     },
     "execution_count": 54,
     "metadata": {},
     "output_type": "execute_result"
    }
   ],
   "source": [
    "data.sort_values(by='DATE')"
   ]
  },
  {
   "cell_type": "code",
   "execution_count": null,
   "id": "df637cb3",
   "metadata": {},
   "outputs": [],
   "source": []
  }
 ],
 "metadata": {
  "kernelspec": {
   "display_name": "Python 3",
   "language": "python",
   "name": "python3"
  },
  "language_info": {
   "codemirror_mode": {
    "name": "ipython",
    "version": 3
   },
   "file_extension": ".py",
   "mimetype": "text/x-python",
   "name": "python",
   "nbconvert_exporter": "python",
   "pygments_lexer": "ipython3",
   "version": "3.8.8"
  }
 },
 "nbformat": 4,
 "nbformat_minor": 5
}
