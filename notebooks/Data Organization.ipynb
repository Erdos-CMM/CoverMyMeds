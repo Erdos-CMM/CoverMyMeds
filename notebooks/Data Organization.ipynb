{
 "cells": [
  {
   "cell_type": "markdown",
   "id": "896a9194",
   "metadata": {},
   "source": [
    "# Data Organization\n",
    "\n",
    "Organizing the data, and splitting into train and test set. \n",
    "\n",
    "TODO: \n",
    "* probably want to write some functions in python so we can call these wherever"
   ]
  },
  {
   "cell_type": "code",
   "execution_count": 1,
   "id": "89fa6a53",
   "metadata": {},
   "outputs": [],
   "source": [
    "import pandas as pd\n",
    "import numpy as np\n",
    "import matplotlib.pyplot as plt"
   ]
  },
  {
   "cell_type": "code",
   "execution_count": 2,
   "id": "cd56bd2c",
   "metadata": {},
   "outputs": [],
   "source": [
    "raw_data_dir = '../data/raw/'\n",
    "meta_data_dir = '../data/meta/'"
   ]
  },
  {
   "cell_type": "code",
   "execution_count": 3,
   "id": "6a7e5b19",
   "metadata": {},
   "outputs": [
    {
     "name": "stdout",
     "output_type": "stream",
     "text": [
      "dim_claims.csv dim_date.csv   dim_pa.csv\r\n"
     ]
    }
   ],
   "source": [
    "!ls {raw_data_dir}"
   ]
  },
  {
   "cell_type": "code",
   "execution_count": 4,
   "id": "0d3799ee",
   "metadata": {},
   "outputs": [
    {
     "name": "stdout",
     "output_type": "stream",
     "text": [
      "DataDictionary.txt bridge.csv\r\n"
     ]
    }
   ],
   "source": [
    "!ls {meta_data_dir}"
   ]
  },
  {
   "cell_type": "markdown",
   "id": "efc110c6",
   "metadata": {},
   "source": [
    "# Raw Data"
   ]
  },
  {
   "cell_type": "markdown",
   "id": "48633397",
   "metadata": {},
   "source": [
    "## Claims Data\n",
    "\n",
    "This is a table containing pharmacy claim-level information."
   ]
  },
  {
   "cell_type": "markdown",
   "id": "f1b85620",
   "metadata": {},
   "source": [
    "dim_claims.csv\n",
    "\n",
    "* It contains the following columns:\n",
    "\n",
    "* dim_claim_id: Primary key and index. Integer.\n",
    "* bin: The BIN of the payer for the claim. Numeric.\n",
    "* drug: The drug that was associated with the claim. Character.\n",
    "* reject_code: If the claim was rejected, what was the associated rejection code. Character.\n",
    "* pharmacy_claim_approved: Flag for if the claim was approved\n",
    "by the payer. Bit."
   ]
  },
  {
   "cell_type": "code",
   "execution_count": 5,
   "id": "07e5dd3c",
   "metadata": {},
   "outputs": [],
   "source": [
    "claims_filename = 'dim_claims.csv'\n",
    "claims = pd.read_csv(f'{raw_data_dir}{claims_filename}')"
   ]
  },
  {
   "cell_type": "code",
   "execution_count": 6,
   "id": "50e9b591",
   "metadata": {},
   "outputs": [
    {
     "data": {
      "text/html": [
       "<div>\n",
       "<style scoped>\n",
       "    .dataframe tbody tr th:only-of-type {\n",
       "        vertical-align: middle;\n",
       "    }\n",
       "\n",
       "    .dataframe tbody tr th {\n",
       "        vertical-align: top;\n",
       "    }\n",
       "\n",
       "    .dataframe thead th {\n",
       "        text-align: right;\n",
       "    }\n",
       "</style>\n",
       "<table border=\"1\" class=\"dataframe\">\n",
       "  <thead>\n",
       "    <tr style=\"text-align: right;\">\n",
       "      <th></th>\n",
       "      <th>dim_claim_id</th>\n",
       "      <th>bin</th>\n",
       "      <th>drug</th>\n",
       "      <th>reject_code</th>\n",
       "      <th>pharmacy_claim_approved</th>\n",
       "    </tr>\n",
       "  </thead>\n",
       "  <tbody>\n",
       "    <tr>\n",
       "      <th>0</th>\n",
       "      <td>1</td>\n",
       "      <td>417380</td>\n",
       "      <td>A</td>\n",
       "      <td>75.0</td>\n",
       "      <td>0</td>\n",
       "    </tr>\n",
       "    <tr>\n",
       "      <th>1</th>\n",
       "      <td>2</td>\n",
       "      <td>999001</td>\n",
       "      <td>A</td>\n",
       "      <td>NaN</td>\n",
       "      <td>1</td>\n",
       "    </tr>\n",
       "    <tr>\n",
       "      <th>2</th>\n",
       "      <td>3</td>\n",
       "      <td>417740</td>\n",
       "      <td>A</td>\n",
       "      <td>76.0</td>\n",
       "      <td>0</td>\n",
       "    </tr>\n",
       "    <tr>\n",
       "      <th>3</th>\n",
       "      <td>4</td>\n",
       "      <td>999001</td>\n",
       "      <td>A</td>\n",
       "      <td>NaN</td>\n",
       "      <td>1</td>\n",
       "    </tr>\n",
       "    <tr>\n",
       "      <th>4</th>\n",
       "      <td>5</td>\n",
       "      <td>417740</td>\n",
       "      <td>A</td>\n",
       "      <td>NaN</td>\n",
       "      <td>1</td>\n",
       "    </tr>\n",
       "  </tbody>\n",
       "</table>\n",
       "</div>"
      ],
      "text/plain": [
       "   dim_claim_id     bin drug  reject_code  pharmacy_claim_approved\n",
       "0             1  417380    A         75.0                        0\n",
       "1             2  999001    A          NaN                        1\n",
       "2             3  417740    A         76.0                        0\n",
       "3             4  999001    A          NaN                        1\n",
       "4             5  417740    A          NaN                        1"
      ]
     },
     "execution_count": 6,
     "metadata": {},
     "output_type": "execute_result"
    }
   ],
   "source": [
    "claims.head()"
   ]
  },
  {
   "cell_type": "markdown",
   "id": "3e15b710",
   "metadata": {},
   "source": [
    "Phama"
   ]
  },
  {
   "cell_type": "code",
   "execution_count": 7,
   "id": "be118eb9",
   "metadata": {},
   "outputs": [
    {
     "data": {
      "text/plain": [
       "555951"
      ]
     },
     "execution_count": 7,
     "metadata": {},
     "output_type": "execute_result"
    }
   ],
   "source": [
    "len(claims[claims.pharmacy_claim_approved.values==0])"
   ]
  },
  {
   "cell_type": "markdown",
   "id": "d16679e7",
   "metadata": {},
   "source": [
    "Check for NaNs."
   ]
  },
  {
   "cell_type": "code",
   "execution_count": 8,
   "id": "8555b8fe",
   "metadata": {},
   "outputs": [
    {
     "data": {
      "text/plain": [
       "dim_claim_id               False\n",
       "bin                        False\n",
       "drug                       False\n",
       "reject_code                 True\n",
       "pharmacy_claim_approved    False\n",
       "dtype: bool"
      ]
     },
     "execution_count": 8,
     "metadata": {},
     "output_type": "execute_result"
    }
   ],
   "source": [
    "claims.isna().any()"
   ]
  },
  {
   "cell_type": "markdown",
   "id": "8412720b",
   "metadata": {},
   "source": [
    "Looks like the NaNs are from reject codes where the pharmacy claim was approved."
   ]
  },
  {
   "cell_type": "code",
   "execution_count": 9,
   "id": "6466ae0e",
   "metadata": {},
   "outputs": [
    {
     "data": {
      "text/plain": [
       "dim_claim_id               False\n",
       "bin                        False\n",
       "drug                       False\n",
       "reject_code                False\n",
       "pharmacy_claim_approved    False\n",
       "dtype: bool"
      ]
     },
     "execution_count": 9,
     "metadata": {},
     "output_type": "execute_result"
    }
   ],
   "source": [
    "claims[claims.pharmacy_claim_approved.values==0].isna().any()"
   ]
  },
  {
   "cell_type": "code",
   "execution_count": 10,
   "id": "7219a07c",
   "metadata": {},
   "outputs": [
    {
     "data": {
      "text/plain": [
       "dim_claim_id               1335576\n",
       "bin                        1335576\n",
       "drug                       1335576\n",
       "reject_code                 555951\n",
       "pharmacy_claim_approved    1335576\n",
       "dtype: int64"
      ]
     },
     "execution_count": 10,
     "metadata": {},
     "output_type": "execute_result"
    }
   ],
   "source": [
    "claims.notnull().sum()"
   ]
  },
  {
   "cell_type": "code",
   "execution_count": 11,
   "id": "f413f9f7",
   "metadata": {},
   "outputs": [],
   "source": [
    "claims['reject_code'] = claims.reject_code.fillna(0).astype(int)"
   ]
  },
  {
   "cell_type": "code",
   "execution_count": 12,
   "id": "f1ddad50",
   "metadata": {},
   "outputs": [],
   "source": [
    "# bin is an identifier for the payer, so we don't want to misconstrue the numbers to have numerical meaning\n",
    "claims['bin'] = claims.bin.astype(str)"
   ]
  },
  {
   "cell_type": "code",
   "execution_count": 13,
   "id": "800fe7c3",
   "metadata": {},
   "outputs": [
    {
     "data": {
      "text/plain": [
       "str"
      ]
     },
     "execution_count": 13,
     "metadata": {},
     "output_type": "execute_result"
    }
   ],
   "source": [
    "type(claims['bin'][0])"
   ]
  },
  {
   "cell_type": "markdown",
   "id": "5b6d11cc",
   "metadata": {},
   "source": [
    "## PA Data\n",
    "\n",
    "This is a table containing PA-level for every rejected pharmacy claim in\n",
    "dim_claims."
   ]
  },
  {
   "cell_type": "markdown",
   "id": "a7054e4e",
   "metadata": {},
   "source": [
    "dim_pa.csv\n",
    "\n",
    "\n",
    "* It contains the following columns:\n",
    "\n",
    "* dim_pa_id: Primary key and index. Integer.\n",
    "* correct_diagnosis: Flag for information provided by the provider\n",
    "indicating that the patient has the correct diagnosis for the\n",
    "* associated drug. Bit.\n",
    "* tried_and_failed: Flag for information provided by the provider\n",
    "indicating that the patient has tried and failed the relevant\n",
    "* generic alternatives. Bit.\n",
    "* contraindication: Flag for information provided by the provider\n",
    "indicating that the patient has an associated contraindication for\n",
    "the medication requested. Bit.\n",
    "* pa_approved: Flag for if the payer favorably reviewed and\n",
    "approved the PA. Bit."
   ]
  },
  {
   "cell_type": "code",
   "execution_count": 14,
   "id": "06f477ee",
   "metadata": {},
   "outputs": [],
   "source": [
    "pa_filename = 'dim_pa.csv'\n",
    "pa = pd.read_csv(f'{raw_data_dir}{pa_filename}')"
   ]
  },
  {
   "cell_type": "code",
   "execution_count": 15,
   "id": "01b8ca0f",
   "metadata": {},
   "outputs": [
    {
     "data": {
      "text/html": [
       "<div>\n",
       "<style scoped>\n",
       "    .dataframe tbody tr th:only-of-type {\n",
       "        vertical-align: middle;\n",
       "    }\n",
       "\n",
       "    .dataframe tbody tr th {\n",
       "        vertical-align: top;\n",
       "    }\n",
       "\n",
       "    .dataframe thead th {\n",
       "        text-align: right;\n",
       "    }\n",
       "</style>\n",
       "<table border=\"1\" class=\"dataframe\">\n",
       "  <thead>\n",
       "    <tr style=\"text-align: right;\">\n",
       "      <th></th>\n",
       "      <th>dim_pa_id</th>\n",
       "      <th>correct_diagnosis</th>\n",
       "      <th>tried_and_failed</th>\n",
       "      <th>contraindication</th>\n",
       "      <th>pa_approved</th>\n",
       "    </tr>\n",
       "  </thead>\n",
       "  <tbody>\n",
       "    <tr>\n",
       "      <th>0</th>\n",
       "      <td>1</td>\n",
       "      <td>1</td>\n",
       "      <td>1</td>\n",
       "      <td>0</td>\n",
       "      <td>1</td>\n",
       "    </tr>\n",
       "    <tr>\n",
       "      <th>1</th>\n",
       "      <td>2</td>\n",
       "      <td>1</td>\n",
       "      <td>0</td>\n",
       "      <td>0</td>\n",
       "      <td>1</td>\n",
       "    </tr>\n",
       "    <tr>\n",
       "      <th>2</th>\n",
       "      <td>3</td>\n",
       "      <td>0</td>\n",
       "      <td>0</td>\n",
       "      <td>1</td>\n",
       "      <td>1</td>\n",
       "    </tr>\n",
       "    <tr>\n",
       "      <th>3</th>\n",
       "      <td>4</td>\n",
       "      <td>1</td>\n",
       "      <td>1</td>\n",
       "      <td>0</td>\n",
       "      <td>1</td>\n",
       "    </tr>\n",
       "    <tr>\n",
       "      <th>4</th>\n",
       "      <td>5</td>\n",
       "      <td>0</td>\n",
       "      <td>1</td>\n",
       "      <td>0</td>\n",
       "      <td>1</td>\n",
       "    </tr>\n",
       "  </tbody>\n",
       "</table>\n",
       "</div>"
      ],
      "text/plain": [
       "   dim_pa_id  correct_diagnosis  tried_and_failed  contraindication  \\\n",
       "0          1                  1                 1                 0   \n",
       "1          2                  1                 0                 0   \n",
       "2          3                  0                 0                 1   \n",
       "3          4                  1                 1                 0   \n",
       "4          5                  0                 1                 0   \n",
       "\n",
       "   pa_approved  \n",
       "0            1  \n",
       "1            1  \n",
       "2            1  \n",
       "3            1  \n",
       "4            1  "
      ]
     },
     "execution_count": 15,
     "metadata": {},
     "output_type": "execute_result"
    }
   ],
   "source": [
    "pa.head(5)"
   ]
  },
  {
   "cell_type": "code",
   "execution_count": 16,
   "id": "e3c9a92f",
   "metadata": {},
   "outputs": [
    {
     "data": {
      "text/plain": [
       "dim_pa_id            False\n",
       "correct_diagnosis    False\n",
       "tried_and_failed     False\n",
       "contraindication     False\n",
       "pa_approved          False\n",
       "dtype: bool"
      ]
     },
     "execution_count": 16,
     "metadata": {},
     "output_type": "execute_result"
    }
   ],
   "source": [
    "pa.isna().any()"
   ]
  },
  {
   "cell_type": "code",
   "execution_count": 17,
   "id": "a2154bcc",
   "metadata": {},
   "outputs": [
    {
     "data": {
      "text/plain": [
       "dim_pa_id            555951\n",
       "correct_diagnosis    555951\n",
       "tried_and_failed     555951\n",
       "contraindication     555951\n",
       "pa_approved          555951\n",
       "dtype: int64"
      ]
     },
     "execution_count": 17,
     "metadata": {},
     "output_type": "execute_result"
    }
   ],
   "source": [
    "pa.notnull().sum()"
   ]
  },
  {
   "cell_type": "markdown",
   "id": "12ab71a7",
   "metadata": {},
   "source": [
    "## Date Data\n",
    "\n",
    "This is a table containing date-level information that might be useful for\n",
    "producing transaction forecasts."
   ]
  },
  {
   "cell_type": "markdown",
   "id": "4cb67efa",
   "metadata": {},
   "source": [
    "dim_date.csv\n",
    "\n",
    "* It contains the following columns:\n",
    "\n",
    "* dim_date_id: Primary key and index. Integer.\n",
    "* date_val: Date value corresponding to the record. Date.\n",
    "* calendar_year: Year for the record. Integer.\n",
    "* calendar_month: Month of the year for the record. Integer.\n",
    "* calendar_day: Day of the month for the record. Integer.\n",
    "* day_of_week: The Nth day of the week. Integer.\n",
    "* is_weekday: Flag for if the record is associated with Monday\n",
    "through Friday. Bit.\n",
    "* is_workday: Flag for if the record is associated with Monday\n",
    "through Friday and is not a holiday. Bit.\n",
    "* is_holiday: Flag for if the record is associated with a holiday.\n",
    "Bit."
   ]
  },
  {
   "cell_type": "code",
   "execution_count": 18,
   "id": "2ead88b2",
   "metadata": {},
   "outputs": [],
   "source": [
    "date_filename = 'dim_date.csv'\n",
    "dates = pd.read_csv(f'{raw_data_dir}{date_filename}')"
   ]
  },
  {
   "cell_type": "code",
   "execution_count": 19,
   "id": "41bc5e39",
   "metadata": {},
   "outputs": [
    {
     "data": {
      "text/html": [
       "<div>\n",
       "<style scoped>\n",
       "    .dataframe tbody tr th:only-of-type {\n",
       "        vertical-align: middle;\n",
       "    }\n",
       "\n",
       "    .dataframe tbody tr th {\n",
       "        vertical-align: top;\n",
       "    }\n",
       "\n",
       "    .dataframe thead th {\n",
       "        text-align: right;\n",
       "    }\n",
       "</style>\n",
       "<table border=\"1\" class=\"dataframe\">\n",
       "  <thead>\n",
       "    <tr style=\"text-align: right;\">\n",
       "      <th></th>\n",
       "      <th>dim_date_id</th>\n",
       "      <th>date_val</th>\n",
       "      <th>calendar_year</th>\n",
       "      <th>calendar_month</th>\n",
       "      <th>calendar_day</th>\n",
       "      <th>day_of_week</th>\n",
       "      <th>is_weekday</th>\n",
       "      <th>is_workday</th>\n",
       "      <th>is_holiday</th>\n",
       "    </tr>\n",
       "  </thead>\n",
       "  <tbody>\n",
       "    <tr>\n",
       "      <th>0</th>\n",
       "      <td>1</td>\n",
       "      <td>2017-01-01</td>\n",
       "      <td>2017</td>\n",
       "      <td>1</td>\n",
       "      <td>1</td>\n",
       "      <td>1</td>\n",
       "      <td>0</td>\n",
       "      <td>0</td>\n",
       "      <td>1</td>\n",
       "    </tr>\n",
       "    <tr>\n",
       "      <th>1</th>\n",
       "      <td>2</td>\n",
       "      <td>2017-01-02</td>\n",
       "      <td>2017</td>\n",
       "      <td>1</td>\n",
       "      <td>2</td>\n",
       "      <td>2</td>\n",
       "      <td>1</td>\n",
       "      <td>0</td>\n",
       "      <td>0</td>\n",
       "    </tr>\n",
       "    <tr>\n",
       "      <th>2</th>\n",
       "      <td>3</td>\n",
       "      <td>2017-01-03</td>\n",
       "      <td>2017</td>\n",
       "      <td>1</td>\n",
       "      <td>3</td>\n",
       "      <td>3</td>\n",
       "      <td>1</td>\n",
       "      <td>1</td>\n",
       "      <td>0</td>\n",
       "    </tr>\n",
       "    <tr>\n",
       "      <th>3</th>\n",
       "      <td>4</td>\n",
       "      <td>2017-01-04</td>\n",
       "      <td>2017</td>\n",
       "      <td>1</td>\n",
       "      <td>4</td>\n",
       "      <td>4</td>\n",
       "      <td>1</td>\n",
       "      <td>1</td>\n",
       "      <td>0</td>\n",
       "    </tr>\n",
       "    <tr>\n",
       "      <th>4</th>\n",
       "      <td>5</td>\n",
       "      <td>2017-01-05</td>\n",
       "      <td>2017</td>\n",
       "      <td>1</td>\n",
       "      <td>5</td>\n",
       "      <td>5</td>\n",
       "      <td>1</td>\n",
       "      <td>1</td>\n",
       "      <td>0</td>\n",
       "    </tr>\n",
       "  </tbody>\n",
       "</table>\n",
       "</div>"
      ],
      "text/plain": [
       "   dim_date_id    date_val  calendar_year  calendar_month  calendar_day  \\\n",
       "0            1  2017-01-01           2017               1             1   \n",
       "1            2  2017-01-02           2017               1             2   \n",
       "2            3  2017-01-03           2017               1             3   \n",
       "3            4  2017-01-04           2017               1             4   \n",
       "4            5  2017-01-05           2017               1             5   \n",
       "\n",
       "   day_of_week  is_weekday  is_workday  is_holiday  \n",
       "0            1           0           0           1  \n",
       "1            2           1           0           0  \n",
       "2            3           1           1           0  \n",
       "3            4           1           1           0  \n",
       "4            5           1           1           0  "
      ]
     },
     "execution_count": 19,
     "metadata": {},
     "output_type": "execute_result"
    }
   ],
   "source": [
    "dates.head()"
   ]
  },
  {
   "cell_type": "code",
   "execution_count": 20,
   "id": "209b09fe",
   "metadata": {},
   "outputs": [
    {
     "data": {
      "text/plain": [
       "dim_date_id       False\n",
       "date_val          False\n",
       "calendar_year     False\n",
       "calendar_month    False\n",
       "calendar_day      False\n",
       "day_of_week       False\n",
       "is_weekday        False\n",
       "is_workday        False\n",
       "is_holiday        False\n",
       "dtype: bool"
      ]
     },
     "execution_count": 20,
     "metadata": {},
     "output_type": "execute_result"
    }
   ],
   "source": [
    "dates.isna().any()"
   ]
  },
  {
   "cell_type": "code",
   "execution_count": 21,
   "id": "34ff8c10",
   "metadata": {},
   "outputs": [
    {
     "data": {
      "text/plain": [
       "dim_date_id       1520\n",
       "date_val          1520\n",
       "calendar_year     1520\n",
       "calendar_month    1520\n",
       "calendar_day      1520\n",
       "day_of_week       1520\n",
       "is_weekday        1520\n",
       "is_workday        1520\n",
       "is_holiday        1520\n",
       "dtype: int64"
      ]
     },
     "execution_count": 21,
     "metadata": {},
     "output_type": "execute_result"
    }
   ],
   "source": [
    "dates.notnull().sum()"
   ]
  },
  {
   "cell_type": "markdown",
   "id": "2f1849e5",
   "metadata": {},
   "source": [
    "# Meta Data"
   ]
  },
  {
   "cell_type": "markdown",
   "id": "758e0752",
   "metadata": {},
   "source": [
    "## Bridge Data\n",
    "\n",
    "bridge.csv\n",
    "* This is a bridge table that links the primary keys of all the tables to one\n",
    "another that is used for joining the tables.\n",
    "* It contains the following columns:\n",
    "\n",
    "* dim_claim_id: Primary key for dim_claims.\n",
    "* dim_pa_id: Primary key for dim_pa.\n",
    "* dim_date_id: Primary key for dim_date.\n",
    "\n",
    "\n",
    "Note: a PA could have more than one claim, a date could also have more than one claim, the largest dataset are the claims."
   ]
  },
  {
   "cell_type": "code",
   "execution_count": 22,
   "id": "3c1e93ad",
   "metadata": {},
   "outputs": [],
   "source": [
    "bridge_filename = 'bridge.csv'\n",
    "bridge = pd.read_csv(f'{meta_data_dir}{bridge_filename}')"
   ]
  },
  {
   "cell_type": "code",
   "execution_count": 23,
   "id": "54715fd1",
   "metadata": {},
   "outputs": [],
   "source": [
    "def test_join(df):\n",
    "    \"\"\"Do a test that we did the bridge correctly.\"\"\"\n",
    "    \n",
    "    # check that we have the right shape\n",
    "    \n",
    "    shape = df.shape\n",
    "    \n",
    "    if shape==(1335576, 19):\n",
    "        print(f'Dataframe has the correct shape of {shape}')\n",
    "    else:\n",
    "        print(f'Oops! Dataframe has a shape of {shape}, expected {(1335576, 3)}.')\n",
    "        \n",
    "    # check that we have the expected number of NaN's (only the number of ones in the bridge file).\n",
    "    \n",
    "    num_nans = len(df) - len(df.dropna())\n",
    "    exp_num_nans = len(bridge)-len(bridge.dropna())\n",
    "    \n",
    "    if num_nans==exp_num_nans:\n",
    "        print(\"Correct amount of NaN's in the dataframe.\")\n",
    "    else:\n",
    "        print(f\"Oops! Datamframe has {num_nans} NaN's and {exp_num_nans} Nans in the bridge file.\")\n",
    "    \n",
    "    return "
   ]
  },
  {
   "cell_type": "code",
   "execution_count": 24,
   "id": "baa1d15c",
   "metadata": {},
   "outputs": [
    {
     "data": {
      "text/plain": [
       "dim_claim_id    False\n",
       "dim_pa_id        True\n",
       "dim_date_id     False\n",
       "dtype: bool"
      ]
     },
     "execution_count": 24,
     "metadata": {},
     "output_type": "execute_result"
    }
   ],
   "source": [
    "bridge.isna().any()"
   ]
  },
  {
   "cell_type": "code",
   "execution_count": 25,
   "id": "8fa4990f",
   "metadata": {},
   "outputs": [
    {
     "data": {
      "text/plain": [
       "dim_claim_id    1335576\n",
       "dim_pa_id        555951\n",
       "dim_date_id     1335576\n",
       "dtype: int64"
      ]
     },
     "execution_count": 25,
     "metadata": {},
     "output_type": "execute_result"
    }
   ],
   "source": [
    "bridge.notnull().sum()"
   ]
  },
  {
   "cell_type": "markdown",
   "id": "7a467044",
   "metadata": {},
   "source": [
    "How many unique claim ID's do we have? "
   ]
  },
  {
   "cell_type": "code",
   "execution_count": 26,
   "id": "4794704c",
   "metadata": {},
   "outputs": [
    {
     "data": {
      "text/plain": [
       "1335576"
      ]
     },
     "execution_count": 26,
     "metadata": {},
     "output_type": "execute_result"
    }
   ],
   "source": [
    "len(np.unique(bridge['dim_claim_id']))"
   ]
  },
  {
   "cell_type": "markdown",
   "id": "54074807",
   "metadata": {},
   "source": [
    "The are some NaN's in the PA data, does leave the same amount of PA's that we have in the CSV file? "
   ]
  },
  {
   "cell_type": "code",
   "execution_count": 27,
   "id": "df492dfa",
   "metadata": {},
   "outputs": [
    {
     "data": {
      "text/plain": [
       "555951"
      ]
     },
     "execution_count": 27,
     "metadata": {},
     "output_type": "execute_result"
    }
   ],
   "source": [
    "cut = ~np.isnan(bridge['dim_pa_id'])\n",
    "len(bridge['dim_pa_id'][cut])"
   ]
  },
  {
   "cell_type": "code",
   "execution_count": 28,
   "id": "5a926d8b",
   "metadata": {},
   "outputs": [
    {
     "data": {
      "text/plain": [
       "(555951, 5)"
      ]
     },
     "execution_count": 28,
     "metadata": {},
     "output_type": "execute_result"
    }
   ],
   "source": [
    "pa.shape"
   ]
  },
  {
   "cell_type": "code",
   "execution_count": 29,
   "id": "45a19c62",
   "metadata": {},
   "outputs": [
    {
     "data": {
      "text/plain": [
       "(1520, 9)"
      ]
     },
     "execution_count": 29,
     "metadata": {},
     "output_type": "execute_result"
    }
   ],
   "source": [
    "dates.shape"
   ]
  },
  {
   "cell_type": "code",
   "execution_count": 30,
   "id": "b5c2ce70",
   "metadata": {},
   "outputs": [
    {
     "data": {
      "text/plain": [
       "(1335576, 5)"
      ]
     },
     "execution_count": 30,
     "metadata": {},
     "output_type": "execute_result"
    }
   ],
   "source": [
    "claims.shape"
   ]
  },
  {
   "cell_type": "code",
   "execution_count": 31,
   "id": "7efc08cd",
   "metadata": {},
   "outputs": [
    {
     "data": {
      "text/html": [
       "<div>\n",
       "<style scoped>\n",
       "    .dataframe tbody tr th:only-of-type {\n",
       "        vertical-align: middle;\n",
       "    }\n",
       "\n",
       "    .dataframe tbody tr th {\n",
       "        vertical-align: top;\n",
       "    }\n",
       "\n",
       "    .dataframe thead th {\n",
       "        text-align: right;\n",
       "    }\n",
       "</style>\n",
       "<table border=\"1\" class=\"dataframe\">\n",
       "  <thead>\n",
       "    <tr style=\"text-align: right;\">\n",
       "      <th></th>\n",
       "      <th>dim_claim_id</th>\n",
       "      <th>bin</th>\n",
       "      <th>drug</th>\n",
       "      <th>reject_code</th>\n",
       "      <th>pharmacy_claim_approved</th>\n",
       "    </tr>\n",
       "  </thead>\n",
       "  <tbody>\n",
       "    <tr>\n",
       "      <th>0</th>\n",
       "      <td>1</td>\n",
       "      <td>417380</td>\n",
       "      <td>A</td>\n",
       "      <td>75</td>\n",
       "      <td>0</td>\n",
       "    </tr>\n",
       "    <tr>\n",
       "      <th>1</th>\n",
       "      <td>2</td>\n",
       "      <td>999001</td>\n",
       "      <td>A</td>\n",
       "      <td>0</td>\n",
       "      <td>1</td>\n",
       "    </tr>\n",
       "    <tr>\n",
       "      <th>2</th>\n",
       "      <td>3</td>\n",
       "      <td>417740</td>\n",
       "      <td>A</td>\n",
       "      <td>76</td>\n",
       "      <td>0</td>\n",
       "    </tr>\n",
       "    <tr>\n",
       "      <th>3</th>\n",
       "      <td>4</td>\n",
       "      <td>999001</td>\n",
       "      <td>A</td>\n",
       "      <td>0</td>\n",
       "      <td>1</td>\n",
       "    </tr>\n",
       "    <tr>\n",
       "      <th>4</th>\n",
       "      <td>5</td>\n",
       "      <td>417740</td>\n",
       "      <td>A</td>\n",
       "      <td>0</td>\n",
       "      <td>1</td>\n",
       "    </tr>\n",
       "  </tbody>\n",
       "</table>\n",
       "</div>"
      ],
      "text/plain": [
       "   dim_claim_id     bin drug  reject_code  pharmacy_claim_approved\n",
       "0             1  417380    A           75                        0\n",
       "1             2  999001    A            0                        1\n",
       "2             3  417740    A           76                        0\n",
       "3             4  999001    A            0                        1\n",
       "4             5  417740    A            0                        1"
      ]
     },
     "execution_count": 31,
     "metadata": {},
     "output_type": "execute_result"
    }
   ],
   "source": [
    "claims.head()"
   ]
  },
  {
   "cell_type": "markdown",
   "id": "2a1bf6d5",
   "metadata": {},
   "source": [
    "Result will be a csv of claims, with length of 1335576, some PA data will be missing we can leave these as NaN's for now. If we include all the columns that we have some data for (inlcuding the key as a column) we should have 17 columns."
   ]
  },
  {
   "cell_type": "code",
   "execution_count": 32,
   "id": "d7b3fe92",
   "metadata": {},
   "outputs": [],
   "source": [
    "data = pd.DataFrame()"
   ]
  },
  {
   "cell_type": "code",
   "execution_count": 33,
   "id": "43aca28f",
   "metadata": {},
   "outputs": [
    {
     "name": "stdout",
     "output_type": "stream",
     "text": [
      "Oops! Dataframe has a shape of (1335576, 3), expected (1335576, 3).\n",
      "Correct amount of NaN's in the dataframe.\n"
     ]
    }
   ],
   "source": [
    "test_join(bridge)"
   ]
  },
  {
   "cell_type": "markdown",
   "id": "964365e8",
   "metadata": {},
   "source": [
    "First we want to match the dates data with the claims data, note more than one date might correspond to one claim."
   ]
  },
  {
   "cell_type": "code",
   "execution_count": 34,
   "id": "6105bd39",
   "metadata": {},
   "outputs": [],
   "source": [
    "# adding the bridge id's to each data frame\n",
    "\n",
    "claims = claims.merge(bridge, on='dim_claim_id')\n",
    "dates = dates.merge(bridge, on='dim_date_id')\n",
    "pa = pa.merge(bridge, on='dim_pa_id')"
   ]
  },
  {
   "cell_type": "code",
   "execution_count": 35,
   "id": "288a0b61",
   "metadata": {},
   "outputs": [],
   "source": [
    "dates = dates.merge(claims, on='dim_claim_id', how='outer')\n",
    "data = dates.merge(pa, on='dim_claim_id', how='outer')"
   ]
  },
  {
   "cell_type": "code",
   "execution_count": 36,
   "id": "aba0bb45",
   "metadata": {},
   "outputs": [],
   "source": [
    "# Check the matching is correct\n",
    "\n",
    "def check_matching(df):\n",
    "    \n",
    "    for col in df.columns:\n",
    "        if '_x' in col:\n",
    "            if np.nansum(df[col].values-df[col[:-2]+'_y'].values)==0:\n",
    "                # delete the repeat columns \n",
    "                del df[col]\n",
    "                del df[col[:-2]+'_y']\n",
    "            else:\n",
    "                print(f'Oops! Matching in column, {col} not correct.')\n",
    "                return\n",
    "    print('correctly matched')"
   ]
  },
  {
   "cell_type": "code",
   "execution_count": 37,
   "id": "d3c5f347",
   "metadata": {},
   "outputs": [
    {
     "name": "stdout",
     "output_type": "stream",
     "text": [
      "correctly matched\n"
     ]
    }
   ],
   "source": [
    "check_matching(data)"
   ]
  },
  {
   "cell_type": "code",
   "execution_count": 38,
   "id": "cab8ebc7",
   "metadata": {},
   "outputs": [
    {
     "data": {
      "text/html": [
       "<div>\n",
       "<style scoped>\n",
       "    .dataframe tbody tr th:only-of-type {\n",
       "        vertical-align: middle;\n",
       "    }\n",
       "\n",
       "    .dataframe tbody tr th {\n",
       "        vertical-align: top;\n",
       "    }\n",
       "\n",
       "    .dataframe thead th {\n",
       "        text-align: right;\n",
       "    }\n",
       "</style>\n",
       "<table border=\"1\" class=\"dataframe\">\n",
       "  <thead>\n",
       "    <tr style=\"text-align: right;\">\n",
       "      <th></th>\n",
       "      <th>date_val</th>\n",
       "      <th>calendar_year</th>\n",
       "      <th>calendar_month</th>\n",
       "      <th>calendar_day</th>\n",
       "      <th>day_of_week</th>\n",
       "      <th>is_weekday</th>\n",
       "      <th>is_workday</th>\n",
       "      <th>is_holiday</th>\n",
       "      <th>dim_claim_id</th>\n",
       "      <th>bin</th>\n",
       "      <th>drug</th>\n",
       "      <th>reject_code</th>\n",
       "      <th>pharmacy_claim_approved</th>\n",
       "      <th>dim_pa_id</th>\n",
       "      <th>correct_diagnosis</th>\n",
       "      <th>tried_and_failed</th>\n",
       "      <th>contraindication</th>\n",
       "      <th>pa_approved</th>\n",
       "      <th>dim_date_id</th>\n",
       "    </tr>\n",
       "  </thead>\n",
       "  <tbody>\n",
       "    <tr>\n",
       "      <th>0</th>\n",
       "      <td>2017-01-01</td>\n",
       "      <td>2017</td>\n",
       "      <td>1</td>\n",
       "      <td>1</td>\n",
       "      <td>1</td>\n",
       "      <td>0</td>\n",
       "      <td>0</td>\n",
       "      <td>1</td>\n",
       "      <td>1</td>\n",
       "      <td>417380</td>\n",
       "      <td>A</td>\n",
       "      <td>75</td>\n",
       "      <td>0</td>\n",
       "      <td>1.0</td>\n",
       "      <td>1.0</td>\n",
       "      <td>1.0</td>\n",
       "      <td>0.0</td>\n",
       "      <td>1.0</td>\n",
       "      <td>1.0</td>\n",
       "    </tr>\n",
       "    <tr>\n",
       "      <th>1</th>\n",
       "      <td>2017-01-01</td>\n",
       "      <td>2017</td>\n",
       "      <td>1</td>\n",
       "      <td>1</td>\n",
       "      <td>1</td>\n",
       "      <td>0</td>\n",
       "      <td>0</td>\n",
       "      <td>1</td>\n",
       "      <td>2</td>\n",
       "      <td>999001</td>\n",
       "      <td>A</td>\n",
       "      <td>0</td>\n",
       "      <td>1</td>\n",
       "      <td>NaN</td>\n",
       "      <td>NaN</td>\n",
       "      <td>NaN</td>\n",
       "      <td>NaN</td>\n",
       "      <td>NaN</td>\n",
       "      <td>NaN</td>\n",
       "    </tr>\n",
       "    <tr>\n",
       "      <th>2</th>\n",
       "      <td>2017-01-01</td>\n",
       "      <td>2017</td>\n",
       "      <td>1</td>\n",
       "      <td>1</td>\n",
       "      <td>1</td>\n",
       "      <td>0</td>\n",
       "      <td>0</td>\n",
       "      <td>1</td>\n",
       "      <td>3</td>\n",
       "      <td>417740</td>\n",
       "      <td>A</td>\n",
       "      <td>76</td>\n",
       "      <td>0</td>\n",
       "      <td>2.0</td>\n",
       "      <td>1.0</td>\n",
       "      <td>0.0</td>\n",
       "      <td>0.0</td>\n",
       "      <td>1.0</td>\n",
       "      <td>1.0</td>\n",
       "    </tr>\n",
       "    <tr>\n",
       "      <th>3</th>\n",
       "      <td>2017-01-01</td>\n",
       "      <td>2017</td>\n",
       "      <td>1</td>\n",
       "      <td>1</td>\n",
       "      <td>1</td>\n",
       "      <td>0</td>\n",
       "      <td>0</td>\n",
       "      <td>1</td>\n",
       "      <td>4</td>\n",
       "      <td>999001</td>\n",
       "      <td>A</td>\n",
       "      <td>0</td>\n",
       "      <td>1</td>\n",
       "      <td>NaN</td>\n",
       "      <td>NaN</td>\n",
       "      <td>NaN</td>\n",
       "      <td>NaN</td>\n",
       "      <td>NaN</td>\n",
       "      <td>NaN</td>\n",
       "    </tr>\n",
       "    <tr>\n",
       "      <th>4</th>\n",
       "      <td>2017-01-01</td>\n",
       "      <td>2017</td>\n",
       "      <td>1</td>\n",
       "      <td>1</td>\n",
       "      <td>1</td>\n",
       "      <td>0</td>\n",
       "      <td>0</td>\n",
       "      <td>1</td>\n",
       "      <td>5</td>\n",
       "      <td>417740</td>\n",
       "      <td>A</td>\n",
       "      <td>0</td>\n",
       "      <td>1</td>\n",
       "      <td>NaN</td>\n",
       "      <td>NaN</td>\n",
       "      <td>NaN</td>\n",
       "      <td>NaN</td>\n",
       "      <td>NaN</td>\n",
       "      <td>NaN</td>\n",
       "    </tr>\n",
       "    <tr>\n",
       "      <th>...</th>\n",
       "      <td>...</td>\n",
       "      <td>...</td>\n",
       "      <td>...</td>\n",
       "      <td>...</td>\n",
       "      <td>...</td>\n",
       "      <td>...</td>\n",
       "      <td>...</td>\n",
       "      <td>...</td>\n",
       "      <td>...</td>\n",
       "      <td>...</td>\n",
       "      <td>...</td>\n",
       "      <td>...</td>\n",
       "      <td>...</td>\n",
       "      <td>...</td>\n",
       "      <td>...</td>\n",
       "      <td>...</td>\n",
       "      <td>...</td>\n",
       "      <td>...</td>\n",
       "      <td>...</td>\n",
       "    </tr>\n",
       "    <tr>\n",
       "      <th>1335571</th>\n",
       "      <td>2019-12-31</td>\n",
       "      <td>2019</td>\n",
       "      <td>12</td>\n",
       "      <td>31</td>\n",
       "      <td>3</td>\n",
       "      <td>1</td>\n",
       "      <td>1</td>\n",
       "      <td>0</td>\n",
       "      <td>1335572</td>\n",
       "      <td>417740</td>\n",
       "      <td>C</td>\n",
       "      <td>75</td>\n",
       "      <td>0</td>\n",
       "      <td>555950.0</td>\n",
       "      <td>1.0</td>\n",
       "      <td>0.0</td>\n",
       "      <td>0.0</td>\n",
       "      <td>1.0</td>\n",
       "      <td>1095.0</td>\n",
       "    </tr>\n",
       "    <tr>\n",
       "      <th>1335572</th>\n",
       "      <td>2019-12-31</td>\n",
       "      <td>2019</td>\n",
       "      <td>12</td>\n",
       "      <td>31</td>\n",
       "      <td>3</td>\n",
       "      <td>1</td>\n",
       "      <td>1</td>\n",
       "      <td>0</td>\n",
       "      <td>1335573</td>\n",
       "      <td>999001</td>\n",
       "      <td>C</td>\n",
       "      <td>0</td>\n",
       "      <td>1</td>\n",
       "      <td>NaN</td>\n",
       "      <td>NaN</td>\n",
       "      <td>NaN</td>\n",
       "      <td>NaN</td>\n",
       "      <td>NaN</td>\n",
       "      <td>NaN</td>\n",
       "    </tr>\n",
       "    <tr>\n",
       "      <th>1335573</th>\n",
       "      <td>2019-12-31</td>\n",
       "      <td>2019</td>\n",
       "      <td>12</td>\n",
       "      <td>31</td>\n",
       "      <td>3</td>\n",
       "      <td>1</td>\n",
       "      <td>1</td>\n",
       "      <td>0</td>\n",
       "      <td>1335574</td>\n",
       "      <td>417380</td>\n",
       "      <td>C</td>\n",
       "      <td>70</td>\n",
       "      <td>0</td>\n",
       "      <td>555951.0</td>\n",
       "      <td>0.0</td>\n",
       "      <td>0.0</td>\n",
       "      <td>1.0</td>\n",
       "      <td>0.0</td>\n",
       "      <td>1095.0</td>\n",
       "    </tr>\n",
       "    <tr>\n",
       "      <th>1335574</th>\n",
       "      <td>2019-12-31</td>\n",
       "      <td>2019</td>\n",
       "      <td>12</td>\n",
       "      <td>31</td>\n",
       "      <td>3</td>\n",
       "      <td>1</td>\n",
       "      <td>1</td>\n",
       "      <td>0</td>\n",
       "      <td>1335575</td>\n",
       "      <td>999001</td>\n",
       "      <td>C</td>\n",
       "      <td>0</td>\n",
       "      <td>1</td>\n",
       "      <td>NaN</td>\n",
       "      <td>NaN</td>\n",
       "      <td>NaN</td>\n",
       "      <td>NaN</td>\n",
       "      <td>NaN</td>\n",
       "      <td>NaN</td>\n",
       "    </tr>\n",
       "    <tr>\n",
       "      <th>1335575</th>\n",
       "      <td>2019-12-31</td>\n",
       "      <td>2019</td>\n",
       "      <td>12</td>\n",
       "      <td>31</td>\n",
       "      <td>3</td>\n",
       "      <td>1</td>\n",
       "      <td>1</td>\n",
       "      <td>0</td>\n",
       "      <td>1335576</td>\n",
       "      <td>999001</td>\n",
       "      <td>C</td>\n",
       "      <td>0</td>\n",
       "      <td>1</td>\n",
       "      <td>NaN</td>\n",
       "      <td>NaN</td>\n",
       "      <td>NaN</td>\n",
       "      <td>NaN</td>\n",
       "      <td>NaN</td>\n",
       "      <td>NaN</td>\n",
       "    </tr>\n",
       "  </tbody>\n",
       "</table>\n",
       "<p>1335576 rows × 19 columns</p>\n",
       "</div>"
      ],
      "text/plain": [
       "           date_val  calendar_year  calendar_month  calendar_day  day_of_week  \\\n",
       "0        2017-01-01           2017               1             1            1   \n",
       "1        2017-01-01           2017               1             1            1   \n",
       "2        2017-01-01           2017               1             1            1   \n",
       "3        2017-01-01           2017               1             1            1   \n",
       "4        2017-01-01           2017               1             1            1   \n",
       "...             ...            ...             ...           ...          ...   \n",
       "1335571  2019-12-31           2019              12            31            3   \n",
       "1335572  2019-12-31           2019              12            31            3   \n",
       "1335573  2019-12-31           2019              12            31            3   \n",
       "1335574  2019-12-31           2019              12            31            3   \n",
       "1335575  2019-12-31           2019              12            31            3   \n",
       "\n",
       "         is_weekday  is_workday  is_holiday  dim_claim_id     bin drug  \\\n",
       "0                 0           0           1             1  417380    A   \n",
       "1                 0           0           1             2  999001    A   \n",
       "2                 0           0           1             3  417740    A   \n",
       "3                 0           0           1             4  999001    A   \n",
       "4                 0           0           1             5  417740    A   \n",
       "...             ...         ...         ...           ...     ...  ...   \n",
       "1335571           1           1           0       1335572  417740    C   \n",
       "1335572           1           1           0       1335573  999001    C   \n",
       "1335573           1           1           0       1335574  417380    C   \n",
       "1335574           1           1           0       1335575  999001    C   \n",
       "1335575           1           1           0       1335576  999001    C   \n",
       "\n",
       "         reject_code  pharmacy_claim_approved  dim_pa_id  correct_diagnosis  \\\n",
       "0                 75                        0        1.0                1.0   \n",
       "1                  0                        1        NaN                NaN   \n",
       "2                 76                        0        2.0                1.0   \n",
       "3                  0                        1        NaN                NaN   \n",
       "4                  0                        1        NaN                NaN   \n",
       "...              ...                      ...        ...                ...   \n",
       "1335571           75                        0   555950.0                1.0   \n",
       "1335572            0                        1        NaN                NaN   \n",
       "1335573           70                        0   555951.0                0.0   \n",
       "1335574            0                        1        NaN                NaN   \n",
       "1335575            0                        1        NaN                NaN   \n",
       "\n",
       "         tried_and_failed  contraindication  pa_approved  dim_date_id  \n",
       "0                     1.0               0.0          1.0          1.0  \n",
       "1                     NaN               NaN          NaN          NaN  \n",
       "2                     0.0               0.0          1.0          1.0  \n",
       "3                     NaN               NaN          NaN          NaN  \n",
       "4                     NaN               NaN          NaN          NaN  \n",
       "...                   ...               ...          ...          ...  \n",
       "1335571               0.0               0.0          1.0       1095.0  \n",
       "1335572               NaN               NaN          NaN          NaN  \n",
       "1335573               0.0               1.0          0.0       1095.0  \n",
       "1335574               NaN               NaN          NaN          NaN  \n",
       "1335575               NaN               NaN          NaN          NaN  \n",
       "\n",
       "[1335576 rows x 19 columns]"
      ]
     },
     "execution_count": 38,
     "metadata": {},
     "output_type": "execute_result"
    }
   ],
   "source": [
    "data"
   ]
  },
  {
   "cell_type": "markdown",
   "id": "233636b2",
   "metadata": {},
   "source": [
    "## Test Train Split \n",
    "\n",
    "How would we like to split the data? Chronologically? To include a similar number of reject code types? Or other categorical types? "
   ]
  },
  {
   "cell_type": "code",
   "execution_count": 39,
   "id": "b6010ad7",
   "metadata": {},
   "outputs": [],
   "source": [
    "from sklearn.model_selection import train_test_split"
   ]
  },
  {
   "cell_type": "code",
   "execution_count": 40,
   "id": "d15020d8",
   "metadata": {},
   "outputs": [
    {
     "data": {
      "text/plain": [
       "(1335576, 19)"
      ]
     },
     "execution_count": 40,
     "metadata": {},
     "output_type": "execute_result"
    }
   ],
   "source": [
    "data.shape"
   ]
  },
  {
   "cell_type": "code",
   "execution_count": 41,
   "id": "7955cc6d",
   "metadata": {},
   "outputs": [],
   "source": [
    "X_train, X_test, y_train, y_test = train_test_split(data, data['pharmacy_claim_approved'], test_size=0.33, random_state=42)"
   ]
  },
  {
   "cell_type": "code",
   "execution_count": 42,
   "id": "7998cebf",
   "metadata": {},
   "outputs": [],
   "source": [
    "X_train.to_csv('../data/training/train.csv')\n",
    "X_test.to_csv('../data/training/test.csv')"
   ]
  },
  {
   "cell_type": "code",
   "execution_count": null,
   "id": "dde67689",
   "metadata": {},
   "outputs": [],
   "source": []
  }
 ],
 "metadata": {
  "kernelspec": {
   "display_name": "Python 3",
   "language": "python",
   "name": "python3"
  },
  "language_info": {
   "codemirror_mode": {
    "name": "ipython",
    "version": 3
   },
   "file_extension": ".py",
   "mimetype": "text/x-python",
   "name": "python",
   "nbconvert_exporter": "python",
   "pygments_lexer": "ipython3",
   "version": "3.8.8"
  }
 },
 "nbformat": 4,
 "nbformat_minor": 5
}
