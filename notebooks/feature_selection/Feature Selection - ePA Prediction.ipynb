{
 "cells": [
  {
   "cell_type": "markdown",
   "id": "e0671d9e",
   "metadata": {},
   "source": [
    "# Feature Selection Claim Approval\n",
    "\n",
    "We are predicting whether a claim will be approved or not, and subsequently require an ePA."
   ]
  },
  {
   "cell_type": "code",
   "execution_count": 178,
   "id": "ec8d0097",
   "metadata": {},
   "outputs": [],
   "source": [
    "import pandas as pd\n",
    "import numpy as np\n",
    "import seaborn as sns\n",
    "import datetime\n",
    "import matplotlib.pyplot as plt\n",
    "\n",
    "sns.set_theme(style=\"whitegrid\")\n",
    "sns.set(rc={'figure.figsize':(8.0,6.0)})"
   ]
  },
  {
   "cell_type": "code",
   "execution_count": 179,
   "id": "54957aa6",
   "metadata": {},
   "outputs": [],
   "source": [
    "data = pd.read_csv('../../data/training/train.csv',index_col=1, parse_dates=True)"
   ]
  },
  {
   "cell_type": "markdown",
   "id": "3fb40fd5",
   "metadata": {},
   "source": [
    "If we are predicting whether or not there is an ePA, we need to drop the ePA information."
   ]
  },
  {
   "cell_type": "code",
   "execution_count": 180,
   "id": "a4279f56",
   "metadata": {},
   "outputs": [],
   "source": [
    "pa_columns = ['correct_diagnosis','tried_and_failed','contraindication','pa_approved','reject_code']"
   ]
  },
  {
   "cell_type": "markdown",
   "id": "5120646f",
   "metadata": {},
   "source": [
    "We can also drop the id's, since these are useful indices but not useful for classification."
   ]
  },
  {
   "cell_type": "code",
   "execution_count": 181,
   "id": "56c114dc",
   "metadata": {},
   "outputs": [],
   "source": [
    "id_columns = ['dim_pa_id','dim_date_id','dim_claim_id','Unnamed: 0']"
   ]
  },
  {
   "cell_type": "markdown",
   "id": "83a5acb8",
   "metadata": {},
   "source": [
    "We can also drop the year, since this is not cyclical."
   ]
  },
  {
   "cell_type": "code",
   "execution_count": 182,
   "id": "5b7688f0",
   "metadata": {},
   "outputs": [],
   "source": [
    "date_columns = ['calendar_year']"
   ]
  },
  {
   "cell_type": "code",
   "execution_count": 183,
   "id": "0bba668b",
   "metadata": {},
   "outputs": [],
   "source": [
    "data = data.drop(columns=pa_columns+id_columns+date_columns)"
   ]
  },
  {
   "cell_type": "code",
   "execution_count": 184,
   "id": "85a58175",
   "metadata": {},
   "outputs": [
    {
     "data": {
      "text/html": [
       "<div>\n",
       "<style scoped>\n",
       "    .dataframe tbody tr th:only-of-type {\n",
       "        vertical-align: middle;\n",
       "    }\n",
       "\n",
       "    .dataframe tbody tr th {\n",
       "        vertical-align: top;\n",
       "    }\n",
       "\n",
       "    .dataframe thead th {\n",
       "        text-align: right;\n",
       "    }\n",
       "</style>\n",
       "<table border=\"1\" class=\"dataframe\">\n",
       "  <thead>\n",
       "    <tr style=\"text-align: right;\">\n",
       "      <th></th>\n",
       "      <th>calendar_month</th>\n",
       "      <th>calendar_day</th>\n",
       "      <th>day_of_week</th>\n",
       "      <th>is_weekday</th>\n",
       "      <th>is_workday</th>\n",
       "      <th>is_holiday</th>\n",
       "      <th>bin</th>\n",
       "      <th>drug</th>\n",
       "      <th>pharmacy_claim_approved</th>\n",
       "    </tr>\n",
       "    <tr>\n",
       "      <th>date_val</th>\n",
       "      <th></th>\n",
       "      <th></th>\n",
       "      <th></th>\n",
       "      <th></th>\n",
       "      <th></th>\n",
       "      <th></th>\n",
       "      <th></th>\n",
       "      <th></th>\n",
       "      <th></th>\n",
       "    </tr>\n",
       "  </thead>\n",
       "  <tbody>\n",
       "    <tr>\n",
       "      <th>2019-06-18</th>\n",
       "      <td>6</td>\n",
       "      <td>18</td>\n",
       "      <td>3</td>\n",
       "      <td>1</td>\n",
       "      <td>1</td>\n",
       "      <td>0</td>\n",
       "      <td>999001</td>\n",
       "      <td>C</td>\n",
       "      <td>1</td>\n",
       "    </tr>\n",
       "    <tr>\n",
       "      <th>2019-02-07</th>\n",
       "      <td>2</td>\n",
       "      <td>7</td>\n",
       "      <td>5</td>\n",
       "      <td>1</td>\n",
       "      <td>1</td>\n",
       "      <td>0</td>\n",
       "      <td>999001</td>\n",
       "      <td>B</td>\n",
       "      <td>1</td>\n",
       "    </tr>\n",
       "    <tr>\n",
       "      <th>2017-01-19</th>\n",
       "      <td>1</td>\n",
       "      <td>19</td>\n",
       "      <td>5</td>\n",
       "      <td>1</td>\n",
       "      <td>1</td>\n",
       "      <td>0</td>\n",
       "      <td>417614</td>\n",
       "      <td>B</td>\n",
       "      <td>0</td>\n",
       "    </tr>\n",
       "    <tr>\n",
       "      <th>2019-04-01</th>\n",
       "      <td>4</td>\n",
       "      <td>1</td>\n",
       "      <td>2</td>\n",
       "      <td>1</td>\n",
       "      <td>1</td>\n",
       "      <td>0</td>\n",
       "      <td>417614</td>\n",
       "      <td>B</td>\n",
       "      <td>0</td>\n",
       "    </tr>\n",
       "    <tr>\n",
       "      <th>2017-11-07</th>\n",
       "      <td>11</td>\n",
       "      <td>7</td>\n",
       "      <td>3</td>\n",
       "      <td>1</td>\n",
       "      <td>1</td>\n",
       "      <td>0</td>\n",
       "      <td>417380</td>\n",
       "      <td>A</td>\n",
       "      <td>0</td>\n",
       "    </tr>\n",
       "  </tbody>\n",
       "</table>\n",
       "</div>"
      ],
      "text/plain": [
       "            calendar_month  calendar_day  day_of_week  is_weekday  is_workday  \\\n",
       "date_val                                                                        \n",
       "2019-06-18               6            18            3           1           1   \n",
       "2019-02-07               2             7            5           1           1   \n",
       "2017-01-19               1            19            5           1           1   \n",
       "2019-04-01               4             1            2           1           1   \n",
       "2017-11-07              11             7            3           1           1   \n",
       "\n",
       "            is_holiday     bin drug  pharmacy_claim_approved  \n",
       "date_val                                                      \n",
       "2019-06-18           0  999001    C                        1  \n",
       "2019-02-07           0  999001    B                        1  \n",
       "2017-01-19           0  417614    B                        0  \n",
       "2019-04-01           0  417614    B                        0  \n",
       "2017-11-07           0  417380    A                        0  "
      ]
     },
     "execution_count": 184,
     "metadata": {},
     "output_type": "execute_result"
    }
   ],
   "source": [
    "data.head()"
   ]
  },
  {
   "cell_type": "code",
   "execution_count": 185,
   "id": "4a864a64",
   "metadata": {},
   "outputs": [],
   "source": [
    "def encode(data,feature,prefix=''):\n",
    "    for feat in np.unique(data[feature]):\n",
    "        data[prefix+'_'+str(feat)] = pd.get_dummies(data[feature])[feat]\n",
    "    data = data.drop(columns=[feature])\n",
    "    return data"
   ]
  },
  {
   "cell_type": "code",
   "execution_count": 186,
   "id": "374e771a",
   "metadata": {},
   "outputs": [],
   "source": [
    "# Encode the data \n",
    "\n",
    "data = encode(data,'drug','drug')\n",
    "\n",
    "data = encode(data,'bin','payer')"
   ]
  },
  {
   "cell_type": "code",
   "execution_count": 187,
   "id": "5f263282",
   "metadata": {},
   "outputs": [
    {
     "data": {
      "text/html": [
       "<div>\n",
       "<style scoped>\n",
       "    .dataframe tbody tr th:only-of-type {\n",
       "        vertical-align: middle;\n",
       "    }\n",
       "\n",
       "    .dataframe tbody tr th {\n",
       "        vertical-align: top;\n",
       "    }\n",
       "\n",
       "    .dataframe thead th {\n",
       "        text-align: right;\n",
       "    }\n",
       "</style>\n",
       "<table border=\"1\" class=\"dataframe\">\n",
       "  <thead>\n",
       "    <tr style=\"text-align: right;\">\n",
       "      <th></th>\n",
       "      <th>calendar_month</th>\n",
       "      <th>calendar_day</th>\n",
       "      <th>day_of_week</th>\n",
       "      <th>is_weekday</th>\n",
       "      <th>is_workday</th>\n",
       "      <th>is_holiday</th>\n",
       "      <th>pharmacy_claim_approved</th>\n",
       "      <th>drug_A</th>\n",
       "      <th>drug_B</th>\n",
       "      <th>drug_C</th>\n",
       "      <th>payer_417380</th>\n",
       "      <th>payer_417614</th>\n",
       "      <th>payer_417740</th>\n",
       "      <th>payer_999001</th>\n",
       "    </tr>\n",
       "    <tr>\n",
       "      <th>date_val</th>\n",
       "      <th></th>\n",
       "      <th></th>\n",
       "      <th></th>\n",
       "      <th></th>\n",
       "      <th></th>\n",
       "      <th></th>\n",
       "      <th></th>\n",
       "      <th></th>\n",
       "      <th></th>\n",
       "      <th></th>\n",
       "      <th></th>\n",
       "      <th></th>\n",
       "      <th></th>\n",
       "      <th></th>\n",
       "    </tr>\n",
       "  </thead>\n",
       "  <tbody>\n",
       "    <tr>\n",
       "      <th>2019-06-18</th>\n",
       "      <td>6</td>\n",
       "      <td>18</td>\n",
       "      <td>3</td>\n",
       "      <td>1</td>\n",
       "      <td>1</td>\n",
       "      <td>0</td>\n",
       "      <td>1</td>\n",
       "      <td>0</td>\n",
       "      <td>0</td>\n",
       "      <td>1</td>\n",
       "      <td>0</td>\n",
       "      <td>0</td>\n",
       "      <td>0</td>\n",
       "      <td>1</td>\n",
       "    </tr>\n",
       "    <tr>\n",
       "      <th>2019-02-07</th>\n",
       "      <td>2</td>\n",
       "      <td>7</td>\n",
       "      <td>5</td>\n",
       "      <td>1</td>\n",
       "      <td>1</td>\n",
       "      <td>0</td>\n",
       "      <td>1</td>\n",
       "      <td>0</td>\n",
       "      <td>1</td>\n",
       "      <td>0</td>\n",
       "      <td>0</td>\n",
       "      <td>0</td>\n",
       "      <td>0</td>\n",
       "      <td>1</td>\n",
       "    </tr>\n",
       "    <tr>\n",
       "      <th>2017-01-19</th>\n",
       "      <td>1</td>\n",
       "      <td>19</td>\n",
       "      <td>5</td>\n",
       "      <td>1</td>\n",
       "      <td>1</td>\n",
       "      <td>0</td>\n",
       "      <td>0</td>\n",
       "      <td>0</td>\n",
       "      <td>1</td>\n",
       "      <td>0</td>\n",
       "      <td>0</td>\n",
       "      <td>1</td>\n",
       "      <td>0</td>\n",
       "      <td>0</td>\n",
       "    </tr>\n",
       "    <tr>\n",
       "      <th>2019-04-01</th>\n",
       "      <td>4</td>\n",
       "      <td>1</td>\n",
       "      <td>2</td>\n",
       "      <td>1</td>\n",
       "      <td>1</td>\n",
       "      <td>0</td>\n",
       "      <td>0</td>\n",
       "      <td>0</td>\n",
       "      <td>1</td>\n",
       "      <td>0</td>\n",
       "      <td>0</td>\n",
       "      <td>1</td>\n",
       "      <td>0</td>\n",
       "      <td>0</td>\n",
       "    </tr>\n",
       "    <tr>\n",
       "      <th>2017-11-07</th>\n",
       "      <td>11</td>\n",
       "      <td>7</td>\n",
       "      <td>3</td>\n",
       "      <td>1</td>\n",
       "      <td>1</td>\n",
       "      <td>0</td>\n",
       "      <td>0</td>\n",
       "      <td>1</td>\n",
       "      <td>0</td>\n",
       "      <td>0</td>\n",
       "      <td>1</td>\n",
       "      <td>0</td>\n",
       "      <td>0</td>\n",
       "      <td>0</td>\n",
       "    </tr>\n",
       "  </tbody>\n",
       "</table>\n",
       "</div>"
      ],
      "text/plain": [
       "            calendar_month  calendar_day  day_of_week  is_weekday  is_workday  \\\n",
       "date_val                                                                        \n",
       "2019-06-18               6            18            3           1           1   \n",
       "2019-02-07               2             7            5           1           1   \n",
       "2017-01-19               1            19            5           1           1   \n",
       "2019-04-01               4             1            2           1           1   \n",
       "2017-11-07              11             7            3           1           1   \n",
       "\n",
       "            is_holiday  pharmacy_claim_approved  drug_A  drug_B  drug_C  \\\n",
       "date_val                                                                  \n",
       "2019-06-18           0                        1       0       0       1   \n",
       "2019-02-07           0                        1       0       1       0   \n",
       "2017-01-19           0                        0       0       1       0   \n",
       "2019-04-01           0                        0       0       1       0   \n",
       "2017-11-07           0                        0       1       0       0   \n",
       "\n",
       "            payer_417380  payer_417614  payer_417740  payer_999001  \n",
       "date_val                                                            \n",
       "2019-06-18             0             0             0             1  \n",
       "2019-02-07             0             0             0             1  \n",
       "2017-01-19             0             1             0             0  \n",
       "2019-04-01             0             1             0             0  \n",
       "2017-11-07             1             0             0             0  "
      ]
     },
     "execution_count": 187,
     "metadata": {},
     "output_type": "execute_result"
    }
   ],
   "source": [
    "data.head()"
   ]
  },
  {
   "cell_type": "markdown",
   "id": "51452ac7",
   "metadata": {},
   "source": [
    "## RandomForest Feature Importance"
   ]
  },
  {
   "cell_type": "code",
   "execution_count": 189,
   "id": "85261543",
   "metadata": {},
   "outputs": [],
   "source": [
    "X = data.drop(columns=['pharmacy_claim_approved'])\n",
    "y = data['pharmacy_claim_approved']"
   ]
  },
  {
   "cell_type": "code",
   "execution_count": 190,
   "id": "7db162dd",
   "metadata": {},
   "outputs": [],
   "source": [
    "from sklearn.ensemble import RandomForestClassifier"
   ]
  },
  {
   "cell_type": "markdown",
   "id": "557fc48f",
   "metadata": {},
   "source": [
    "Quick optimization so we have a decent model to calculate this."
   ]
  },
  {
   "cell_type": "code",
   "execution_count": 191,
   "id": "bdc67b4b",
   "metadata": {},
   "outputs": [],
   "source": [
    "from sklearn.ensemble import RandomForestClassifier"
   ]
  },
  {
   "cell_type": "markdown",
   "id": "8f693eb7",
   "metadata": {},
   "source": [
    "### Feature Importance Results"
   ]
  },
  {
   "cell_type": "code",
   "execution_count": 195,
   "id": "4ef222da",
   "metadata": {},
   "outputs": [
    {
     "data": {
      "text/plain": [
       "RandomForestClassifier()"
      ]
     },
     "execution_count": 195,
     "metadata": {},
     "output_type": "execute_result"
    }
   ],
   "source": [
    "forest = RandomForestClassifier()\n",
    "\n",
    "forest.fit(X, y)"
   ]
  },
  {
   "cell_type": "code",
   "execution_count": 197,
   "id": "fd9a74c7",
   "metadata": {},
   "outputs": [
    {
     "data": {
      "text/html": [
       "<div>\n",
       "<style scoped>\n",
       "    .dataframe tbody tr th:only-of-type {\n",
       "        vertical-align: middle;\n",
       "    }\n",
       "\n",
       "    .dataframe tbody tr th {\n",
       "        vertical-align: top;\n",
       "    }\n",
       "\n",
       "    .dataframe thead th {\n",
       "        text-align: right;\n",
       "    }\n",
       "</style>\n",
       "<table border=\"1\" class=\"dataframe\">\n",
       "  <thead>\n",
       "    <tr style=\"text-align: right;\">\n",
       "      <th></th>\n",
       "      <th>feature</th>\n",
       "      <th>importance_score</th>\n",
       "    </tr>\n",
       "  </thead>\n",
       "  <tbody>\n",
       "    <tr>\n",
       "      <th>12</th>\n",
       "      <td>payer_999001</td>\n",
       "      <td>0.313673</td>\n",
       "    </tr>\n",
       "    <tr>\n",
       "      <th>10</th>\n",
       "      <td>payer_417614</td>\n",
       "      <td>0.170023</td>\n",
       "    </tr>\n",
       "    <tr>\n",
       "      <th>11</th>\n",
       "      <td>payer_417740</td>\n",
       "      <td>0.111780</td>\n",
       "    </tr>\n",
       "    <tr>\n",
       "      <th>8</th>\n",
       "      <td>drug_C</td>\n",
       "      <td>0.111718</td>\n",
       "    </tr>\n",
       "    <tr>\n",
       "      <th>6</th>\n",
       "      <td>drug_A</td>\n",
       "      <td>0.110845</td>\n",
       "    </tr>\n",
       "    <tr>\n",
       "      <th>9</th>\n",
       "      <td>payer_417380</td>\n",
       "      <td>0.103069</td>\n",
       "    </tr>\n",
       "    <tr>\n",
       "      <th>7</th>\n",
       "      <td>drug_B</td>\n",
       "      <td>0.071891</td>\n",
       "    </tr>\n",
       "    <tr>\n",
       "      <th>1</th>\n",
       "      <td>calendar_day</td>\n",
       "      <td>0.004347</td>\n",
       "    </tr>\n",
       "    <tr>\n",
       "      <th>0</th>\n",
       "      <td>calendar_month</td>\n",
       "      <td>0.001829</td>\n",
       "    </tr>\n",
       "    <tr>\n",
       "      <th>2</th>\n",
       "      <td>day_of_week</td>\n",
       "      <td>0.000745</td>\n",
       "    </tr>\n",
       "    <tr>\n",
       "      <th>4</th>\n",
       "      <td>is_workday</td>\n",
       "      <td>0.000032</td>\n",
       "    </tr>\n",
       "    <tr>\n",
       "      <th>3</th>\n",
       "      <td>is_weekday</td>\n",
       "      <td>0.000026</td>\n",
       "    </tr>\n",
       "    <tr>\n",
       "      <th>5</th>\n",
       "      <td>is_holiday</td>\n",
       "      <td>0.000023</td>\n",
       "    </tr>\n",
       "  </tbody>\n",
       "</table>\n",
       "</div>"
      ],
      "text/plain": [
       "           feature  importance_score\n",
       "12    payer_999001          0.313673\n",
       "10    payer_417614          0.170023\n",
       "11    payer_417740          0.111780\n",
       "8           drug_C          0.111718\n",
       "6           drug_A          0.110845\n",
       "9     payer_417380          0.103069\n",
       "7           drug_B          0.071891\n",
       "1     calendar_day          0.004347\n",
       "0   calendar_month          0.001829\n",
       "2      day_of_week          0.000745\n",
       "4       is_workday          0.000032\n",
       "3       is_weekday          0.000026\n",
       "5       is_holiday          0.000023"
      ]
     },
     "execution_count": 197,
     "metadata": {},
     "output_type": "execute_result"
    }
   ],
   "source": [
    "score_df = pd.DataFrame({'feature':X.columns,\n",
    "                            'importance_score': forest.feature_importances_})\n",
    "\n",
    "score_df.sort_values('importance_score',ascending=False)"
   ]
  },
  {
   "cell_type": "markdown",
   "id": "8660e635",
   "metadata": {},
   "source": [
    "### Cross-Checking with Extra Trees"
   ]
  },
  {
   "cell_type": "code",
   "execution_count": 198,
   "id": "ab539e74",
   "metadata": {},
   "outputs": [],
   "source": [
    "from sklearn.ensemble import ExtraTreesClassifier"
   ]
  },
  {
   "cell_type": "code",
   "execution_count": 201,
   "id": "92c40d42",
   "metadata": {},
   "outputs": [
    {
     "data": {
      "text/plain": [
       "ExtraTreesClassifier()"
      ]
     },
     "execution_count": 201,
     "metadata": {},
     "output_type": "execute_result"
    }
   ],
   "source": [
    "extra = ExtraTreesClassifier()\n",
    "\n",
    "extra.fit(X, y)"
   ]
  },
  {
   "cell_type": "code",
   "execution_count": 203,
   "id": "1f34a530",
   "metadata": {},
   "outputs": [
    {
     "data": {
      "text/html": [
       "<div>\n",
       "<style scoped>\n",
       "    .dataframe tbody tr th:only-of-type {\n",
       "        vertical-align: middle;\n",
       "    }\n",
       "\n",
       "    .dataframe tbody tr th {\n",
       "        vertical-align: top;\n",
       "    }\n",
       "\n",
       "    .dataframe thead th {\n",
       "        text-align: right;\n",
       "    }\n",
       "</style>\n",
       "<table border=\"1\" class=\"dataframe\">\n",
       "  <thead>\n",
       "    <tr style=\"text-align: right;\">\n",
       "      <th></th>\n",
       "      <th>feature</th>\n",
       "      <th>importance_score</th>\n",
       "    </tr>\n",
       "  </thead>\n",
       "  <tbody>\n",
       "    <tr>\n",
       "      <th>12</th>\n",
       "      <td>payer_999001</td>\n",
       "      <td>0.314190</td>\n",
       "    </tr>\n",
       "    <tr>\n",
       "      <th>10</th>\n",
       "      <td>payer_417614</td>\n",
       "      <td>0.206536</td>\n",
       "    </tr>\n",
       "    <tr>\n",
       "      <th>9</th>\n",
       "      <td>payer_417380</td>\n",
       "      <td>0.112818</td>\n",
       "    </tr>\n",
       "    <tr>\n",
       "      <th>6</th>\n",
       "      <td>drug_A</td>\n",
       "      <td>0.111410</td>\n",
       "    </tr>\n",
       "    <tr>\n",
       "      <th>8</th>\n",
       "      <td>drug_C</td>\n",
       "      <td>0.090554</td>\n",
       "    </tr>\n",
       "    <tr>\n",
       "      <th>11</th>\n",
       "      <td>payer_417740</td>\n",
       "      <td>0.081452</td>\n",
       "    </tr>\n",
       "    <tr>\n",
       "      <th>7</th>\n",
       "      <td>drug_B</td>\n",
       "      <td>0.079499</td>\n",
       "    </tr>\n",
       "    <tr>\n",
       "      <th>1</th>\n",
       "      <td>calendar_day</td>\n",
       "      <td>0.002142</td>\n",
       "    </tr>\n",
       "    <tr>\n",
       "      <th>0</th>\n",
       "      <td>calendar_month</td>\n",
       "      <td>0.001000</td>\n",
       "    </tr>\n",
       "    <tr>\n",
       "      <th>2</th>\n",
       "      <td>day_of_week</td>\n",
       "      <td>0.000358</td>\n",
       "    </tr>\n",
       "    <tr>\n",
       "      <th>4</th>\n",
       "      <td>is_workday</td>\n",
       "      <td>0.000016</td>\n",
       "    </tr>\n",
       "    <tr>\n",
       "      <th>5</th>\n",
       "      <td>is_holiday</td>\n",
       "      <td>0.000012</td>\n",
       "    </tr>\n",
       "    <tr>\n",
       "      <th>3</th>\n",
       "      <td>is_weekday</td>\n",
       "      <td>0.000012</td>\n",
       "    </tr>\n",
       "  </tbody>\n",
       "</table>\n",
       "</div>"
      ],
      "text/plain": [
       "           feature  importance_score\n",
       "12    payer_999001          0.314190\n",
       "10    payer_417614          0.206536\n",
       "9     payer_417380          0.112818\n",
       "6           drug_A          0.111410\n",
       "8           drug_C          0.090554\n",
       "11    payer_417740          0.081452\n",
       "7           drug_B          0.079499\n",
       "1     calendar_day          0.002142\n",
       "0   calendar_month          0.001000\n",
       "2      day_of_week          0.000358\n",
       "4       is_workday          0.000016\n",
       "5       is_holiday          0.000012\n",
       "3       is_weekday          0.000012"
      ]
     },
     "execution_count": 203,
     "metadata": {},
     "output_type": "execute_result"
    }
   ],
   "source": [
    "score_df = pd.DataFrame({'feature':X.columns,\n",
    "                            'importance_score': extra.feature_importances_})\n",
    "\n",
    "score_df.sort_values('importance_score',ascending=False)"
   ]
  },
  {
   "cell_type": "code",
   "execution_count": null,
   "id": "a51c654e",
   "metadata": {},
   "outputs": [],
   "source": []
  }
 ],
 "metadata": {
  "kernelspec": {
   "display_name": "Python 3",
   "language": "python",
   "name": "python3"
  }
 },
 "nbformat": 4,
 "nbformat_minor": 5
}
