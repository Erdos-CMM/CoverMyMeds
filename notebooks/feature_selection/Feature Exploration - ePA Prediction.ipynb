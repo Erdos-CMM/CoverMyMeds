{
 "cells": [
  {
   "cell_type": "markdown",
   "id": "c9cb28f1",
   "metadata": {},
   "source": [
    "# Feature Exploration - ePA Prediction\n",
    "\n",
    "Exploring whether features in the data are connected to our target variable: pharmacy_claim_approved."
   ]
  },
  {
   "cell_type": "code",
   "execution_count": 1,
   "id": "80f8f323",
   "metadata": {},
   "outputs": [],
   "source": [
    "import pandas as pd\n",
    "import numpy as np\n",
    "import seaborn as sns\n",
    "import datetime\n",
    "import matplotlib.pyplot as plt\n",
    "\n",
    "sns.set_theme(style=\"whitegrid\")\n",
    "sns.set(rc={'figure.figsize':(8.0,6.0)})"
   ]
  },
  {
   "cell_type": "code",
   "execution_count": 2,
   "id": "c92cb7ed",
   "metadata": {},
   "outputs": [],
   "source": [
    "data = pd.read_csv('../../data/training/train.csv',index_col=1, parse_dates=True)"
   ]
  },
  {
   "cell_type": "code",
   "execution_count": 3,
   "id": "74bb5ac5",
   "metadata": {},
   "outputs": [],
   "source": [
    "pa_columns = ['correct_diagnosis','tried_and_failed','contraindication','pa_approved','reject_code']\n",
    "id_columns = ['dim_pa_id','dim_date_id','dim_claim_id','Unnamed: 0']\n",
    "date_columns = ['calendar_year']\n",
    "\n",
    "data = data.drop(columns=pa_columns+id_columns+date_columns)"
   ]
  },
  {
   "cell_type": "code",
   "execution_count": 6,
   "id": "59afd569",
   "metadata": {},
   "outputs": [
    {
     "data": {
      "text/html": [
       "<div>\n",
       "<style scoped>\n",
       "    .dataframe tbody tr th:only-of-type {\n",
       "        vertical-align: middle;\n",
       "    }\n",
       "\n",
       "    .dataframe tbody tr th {\n",
       "        vertical-align: top;\n",
       "    }\n",
       "\n",
       "    .dataframe thead th {\n",
       "        text-align: right;\n",
       "    }\n",
       "</style>\n",
       "<table border=\"1\" class=\"dataframe\">\n",
       "  <thead>\n",
       "    <tr style=\"text-align: right;\">\n",
       "      <th></th>\n",
       "      <th>calendar_month</th>\n",
       "      <th>calendar_day</th>\n",
       "      <th>day_of_week</th>\n",
       "      <th>is_weekday</th>\n",
       "      <th>is_workday</th>\n",
       "      <th>is_holiday</th>\n",
       "      <th>bin</th>\n",
       "      <th>drug</th>\n",
       "      <th>pharmacy_claim_approved</th>\n",
       "    </tr>\n",
       "    <tr>\n",
       "      <th>date_val</th>\n",
       "      <th></th>\n",
       "      <th></th>\n",
       "      <th></th>\n",
       "      <th></th>\n",
       "      <th></th>\n",
       "      <th></th>\n",
       "      <th></th>\n",
       "      <th></th>\n",
       "      <th></th>\n",
       "    </tr>\n",
       "  </thead>\n",
       "  <tbody>\n",
       "    <tr>\n",
       "      <th>2019-06-18</th>\n",
       "      <td>6</td>\n",
       "      <td>18</td>\n",
       "      <td>3</td>\n",
       "      <td>1</td>\n",
       "      <td>1</td>\n",
       "      <td>0</td>\n",
       "      <td>999001</td>\n",
       "      <td>C</td>\n",
       "      <td>1</td>\n",
       "    </tr>\n",
       "    <tr>\n",
       "      <th>2019-02-07</th>\n",
       "      <td>2</td>\n",
       "      <td>7</td>\n",
       "      <td>5</td>\n",
       "      <td>1</td>\n",
       "      <td>1</td>\n",
       "      <td>0</td>\n",
       "      <td>999001</td>\n",
       "      <td>B</td>\n",
       "      <td>1</td>\n",
       "    </tr>\n",
       "    <tr>\n",
       "      <th>2017-01-19</th>\n",
       "      <td>1</td>\n",
       "      <td>19</td>\n",
       "      <td>5</td>\n",
       "      <td>1</td>\n",
       "      <td>1</td>\n",
       "      <td>0</td>\n",
       "      <td>417614</td>\n",
       "      <td>B</td>\n",
       "      <td>0</td>\n",
       "    </tr>\n",
       "    <tr>\n",
       "      <th>2019-04-01</th>\n",
       "      <td>4</td>\n",
       "      <td>1</td>\n",
       "      <td>2</td>\n",
       "      <td>1</td>\n",
       "      <td>1</td>\n",
       "      <td>0</td>\n",
       "      <td>417614</td>\n",
       "      <td>B</td>\n",
       "      <td>0</td>\n",
       "    </tr>\n",
       "    <tr>\n",
       "      <th>2017-11-07</th>\n",
       "      <td>11</td>\n",
       "      <td>7</td>\n",
       "      <td>3</td>\n",
       "      <td>1</td>\n",
       "      <td>1</td>\n",
       "      <td>0</td>\n",
       "      <td>417380</td>\n",
       "      <td>A</td>\n",
       "      <td>0</td>\n",
       "    </tr>\n",
       "  </tbody>\n",
       "</table>\n",
       "</div>"
      ],
      "text/plain": [
       "            calendar_month  calendar_day  day_of_week  is_weekday  is_workday  \\\n",
       "date_val                                                                        \n",
       "2019-06-18               6            18            3           1           1   \n",
       "2019-02-07               2             7            5           1           1   \n",
       "2017-01-19               1            19            5           1           1   \n",
       "2019-04-01               4             1            2           1           1   \n",
       "2017-11-07              11             7            3           1           1   \n",
       "\n",
       "            is_holiday     bin drug  pharmacy_claim_approved  \n",
       "date_val                                                      \n",
       "2019-06-18           0  999001    C                        1  \n",
       "2019-02-07           0  999001    B                        1  \n",
       "2017-01-19           0  417614    B                        0  \n",
       "2019-04-01           0  417614    B                        0  \n",
       "2017-11-07           0  417380    A                        0  "
      ]
     },
     "execution_count": 6,
     "metadata": {},
     "output_type": "execute_result"
    }
   ],
   "source": [
    "data.head()"
   ]
  },
  {
   "cell_type": "code",
   "execution_count": 43,
   "id": "626d7a89",
   "metadata": {},
   "outputs": [],
   "source": [
    "def bar_plot(feature):\n",
    "    feature_data = data.groupby(feature)\n",
    "    approval_rate = 100*(feature_data['pharmacy_claim_approved'].sum())/feature_data['pharmacy_claim_approved'].count()\n",
    "    print('Approval Rates')\n",
    "    print(approval_rate)\n",
    "    \n",
    "    approval_rate.plot.bar(x='day of week', y='val', title='% claim approval rate')"
   ]
  },
  {
   "cell_type": "markdown",
   "id": "2c538ded",
   "metadata": {},
   "source": [
    "### % Approval Rate By Feature Type\n",
    "\n",
    "['bin','drug','calendar_month','calendar_day','day_of_week','is_weekday','is_workday','is_holiday']:"
   ]
  },
  {
   "cell_type": "code",
   "execution_count": 44,
   "id": "760680b4",
   "metadata": {},
   "outputs": [
    {
     "name": "stdout",
     "output_type": "stream",
     "text": [
      "Approval Rates\n",
      "bin\n",
      "417380    23.145128\n",
      "417614    21.195634\n",
      "417740    45.754177\n",
      "999001    89.998648\n",
      "Name: pharmacy_claim_approved, dtype: float64\n"
     ]
    },
    {
     "data": {
      "image/png": "[encoded data removed]",
      "text/plain": [
       "<Figure size 576x432 with 1 Axes>"
      ]
     },
     "metadata": {},
     "output_type": "display_data"
    }
   ],
   "source": [
    "bar_plot('bin')"
   ]
  },
  {
   "cell_type": "code",
   "execution_count": 45,
   "id": "f3d33fd6",
   "metadata": {},
   "outputs": [
    {
     "name": "stdout",
     "output_type": "stream",
     "text": [
      "Approval Rates\n",
      "drug\n",
      "A    57.575411\n",
      "B    54.905074\n",
      "C    63.896053\n",
      "Name: pharmacy_claim_approved, dtype: float64\n"
     ]
    },
    {
     "data": {
      "image/png": "[encoded data removed]",
      "text/plain": [
       "<Figure size 576x432 with 1 Axes>"
      ]
     },
     "metadata": {},
     "output_type": "display_data"
    }
   ],
   "source": [
    "bar_plot('drug')"
   ]
  },
  {
   "cell_type": "code",
   "execution_count": 46,
   "id": "d5edbd6e",
   "metadata": {},
   "outputs": [
    {
     "name": "stdout",
     "output_type": "stream",
     "text": [
      "Approval Rates\n",
      "is_workday\n",
      "0    58.322437\n",
      "1    58.381723\n",
      "Name: pharmacy_claim_approved, dtype: float64\n"
     ]
    },
    {
     "data": {
      "image/png": "[encoded data removed]",
      "text/plain": [
       "<Figure size 576x432 with 1 Axes>"
      ]
     },
     "metadata": {},
     "output_type": "display_data"
    }
   ],
   "source": [
    "bar_plot('is_workday')"
   ]
  },
  {
   "cell_type": "code",
   "execution_count": 47,
   "id": "254b7f53",
   "metadata": {},
   "outputs": [
    {
     "name": "stdout",
     "output_type": "stream",
     "text": [
      "Approval Rates\n",
      "is_holiday\n",
      "0    58.380619\n",
      "1    57.531067\n",
      "Name: pharmacy_claim_approved, dtype: float64\n"
     ]
    },
    {
     "data": {
      "image/png": "[encoded data removed]",
      "text/plain": [
       "<Figure size 576x432 with 1 Axes>"
      ]
     },
     "metadata": {},
     "output_type": "display_data"
    }
   ],
   "source": [
    "bar_plot('is_holiday')"
   ]
  },
  {
   "cell_type": "code",
   "execution_count": 49,
   "id": "7130e353",
   "metadata": {},
   "outputs": [
    {
     "name": "stdout",
     "output_type": "stream",
     "text": [
      "Approval Rates\n",
      "is_weekday\n",
      "0    58.356435\n",
      "1    58.376064\n",
      "Name: pharmacy_claim_approved, dtype: float64\n"
     ]
    },
    {
     "data": {
      "image/png": "[encoded data removed]",
      "text/plain": [
       "<Figure size 576x432 with 1 Axes>"
      ]
     },
     "metadata": {},
     "output_type": "display_data"
    }
   ],
   "source": [
    "bar_plot('is_weekday')"
   ]
  },
  {
   "cell_type": "code",
   "execution_count": 52,
   "id": "2eddaf3a",
   "metadata": {},
   "outputs": [
    {
     "name": "stdout",
     "output_type": "stream",
     "text": [
      "Approval Rates\n",
      "day_of_week\n",
      "1    58.471150\n",
      "2    58.538164\n",
      "3    58.370539\n",
      "4    58.425515\n",
      "5    58.395743\n",
      "6    58.158671\n",
      "7    58.240647\n",
      "Name: pharmacy_claim_approved, dtype: float64\n"
     ]
    },
    {
     "data": {
      "image/png": "[encoded data removed]",
      "text/plain": [
       "<Figure size 576x432 with 1 Axes>"
      ]
     },
     "metadata": {},
     "output_type": "display_data"
    }
   ],
   "source": [
    "bar_plot('day_of_week')"
   ]
  },
  {
   "cell_type": "code",
   "execution_count": 50,
   "id": "e8ad24b1",
   "metadata": {},
   "outputs": [
    {
     "name": "stdout",
     "output_type": "stream",
     "text": [
      "Approval Rates\n",
      "calendar_month\n",
      "1     58.158974\n",
      "2     58.584264\n",
      "3     58.110252\n",
      "4     58.587130\n",
      "5     58.313064\n",
      "6     58.464509\n",
      "7     58.487820\n",
      "8     58.578714\n",
      "9     58.333453\n",
      "10    58.265876\n",
      "11    58.494067\n",
      "12    58.139823\n",
      "Name: pharmacy_claim_approved, dtype: float64\n"
     ]
    },
    {
     "data": {
      "image/png": "[encoded data removed]",
      "text/plain": [
       "<Figure size 576x432 with 1 Axes>"
      ]
     },
     "metadata": {},
     "output_type": "display_data"
    }
   ],
   "source": [
    "bar_plot('calendar_month')"
   ]
  },
  {
   "cell_type": "code",
   "execution_count": 51,
   "id": "4f6b5019",
   "metadata": {},
   "outputs": [
    {
     "name": "stdout",
     "output_type": "stream",
     "text": [
      "Approval Rates\n",
      "calendar_day\n",
      "1     58.181623\n",
      "2     58.025306\n",
      "3     58.171979\n",
      "4     58.057371\n",
      "5     58.184781\n",
      "6     58.180806\n",
      "7     58.726136\n",
      "8     58.023731\n",
      "9     58.040476\n",
      "10    58.855718\n",
      "11    58.032055\n",
      "12    58.180878\n",
      "13    58.055447\n",
      "14    58.442704\n",
      "15    58.783854\n",
      "16    58.570210\n",
      "17    58.092775\n",
      "18    58.553642\n",
      "19    58.444611\n",
      "20    58.863859\n",
      "21    58.753182\n",
      "22    58.307188\n",
      "23    58.558433\n",
      "24    58.359522\n",
      "25    58.265382\n",
      "26    58.804105\n",
      "27    58.540707\n",
      "28    58.243430\n",
      "29    58.063880\n",
      "30    58.844573\n",
      "31    58.288741\n",
      "Name: pharmacy_claim_approved, dtype: float64\n"
     ]
    },
    {
     "data": {
      "image/png": "[encoded data removed]",
      "text/plain": [
       "<Figure size 576x432 with 1 Axes>"
      ]
     },
     "metadata": {},
     "output_type": "display_data"
    }
   ],
   "source": [
    "bar_plot('calendar_day')"
   ]
  },
  {
   "cell_type": "code",
   "execution_count": null,
   "id": "f58a1538",
   "metadata": {},
   "outputs": [],
   "source": []
  }
 ],
 "metadata": {
  "kernelspec": {
   "display_name": "Python 3",
   "language": "python",
   "name": "python3"
  },
  "language_info": {
   "codemirror_mode": {
    "name": "ipython",
    "version": 3
   },
   "file_extension": ".py",
   "mimetype": "text/x-python",
   "name": "python",
   "nbconvert_exporter": "python",
   "pygments_lexer": "ipython3",
   "version": "3.8.8"
  }
 },
 "nbformat": 4,
 "nbformat_minor": 5
}
