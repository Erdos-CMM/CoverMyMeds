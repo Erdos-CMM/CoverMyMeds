{
 "cells": [
  {
   "cell_type": "markdown",
   "id": "f018ebb0",
   "metadata": {},
   "source": [
    "# Data Quality \n",
    "\n",
    "Some simple tests checking the quality of our data."
   ]
  },
  {
   "cell_type": "code",
   "execution_count": 1,
   "id": "68aba0d2",
   "metadata": {},
   "outputs": [],
   "source": [
    "import pandas as pd\n",
    "import numpy as np\n",
    "import seaborn as sns\n",
    "import matplotlib.pyplot as plt\n",
    "\n",
    "sns.set_theme(style=\"whitegrid\")\n",
    "sns.set(rc={'figure.figsize':(8.0,6.0)})"
   ]
  },
  {
   "cell_type": "code",
   "execution_count": 2,
   "id": "2f41e065",
   "metadata": {},
   "outputs": [],
   "source": [
    "data = pd.read_csv('../data/training/train.csv',index_col=0, parse_dates=True)"
   ]
  },
  {
   "cell_type": "markdown",
   "id": "866ae577",
   "metadata": {},
   "source": [
    "## Do we have any time gaps in our data? \n",
    "i.e. do we have information from 2017 - 2021 without any weird gaps."
   ]
  },
  {
   "cell_type": "code",
   "execution_count": 3,
   "id": "9c4f8ce9",
   "metadata": {},
   "outputs": [],
   "source": [
    "data = pd.read_csv('../data/training/train.csv',index_col=1, parse_dates=True)"
   ]
  },
  {
   "cell_type": "code",
   "execution_count": null,
   "id": "e065c4a6",
   "metadata": {},
   "outputs": [],
   "source": []
  }
 ],
 "metadata": {
  "kernelspec": {
   "display_name": "Python 3",
   "language": "python",
   "name": "python3"
  },
  "language_info": {
   "codemirror_mode": {
    "name": "ipython",
    "version": 3
   },
   "file_extension": ".py",
   "mimetype": "text/x-python",
   "name": "python",
   "nbconvert_exporter": "python",
   "pygments_lexer": "ipython3",
   "version": "3.8.8"
  }
 },
 "nbformat": 4,
 "nbformat_minor": 5
}
