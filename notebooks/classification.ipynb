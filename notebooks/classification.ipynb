{
 "cells": [
  {
   "cell_type": "code",
   "execution_count": 1,
   "id": "5b334364",
   "metadata": {},
   "outputs": [],
   "source": [
    "import numpy as np\n",
    "import pandas as pd \n",
    "import matplotlib.pyplot as plt\n",
    "import seaborn as sns \n",
    "\n",
    "sns.set_theme(style='whitegrid')"
   ]
  },
  {
   "cell_type": "code",
   "execution_count": 2,
   "id": "122dcd55",
   "metadata": {},
   "outputs": [],
   "source": [
    "data = pd.read_csv('../data/processed_data/processed_data.csv')"
   ]
  },
  {
   "cell_type": "markdown",
   "id": "226441f4",
   "metadata": {},
   "source": [
    "### Linear Discriminant Analysis"
   ]
  },
  {
   "cell_type": "code",
   "execution_count": 3,
   "id": "52133a96",
   "metadata": {},
   "outputs": [],
   "source": [
    "\n",
    "#importing the model for train test split\n",
    "from sklearn.model_selection import train_test_split \n",
    "from sklearn.model_selection import StratifiedKFold\n",
    "from sklearn.base import clone"
   ]
  },
  {
   "cell_type": "code",
   "execution_count": 4,
   "id": "0ad9eec7",
   "metadata": {},
   "outputs": [],
   "source": [
    "#making train test split\n",
    "\n",
    "data_trian, data_test = train_test_split(data,shuffle=True, test_size=0.2,stratify=data.pharmacy_claim_approved , random_state=345)"
   ]
  },
  {
   "cell_type": "code",
   "execution_count": 5,
   "id": "22f8fd7d",
   "metadata": {},
   "outputs": [],
   "source": [
    "#importing classification model\n",
    "\n",
    "from sklearn.discriminant_analysis import LinearDiscriminantAnalysis \n",
    "\n",
    "#import metric to measure performance of the classification model\n",
    "\n",
    "from sklearn.metrics import roc_auc_score\n",
    "from sklearn.metrics import accuracy_score"
   ]
  },
  {
   "cell_type": "code",
   "execution_count": 57,
   "id": "6f8ad08c",
   "metadata": {},
   "outputs": [],
   "source": [
    "#more metrics\n",
    "\n",
    "from sklearn.metrics import confusion_matrix\n",
    "from sklearn.metrics import precision_score\n",
    "from sklearn.metrics import recall_score"
   ]
  },
  {
   "cell_type": "code",
   "execution_count": 6,
   "id": "fd95cfdb",
   "metadata": {},
   "outputs": [],
   "source": [
    "#making model object \n",
    "\n",
    "lda = LinearDiscriminantAnalysis()"
   ]
  },
  {
   "cell_type": "code",
   "execution_count": 7,
   "id": "b71c9fe4",
   "metadata": {},
   "outputs": [],
   "source": [
    "#choosing the feature for classification \n",
    "\n",
    "\n",
    "X_train = data_trian[['bin','drug']].copy()\n",
    "\n",
    "y_train = data_trian['pharmacy_claim_approved'].copy()"
   ]
  },
  {
   "cell_type": "code",
   "execution_count": 8,
   "id": "5515618c",
   "metadata": {},
   "outputs": [],
   "source": [
    "#Chaning categorical variables to numerical variables \n",
    "\n",
    "X_train['bin_class']=pd.factorize(X_train['bin'])[0]\n",
    "X_train['drug_class']=pd.factorize(X_train['drug'])[0]"
   ]
  },
  {
   "cell_type": "code",
   "execution_count": 9,
   "id": "0ad76d39",
   "metadata": {},
   "outputs": [],
   "source": [
    "#cross validation of linear discreminant analysis\n",
    "\n",
    "#make kfold object\n",
    "\n",
    "kfold = StratifiedKFold(n_splits=5, shuffle=True, random_state=323) \n",
    "\n",
    "#define array to store cross validation results\n",
    "\n",
    "roc_cvs = np.zeros(5)\n",
    "acs_cvs = np.zeros(5) \n",
    "\n",
    "i=0 \n",
    "for train_index, test_index in kfold.split(X_train, y_train):\n",
    "    X_train_train = X_train.iloc[train_index]\n",
    "    X_holdout = X_train.iloc[test_index]\n",
    "    y_train_train = y_train.iloc[train_index]\n",
    "    y_holdout = y_train.iloc[test_index] \n",
    "    \n",
    "    lda_clone = clone(lda)\n",
    "    lda_clone.fit(X_train_train[['bin_class','drug_class']],y_train_train)\n",
    "    y_pred = lda_clone.predict(X_holdout[['bin_class','drug_class']])\n",
    "    y_pred_pro = lda_clone.predict_proba(X_holdout[['bin_class','drug_class']])\n",
    "    roc_cvs[i] = roc_auc_score(pd.get_dummies(y_holdout),y_pred_pro)\n",
    "    acs_cvs[i] = accuracy_score(y_holdout,y_pred)\n",
    "    i=i+1\n"
   ]
  },
  {
   "cell_type": "code",
   "execution_count": 10,
   "id": "9e67411e",
   "metadata": {},
   "outputs": [
    {
     "data": {
      "text/plain": [
       "array([0.49061966, 0.48977679, 0.49247392, 0.48922582, 0.48740927])"
      ]
     },
     "execution_count": 10,
     "metadata": {},
     "output_type": "execute_result"
    }
   ],
   "source": [
    "roc_cvs"
   ]
  },
  {
   "cell_type": "code",
   "execution_count": 11,
   "id": "25b316ca",
   "metadata": {},
   "outputs": [
    {
     "data": {
      "text/plain": [
       "array([0.58373734, 0.58373734, 0.58373734, 0.58373734, 0.58373734])"
      ]
     },
     "execution_count": 11,
     "metadata": {},
     "output_type": "execute_result"
    }
   ],
   "source": [
    "acs_cvs"
   ]
  },
  {
   "cell_type": "code",
   "execution_count": 12,
   "id": "f1e91cac",
   "metadata": {
    "scrolled": true
   },
   "outputs": [
    {
     "data": {
      "text/plain": [
       "array([1])"
      ]
     },
     "execution_count": 12,
     "metadata": {},
     "output_type": "execute_result"
    }
   ],
   "source": [
    "np.unique(y_pred)"
   ]
  },
  {
   "cell_type": "markdown",
   "id": "c46ecac1",
   "metadata": {},
   "source": [
    "### KNN classification"
   ]
  },
  {
   "cell_type": "code",
   "execution_count": 13,
   "id": "93e1865b",
   "metadata": {},
   "outputs": [],
   "source": [
    "#import the model\n",
    "\n",
    "from sklearn.neighbors import KNeighborsClassifier"
   ]
  },
  {
   "cell_type": "code",
   "execution_count": 15,
   "id": "405cc225",
   "metadata": {},
   "outputs": [],
   "source": [
    "#make model object\n",
    "\n",
    "knn = KNeighborsClassifier()"
   ]
  },
  {
   "cell_type": "code",
   "execution_count": 58,
   "id": "2acc6054",
   "metadata": {},
   "outputs": [],
   "source": [
    "kfold = StratifiedKFold(n_splits=5, shuffle=True, random_state=323) \n",
    "\n",
    "#define array to store cross validation results\n",
    "\n",
    "knn_roc_cvs = np.zeros(5)\n",
    "knn_acs_cvs = np.zeros(5)\n",
    "knn_prs_cvs = np.zeros(5)\n",
    "\n",
    "i=0 \n",
    "for train_index, test_index in kfold.split(X_train, y_train):\n",
    "    X_train_train = X_train.iloc[train_index]\n",
    "    X_holdout = X_train.iloc[test_index]\n",
    "    y_train_train = y_train.iloc[train_index]\n",
    "    y_holdout = y_train.iloc[test_index] \n",
    "    \n",
    "    knn_clone = clone(knn)\n",
    "    knn_clone.fit(X_train_train[['bin_class','drug_class']],y_train_train)\n",
    "    y_pred = knn_clone.predict(X_holdout[['bin_class','drug_class']])\n",
    "    y_pred_pro = knn_clone.predict_proba(X_holdout[['bin_class','drug_class']])\n",
    "    knn_roc_cvs[i] = roc_auc_score(pd.get_dummies(y_holdout),y_pred_pro)\n",
    "    knn_acs_cvs[i] = accuracy_score(y_holdout,y_pred)\n",
    "    knn_prs_cvs[i] = precision_score(y_holdout,y_pred)\n",
    "    i=i+1"
   ]
  },
  {
   "cell_type": "code",
   "execution_count": 59,
   "id": "7cf33aa2",
   "metadata": {},
   "outputs": [
    {
     "data": {
      "text/plain": [
       "0.9222776027343098"
      ]
     },
     "execution_count": 59,
     "metadata": {},
     "output_type": "execute_result"
    }
   ],
   "source": [
    "knn_roc_cvs.mean()"
   ]
  },
  {
   "cell_type": "code",
   "execution_count": 60,
   "id": "db99fa47",
   "metadata": {},
   "outputs": [
    {
     "data": {
      "text/plain": [
       "0.9353490069820115"
      ]
     },
     "execution_count": 60,
     "metadata": {},
     "output_type": "execute_result"
    }
   ],
   "source": [
    "knn_acs_cvs.mean()"
   ]
  },
  {
   "cell_type": "code",
   "execution_count": 61,
   "id": "42fbb7b0",
   "metadata": {},
   "outputs": [
    {
     "data": {
      "text/plain": [
       "0.9002897943796848"
      ]
     },
     "execution_count": 61,
     "metadata": {},
     "output_type": "execute_result"
    }
   ],
   "source": [
    "knn_prs_cvs.mean()"
   ]
  },
  {
   "cell_type": "code",
   "execution_count": 63,
   "id": "fa5ae729",
   "metadata": {},
   "outputs": [
    {
     "name": "stdout",
     "output_type": "stream",
     "text": [
      "the average cross validation ROC AUC score for KNN classification is 0.9223\n",
      "\n",
      "the average cross validation accuracy score for KNN classification is 0.9353\n",
      "\n",
      "the average cross validation precision score for KNN classification is 0.9003\n"
     ]
    }
   ],
   "source": [
    "print('the average cross validation ROC AUC score for KNN classification is', np.round(knn_roc_cvs.mean(),4))\n",
    "print('')\n",
    "print('the average cross validation accuracy score for KNN classification is', np.round(knn_acs_cvs.mean(),4))\n",
    "print('')\n",
    "print('the average cross validation precision score for KNN classification is', np.round(knn_prs_cvs.mean(),4))"
   ]
  },
  {
   "cell_type": "code",
   "execution_count": 22,
   "id": "61b8ac0e",
   "metadata": {},
   "outputs": [],
   "source": [
    "#measuring other metrices for the classification on the last train test split of cross validation\n",
    "\n",
    "conf_mat = confusion_matrix(y_holdout,y_pred)\n",
    "\n",
    "prs = precision_score(y_holdout,y_pred) \n",
    "\n",
    "recall = recall_score(y_holdout,y_pred)"
   ]
  },
  {
   "cell_type": "code",
   "execution_count": 23,
   "id": "81d8be37",
   "metadata": {},
   "outputs": [
    {
     "data": {
      "text/plain": [
       "0.9004612752564445"
      ]
     },
     "execution_count": 23,
     "metadata": {},
     "output_type": "execute_result"
    }
   ],
   "source": [
    "prs"
   ]
  },
  {
   "cell_type": "code",
   "execution_count": 24,
   "id": "65b981b2",
   "metadata": {},
   "outputs": [
    {
     "data": {
      "text/plain": [
       "1.0"
      ]
     },
     "execution_count": 24,
     "metadata": {},
     "output_type": "execute_result"
    }
   ],
   "source": [
    "recall"
   ]
  },
  {
   "cell_type": "markdown",
   "id": "1a53f8c0",
   "metadata": {},
   "source": [
    "### Decision tree classifier"
   ]
  },
  {
   "cell_type": "code",
   "execution_count": 27,
   "id": "620ce6b0",
   "metadata": {},
   "outputs": [],
   "source": [
    "#import the model \n",
    "\n",
    "from sklearn import tree\n",
    "\n",
    "from sklearn.tree import DecisionTreeClassifier"
   ]
  },
  {
   "cell_type": "code",
   "execution_count": 64,
   "id": "ca85b5f0",
   "metadata": {},
   "outputs": [],
   "source": [
    "depthes = [1,2,3,4,5,6,7,8,9,10]\n",
    "\n",
    "dt_acs = np.zeros((5,len(depthes)))\n",
    "dt_roc_aucs = np.zeros((5,len(depthes)))\n",
    "dt_prs = np.zeros((5,len(depthes)))\n",
    "\n",
    "i=0 \n",
    "for train_index, test_index in kfold.split(X_train, y_train):\n",
    "    X_train_train = X_train.iloc[train_index]\n",
    "    X_holdout = X_train.iloc[test_index]\n",
    "    y_train_train = y_train.iloc[train_index]\n",
    "    y_holdout = y_train.iloc[test_index] \n",
    "    \n",
    "    j=0\n",
    "    for depth in depthes:\n",
    "        \n",
    "        tree_clf = DecisionTreeClassifier(max_depth=depth) \n",
    "        \n",
    "        tree_clf.fit(X_train_train[['bin_class','drug_class']], y_train_train) \n",
    "\n",
    "        y_pred = tree_clf.predict(X_holdout[['bin_class','drug_class']]) \n",
    "        y_pred_prob = tree_clf.predict_proba(X_holdout[['bin_class','drug_class']]) \n",
    "        dt_acs[i,j]=accuracy_score(y_pred,y_holdout)\n",
    "        dt_roc_aucs[i,j]=roc_auc_score(pd.get_dummies(y_holdout),y_pred_prob)\n",
    "        dt_prs[i,j]=precision_score(y_pred,y_holdout)\n",
    "        j=j+1\n",
    "    i=i+1\n",
    "    "
   ]
  },
  {
   "cell_type": "code",
   "execution_count": 44,
   "id": "be6291ca",
   "metadata": {
    "scrolled": true
   },
   "outputs": [
    {
     "data": {
      "text/plain": [
       "array([0.7161803 , 0.79987271, 0.8433961 , 0.90874998, 0.93534901,\n",
       "       0.93534901, 0.93534901, 0.93534901, 0.93534901, 0.93534901])"
      ]
     },
     "execution_count": 44,
     "metadata": {},
     "output_type": "execute_result"
    }
   ],
   "source": [
    "np.mean(dt_acs,axis=0)"
   ]
  },
  {
   "cell_type": "code",
   "execution_count": 55,
   "id": "bf479f78",
   "metadata": {},
   "outputs": [
    {
     "name": "stdout",
     "output_type": "stream",
     "text": [
      "the maximum depth that gives best accuracy score is 5\n",
      "\n",
      "the highest accuracy score is 0.9353\n"
     ]
    }
   ],
   "source": [
    "print('the maximum depth that gives best accuracy score is', depthes[np.argmax(np.mean(dt_acs,axis=0))])\n",
    "print('')\n",
    "print('the highest accuracy score is', np.round(np.max(np.mean(dt_acs,axis=0)),4))"
   ]
  },
  {
   "cell_type": "code",
   "execution_count": 51,
   "id": "cbc7aa58",
   "metadata": {},
   "outputs": [
    {
     "data": {
      "text/plain": [
       "array([0.67591048, 0.85390572, 0.89751601, 0.92063663, 0.92243017,\n",
       "       0.92243017, 0.92243017, 0.92243017, 0.92243017, 0.92243017])"
      ]
     },
     "execution_count": 51,
     "metadata": {},
     "output_type": "execute_result"
    }
   ],
   "source": [
    "np.mean(dt_roc_aucs,axis=0)"
   ]
  },
  {
   "cell_type": "code",
   "execution_count": 56,
   "id": "b44622d3",
   "metadata": {},
   "outputs": [
    {
     "name": "stdout",
     "output_type": "stream",
     "text": [
      "the maximum depth that gives best ROC AUC score is 5\n",
      "\n",
      "the highest ROC AUC score is 0.9224\n"
     ]
    }
   ],
   "source": [
    "print('the maximum depth that gives best ROC AUC score is', depthes[np.argmax(np.mean(dt_roc_aucs,axis=0))])\n",
    "print('')\n",
    "print('the highest ROC AUC score is', np.round(np.max(np.mean(dt_roc_aucs,axis=0)),4))"
   ]
  },
  {
   "cell_type": "code",
   "execution_count": 66,
   "id": "d84e1d95",
   "metadata": {},
   "outputs": [
    {
     "data": {
      "text/plain": [
       "array([0.91636364, 0.73921437, 0.82285073, 0.94873176, 1.        ,\n",
       "       1.        , 1.        , 1.        , 1.        , 1.        ])"
      ]
     },
     "execution_count": 66,
     "metadata": {},
     "output_type": "execute_result"
    }
   ],
   "source": [
    "np.mean(dt_prs,axis=0)"
   ]
  },
  {
   "cell_type": "code",
   "execution_count": 67,
   "id": "03a68234",
   "metadata": {},
   "outputs": [
    {
     "name": "stdout",
     "output_type": "stream",
     "text": [
      "the maximum depth that gives best precision score is 5\n",
      "\n",
      "the highest precision score is 1.0\n"
     ]
    }
   ],
   "source": [
    "print('the maximum depth that gives best precision score is', depthes[np.argmax(np.mean(dt_prs,axis=0))])\n",
    "print('')\n",
    "print('the highest precision score is', np.round(np.max(np.mean(dt_prs,axis=0)),4))"
   ]
  },
  {
   "cell_type": "code",
   "execution_count": null,
   "id": "a339ce1b",
   "metadata": {},
   "outputs": [],
   "source": []
  }
 ],
 "metadata": {
  "kernelspec": {
   "display_name": "Python 3",
   "language": "python",
   "name": "python3"
  },
  "language_info": {
   "codemirror_mode": {
    "name": "ipython",
    "version": 3
   },
   "file_extension": ".py",
   "mimetype": "text/x-python",
   "name": "python",
   "nbconvert_exporter": "python",
   "pygments_lexer": "ipython3",
   "version": "3.8.8"
  }
 },
 "nbformat": 4,
 "nbformat_minor": 5
}
