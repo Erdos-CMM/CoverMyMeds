{
 "cells": [
  {
   "cell_type": "code",
   "execution_count": null,
   "id": "11e7ead6-f367-42e6-b167-5cc295fbbab8",
   "metadata": {},
   "outputs": [],
   "source": [
    "import numpy as np\n",
    "import pandas as pd\n",
    "from pandas_profiling import ProfileReport"
   ]
  },
  {
   "cell_type": "code",
   "execution_count": null,
   "id": "03dd0a30-f71e-4475-b90b-4887e304db7d",
   "metadata": {},
   "outputs": [],
   "source": [
    "df1 = pd.read_csv('dim_date.csv')\n",
    "df2 = pd.read_csv('dim_claims.csv')\n",
    "df3 = pd.read_csv('dim_pa.csv')\n",
    "df4 = pd.read_csv('bridge.csv')"
   ]
  },
  {
   "cell_type": "code",
   "execution_count": null,
   "id": "ba9fc80a-346b-4840-95bb-a88c1222949d",
   "metadata": {},
   "outputs": [],
   "source": [
    "prof1 = ProfileReport(df1)"
   ]
  },
  {
   "cell_type": "code",
   "execution_count": null,
   "id": "62d453bc-3ba2-44f5-8be5-36b927f40ad5",
   "metadata": {},
   "outputs": [],
   "source": [
    "Profile"
   ]
  }
 ],
 "metadata": {
  "kernelspec": {
   "display_name": "Python 3",
   "language": "python",
   "name": "python3"
  },
  "language_info": {
   "codemirror_mode": {
    "name": "ipython",
    "version": 3
   },
   "file_extension": ".py",
   "mimetype": "text/x-python",
   "name": "python",
   "nbconvert_exporter": "python",
   "pygments_lexer": "ipython3",
   "version": "3.8.8"
  }
 },
 "nbformat": 4,
 "nbformat_minor": 5
}
